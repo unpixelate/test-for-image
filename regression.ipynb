{
 "cells": [
  {
   "cell_type": "markdown",
   "source": [
    "## Part II - Artificial Intelligence Basics: Regression"
   ],
   "metadata": {}
  },
  {
   "cell_type": "markdown",
   "source": [
    "**Learning outcome**\r\n",
    "\r\n",
    "- Learn and apply basic models for regression using sklearn and keras.\r\n",
    "- Learn techniques to achieve better result.\r\n",
    "\r\n",
    "Regression looks for relationships among variables. For example, you can observe several employees of some company and try to understand how their salaries depend on the features, such as experience, level of education, role, city they work in, and so on.\r\n",
    "\r\n",
    "This is a regression problem where data related to each employee represent one observation. The presumption is that the experience, education, role, and city are the independent features, and the salary of the employee depends on them.\r\n",
    "\r\n",
    "Similarly, you can try to establish a mathematical dependence of the prices of houses on their areas, numbers of bedrooms, distances to the city center, and so on.\r\n",
    "\r\n",
    "Generally, in regression analysis, you usually consider some phenomenon of interest and have a number of observations. Each observation has two or more features. Following the assumption that (at least) one of the features depends on the others, you try to establish a relation among them.\r\n",
    "\r\n",
    "The dependent features are called the dependent variables, outputs, or responses.\r\n",
    "\r\n",
    "The independent features are called the independent variables, inputs, or predictors.\r\n",
    "\r\n",
    "Regression problems usually have one continuous and unbounded dependent variable. The inputs, however, can be continuous, discrete, or even categorical data such as gender, nationality, brand, and so on.\r\n",
    "\r\n",
    "It is a common practice to denote the outputs with 𝑦 and inputs with 𝑥. If there are two or more independent variables, they can be represented as the vector 𝐱 = (𝑥₁, …, 𝑥ᵣ), where 𝑟 is the number of inputs.\r\n",
    "\r\n",
    "**When do you need regression?**\r\n",
    "Typically, you need regression to answer whether and how some phenomenon influences the other or how several variables are related. For example, you can use it to determine if and to what extent the experience or gender impact salaries.\r\n",
    "\r\n",
    "Regression is also useful when you want to forecast a response using a new set of predictors. For example, you could try to predict electricity consumption of a household for the next hour given the outdoor temperature, time of day, and number of residents in that household.\r\n",
    "\r\n",
    "Regression is used in many different fields: economy, computer science, social sciences, and so on. Its importance rises every day with the availability of large amounts of data and increased awareness of the practical value of data."
   ],
   "metadata": {}
  },
  {
   "cell_type": "markdown",
   "source": [
    "An important to note is that regression does not imply causation. It is easy to find examples of non-related data that, after a regression calculation, do pass all sorts of statistical tests. The following is a popular example that illustrates the concept of data-driven “causality”.\n",
    "\n",
    "![](./regression/regressionVCaus.png)\n",
    "\n",
    "It is often said that correlation does not imply causation, although, inadvertently, we sometimes make the mistake of supposing that there is a causal link between two variables that follow a certain common pattern\n"
   ],
   "metadata": {}
  },
  {
   "cell_type": "markdown",
   "source": [
    "\r\n",
    "**Dataset: \"Alumni Giving Regression (Edited).csv\"**\r\n",
    "\r\n",
    "You can obtain the data set from this link:\r\n",
    "```\r\n",
    "https://www.dropbox.com/s/veak3ugc4wj9luz/Alumni%20Giving%20Regression%20%28Edited%29.csv?dl=0.\r\n",
    "```\r\n",
    "\r\n",
    "Also, you may run the following code in order to download the dataset in `google colab`: \r\n",
    "\r\n",
    "```\r\n",
    "!wget https://www.dropbox.com/s/veak3ugc4wj9luz/Alumni%20Giving%20Regression%20%28Edited%29.csv?dl=0 -O \r\n",
    "--quiet  \"./Alumni Giving Regression (Edited).csv\"\r\n",
    " \r\n",
    "```"
   ],
   "metadata": {}
  },
  {
   "cell_type": "markdown",
   "source": [
    "```\n",
    "!wget https://www.dropbox.com/s/veak3ugc4wj9luz/Alumni%20Giving%20Regression%20%28Edited%29.csv?dl=0 -O -quiet  \"./Alumni Giving Regression (Edited).csv\"\n",
    "```"
   ],
   "metadata": {}
  },
  {
   "cell_type": "code",
   "execution_count": 1,
   "source": [
    "# Importing libraries needed\r\n",
    "# Note that keras is generally used for deep learning as well\r\n",
    "from keras.models import Sequential\r\n",
    "from keras.layers import Dense, Dropout\r\n",
    "from sklearn.metrics import classification_report, confusion_matrix\r\n",
    "from sklearn.model_selection import train_test_split\r\n",
    "from sklearn.metrics import mean_squared_error\r\n",
    "import numpy as np\r\n",
    "from sklearn import linear_model\r\n",
    "from sklearn import preprocessing\r\n",
    "from sklearn import tree\r\n",
    "from sklearn.ensemble import RandomForestRegressor,GradientBoostingRegressor\r\n",
    "import pandas as pd\r\n",
    "import csv"
   ],
   "outputs": [
    {
     "output_type": "stream",
     "name": "stderr",
     "text": [
      "Using TensorFlow backend.\n"
     ]
    }
   ],
   "metadata": {}
  },
  {
   "cell_type": "markdown",
   "source": [
    "In general, we will import dataset for structured dataset using pandas. We will also demostrate the code for loading dataset using numpy to show the differences between both libraries. Here, we are using a method in pandas call `read_csv` which takes the path of a csv file. `'CS'` in `CSV` represents comma separated. Thus, if you open up the file in excel, you would see values separated by commas.  "
   ],
   "metadata": {}
  },
  {
   "cell_type": "code",
   "execution_count": 2,
   "source": [
    "np.random.seed(7)\r\n",
    "df = pd.read_csv(\"Alumni Giving Regression (Edited).csv\", delimiter=\",\" )\r\n",
    "df.head()"
   ],
   "outputs": [
    {
     "output_type": "execute_result",
     "data": {
      "text/html": [
       "<div>\n",
       "<style scoped>\n",
       "    .dataframe tbody tr th:only-of-type {\n",
       "        vertical-align: middle;\n",
       "    }\n",
       "\n",
       "    .dataframe tbody tr th {\n",
       "        vertical-align: top;\n",
       "    }\n",
       "\n",
       "    .dataframe thead th {\n",
       "        text-align: right;\n",
       "    }\n",
       "</style>\n",
       "<table border=\"1\" class=\"dataframe\">\n",
       "  <thead>\n",
       "    <tr style=\"text-align: right;\">\n",
       "      <th></th>\n",
       "      <th>A</th>\n",
       "      <th>B</th>\n",
       "      <th>C</th>\n",
       "      <th>D</th>\n",
       "      <th>E</th>\n",
       "      <th>F</th>\n",
       "    </tr>\n",
       "  </thead>\n",
       "  <tbody>\n",
       "    <tr>\n",
       "      <th>0</th>\n",
       "      <td>24</td>\n",
       "      <td>0.42</td>\n",
       "      <td>0.16</td>\n",
       "      <td>0.59</td>\n",
       "      <td>0.81</td>\n",
       "      <td>0.08</td>\n",
       "    </tr>\n",
       "    <tr>\n",
       "      <th>1</th>\n",
       "      <td>19</td>\n",
       "      <td>0.49</td>\n",
       "      <td>0.04</td>\n",
       "      <td>0.37</td>\n",
       "      <td>0.69</td>\n",
       "      <td>0.11</td>\n",
       "    </tr>\n",
       "    <tr>\n",
       "      <th>2</th>\n",
       "      <td>18</td>\n",
       "      <td>0.24</td>\n",
       "      <td>0.17</td>\n",
       "      <td>0.66</td>\n",
       "      <td>0.87</td>\n",
       "      <td>0.31</td>\n",
       "    </tr>\n",
       "    <tr>\n",
       "      <th>3</th>\n",
       "      <td>8</td>\n",
       "      <td>0.74</td>\n",
       "      <td>0.00</td>\n",
       "      <td>0.81</td>\n",
       "      <td>0.88</td>\n",
       "      <td>0.11</td>\n",
       "    </tr>\n",
       "    <tr>\n",
       "      <th>4</th>\n",
       "      <td>8</td>\n",
       "      <td>0.95</td>\n",
       "      <td>0.00</td>\n",
       "      <td>0.86</td>\n",
       "      <td>0.92</td>\n",
       "      <td>0.28</td>\n",
       "    </tr>\n",
       "  </tbody>\n",
       "</table>\n",
       "</div>"
      ],
      "text/plain": [
       "    A     B     C     D     E     F\n",
       "0  24  0.42  0.16  0.59  0.81  0.08\n",
       "1  19  0.49  0.04  0.37  0.69  0.11\n",
       "2  18  0.24  0.17  0.66  0.87  0.31\n",
       "3   8  0.74  0.00  0.81  0.88  0.11\n",
       "4   8  0.95  0.00  0.86  0.92  0.28"
      ]
     },
     "metadata": {},
     "execution_count": 2
    }
   ],
   "metadata": {
    "colab": {
     "base_uri": "https://localhost:8080/"
    },
    "executionInfo": {
     "elapsed": 12002,
     "status": "ok",
     "timestamp": 1606442260116,
     "user": {
      "displayName": "Zheng Rong",
      "photoUrl": "",
      "userId": "15933078287186103415"
     },
     "user_tz": -480
    },
    "id": "Ce1il03S6_Te",
    "outputId": "cf31209f-5975-49e1-f078-de26f2dc3011",
    "tags": []
   }
  },
  {
   "cell_type": "markdown",
   "source": [
    "In pandas, it is very convenient to handle numerical data. Before doing any model, it is good to take a look at some of the dataset's statistics to get a 'feel' of the data.\n",
    "Here, we can simple call df.describe which is a method in pandas `dataframe`"
   ],
   "metadata": {}
  },
  {
   "cell_type": "code",
   "execution_count": 3,
   "source": [
    "df.describe()"
   ],
   "outputs": [
    {
     "output_type": "execute_result",
     "data": {
      "text/html": [
       "<div>\n",
       "<style scoped>\n",
       "    .dataframe tbody tr th:only-of-type {\n",
       "        vertical-align: middle;\n",
       "    }\n",
       "\n",
       "    .dataframe tbody tr th {\n",
       "        vertical-align: top;\n",
       "    }\n",
       "\n",
       "    .dataframe thead th {\n",
       "        text-align: right;\n",
       "    }\n",
       "</style>\n",
       "<table border=\"1\" class=\"dataframe\">\n",
       "  <thead>\n",
       "    <tr style=\"text-align: right;\">\n",
       "      <th></th>\n",
       "      <th>A</th>\n",
       "      <th>B</th>\n",
       "      <th>C</th>\n",
       "      <th>D</th>\n",
       "      <th>E</th>\n",
       "      <th>F</th>\n",
       "    </tr>\n",
       "  </thead>\n",
       "  <tbody>\n",
       "    <tr>\n",
       "      <th>count</th>\n",
       "      <td>123.000000</td>\n",
       "      <td>123.000000</td>\n",
       "      <td>123.000000</td>\n",
       "      <td>123.000000</td>\n",
       "      <td>123.000000</td>\n",
       "      <td>123.000000</td>\n",
       "    </tr>\n",
       "    <tr>\n",
       "      <th>mean</th>\n",
       "      <td>17.772358</td>\n",
       "      <td>0.403659</td>\n",
       "      <td>0.136260</td>\n",
       "      <td>0.645203</td>\n",
       "      <td>0.841138</td>\n",
       "      <td>0.141789</td>\n",
       "    </tr>\n",
       "    <tr>\n",
       "      <th>std</th>\n",
       "      <td>4.517385</td>\n",
       "      <td>0.133897</td>\n",
       "      <td>0.060101</td>\n",
       "      <td>0.169794</td>\n",
       "      <td>0.083942</td>\n",
       "      <td>0.080674</td>\n",
       "    </tr>\n",
       "    <tr>\n",
       "      <th>min</th>\n",
       "      <td>6.000000</td>\n",
       "      <td>0.140000</td>\n",
       "      <td>0.000000</td>\n",
       "      <td>0.260000</td>\n",
       "      <td>0.580000</td>\n",
       "      <td>0.020000</td>\n",
       "    </tr>\n",
       "    <tr>\n",
       "      <th>25%</th>\n",
       "      <td>16.000000</td>\n",
       "      <td>0.320000</td>\n",
       "      <td>0.095000</td>\n",
       "      <td>0.505000</td>\n",
       "      <td>0.780000</td>\n",
       "      <td>0.080000</td>\n",
       "    </tr>\n",
       "    <tr>\n",
       "      <th>50%</th>\n",
       "      <td>18.000000</td>\n",
       "      <td>0.380000</td>\n",
       "      <td>0.130000</td>\n",
       "      <td>0.640000</td>\n",
       "      <td>0.840000</td>\n",
       "      <td>0.130000</td>\n",
       "    </tr>\n",
       "    <tr>\n",
       "      <th>75%</th>\n",
       "      <td>20.000000</td>\n",
       "      <td>0.460000</td>\n",
       "      <td>0.180000</td>\n",
       "      <td>0.785000</td>\n",
       "      <td>0.910000</td>\n",
       "      <td>0.170000</td>\n",
       "    </tr>\n",
       "    <tr>\n",
       "      <th>max</th>\n",
       "      <td>31.000000</td>\n",
       "      <td>0.950000</td>\n",
       "      <td>0.310000</td>\n",
       "      <td>0.960000</td>\n",
       "      <td>0.980000</td>\n",
       "      <td>0.410000</td>\n",
       "    </tr>\n",
       "  </tbody>\n",
       "</table>\n",
       "</div>"
      ],
      "text/plain": [
       "                A           B           C           D           E           F\n",
       "count  123.000000  123.000000  123.000000  123.000000  123.000000  123.000000\n",
       "mean    17.772358    0.403659    0.136260    0.645203    0.841138    0.141789\n",
       "std      4.517385    0.133897    0.060101    0.169794    0.083942    0.080674\n",
       "min      6.000000    0.140000    0.000000    0.260000    0.580000    0.020000\n",
       "25%     16.000000    0.320000    0.095000    0.505000    0.780000    0.080000\n",
       "50%     18.000000    0.380000    0.130000    0.640000    0.840000    0.130000\n",
       "75%     20.000000    0.460000    0.180000    0.785000    0.910000    0.170000\n",
       "max     31.000000    0.950000    0.310000    0.960000    0.980000    0.410000"
      ]
     },
     "metadata": {},
     "execution_count": 3
    }
   ],
   "metadata": {}
  },
  {
   "cell_type": "markdown",
   "source": [
    "Furthermore, pandas provides a helpful method to calculate the pairwise correlation between 2 variable. What is correlation?\n",
    "\n",
    "The term \"correlation\" refers to a mutual relationship or association between quantities (numerical number). In almost any business, it is very helping to express one quantity in terms of its relationship with others. We are concerned with this because businesses plans and departments are not isolated! For example, sales might increase when the marketing department spends more on advertisements, or a customer's average purchase amount on a online site may depends on his or her characteristics. Often, correlation is the first step to understanding these relationships and subsequently building better business and statistical models.\n",
    "\n",
    "For example: 'D' and 'E' have a strong correlation of 0.93 which means that when D moves in the positive direction E is likely to move in that direction too. Here, notice that the correlation of `A` and `A` is 1. Of course, `A` would be perfectly correlated with `A`."
   ],
   "metadata": {}
  },
  {
   "cell_type": "code",
   "execution_count": 4,
   "source": [
    "corr=df.corr(method ='pearson')\r\n",
    "corr"
   ],
   "outputs": [
    {
     "output_type": "execute_result",
     "data": {
      "text/html": [
       "<div>\n",
       "<style scoped>\n",
       "    .dataframe tbody tr th:only-of-type {\n",
       "        vertical-align: middle;\n",
       "    }\n",
       "\n",
       "    .dataframe tbody tr th {\n",
       "        vertical-align: top;\n",
       "    }\n",
       "\n",
       "    .dataframe thead th {\n",
       "        text-align: right;\n",
       "    }\n",
       "</style>\n",
       "<table border=\"1\" class=\"dataframe\">\n",
       "  <thead>\n",
       "    <tr style=\"text-align: right;\">\n",
       "      <th></th>\n",
       "      <th>A</th>\n",
       "      <th>B</th>\n",
       "      <th>C</th>\n",
       "      <th>D</th>\n",
       "      <th>E</th>\n",
       "      <th>F</th>\n",
       "    </tr>\n",
       "  </thead>\n",
       "  <tbody>\n",
       "    <tr>\n",
       "      <th>A</th>\n",
       "      <td>1.000000</td>\n",
       "      <td>-0.691900</td>\n",
       "      <td>0.414978</td>\n",
       "      <td>-0.604574</td>\n",
       "      <td>-0.521985</td>\n",
       "      <td>-0.549244</td>\n",
       "    </tr>\n",
       "    <tr>\n",
       "      <th>B</th>\n",
       "      <td>-0.691900</td>\n",
       "      <td>1.000000</td>\n",
       "      <td>-0.581516</td>\n",
       "      <td>0.487248</td>\n",
       "      <td>0.376735</td>\n",
       "      <td>0.540427</td>\n",
       "    </tr>\n",
       "    <tr>\n",
       "      <th>C</th>\n",
       "      <td>0.414978</td>\n",
       "      <td>-0.581516</td>\n",
       "      <td>1.000000</td>\n",
       "      <td>0.017023</td>\n",
       "      <td>0.055766</td>\n",
       "      <td>-0.175102</td>\n",
       "    </tr>\n",
       "    <tr>\n",
       "      <th>D</th>\n",
       "      <td>-0.604574</td>\n",
       "      <td>0.487248</td>\n",
       "      <td>0.017023</td>\n",
       "      <td>1.000000</td>\n",
       "      <td>0.934396</td>\n",
       "      <td>0.681660</td>\n",
       "    </tr>\n",
       "    <tr>\n",
       "      <th>E</th>\n",
       "      <td>-0.521985</td>\n",
       "      <td>0.376735</td>\n",
       "      <td>0.055766</td>\n",
       "      <td>0.934396</td>\n",
       "      <td>1.000000</td>\n",
       "      <td>0.647625</td>\n",
       "    </tr>\n",
       "    <tr>\n",
       "      <th>F</th>\n",
       "      <td>-0.549244</td>\n",
       "      <td>0.540427</td>\n",
       "      <td>-0.175102</td>\n",
       "      <td>0.681660</td>\n",
       "      <td>0.647625</td>\n",
       "      <td>1.000000</td>\n",
       "    </tr>\n",
       "  </tbody>\n",
       "</table>\n",
       "</div>"
      ],
      "text/plain": [
       "          A         B         C         D         E         F\n",
       "A  1.000000 -0.691900  0.414978 -0.604574 -0.521985 -0.549244\n",
       "B -0.691900  1.000000 -0.581516  0.487248  0.376735  0.540427\n",
       "C  0.414978 -0.581516  1.000000  0.017023  0.055766 -0.175102\n",
       "D -0.604574  0.487248  0.017023  1.000000  0.934396  0.681660\n",
       "E -0.521985  0.376735  0.055766  0.934396  1.000000  0.647625\n",
       "F -0.549244  0.540427 -0.175102  0.681660  0.647625  1.000000"
      ]
     },
     "metadata": {},
     "execution_count": 4
    }
   ],
   "metadata": {}
  },
  {
   "cell_type": "markdown",
   "source": [
    "In general, we would need to test our model. `train_test_split` is a function in `Sklearn` model selection for splitting data arrays into two subsets for training data and\n",
    "for testing data. With this function, you don't need to divide the dataset manually. You can use from the function `train_test_split` using the following code `sklearn.model_selection import train_test_split`. By default, Sklearn train_test_split will make random partitions for the two subsets. However, you can also specify a random state for the operation.\n",
    "\n",
    "Here, take note that we will need to pass in the `X` and `Y` to the function. `X` refers to the `features` while `Y` refers to the `target` of the dataset."
   ],
   "metadata": {}
  },
  {
   "cell_type": "code",
   "execution_count": 5,
   "source": [
    "Y_POSITION = 5\r\n",
    "model_1_features = [i for i in range(0,Y_POSITION)]\r\n",
    "X = df.iloc[:,model_1_features]\r\n",
    "Y = df.iloc[:,Y_POSITION]\r\n",
    "# create model\r\n",
    "X_train, X_test, y_train, y_test = train_test_split(X, Y, test_size=0.20, random_state=2020)"
   ],
   "outputs": [],
   "metadata": {}
  },
  {
   "cell_type": "markdown",
   "source": [
    "### Linear regression"
   ],
   "metadata": {}
  },
  {
   "cell_type": "markdown",
   "source": [
    "Linear regression is a basic predictive analytics technique that uses historical data to predict an output variable. It is popular for predictive modelling because it is easily understood and can be explained using plain English.\r\n",
    "\r\n",
    "The basic idea is that if we can fit a linear regression model to observed data, we can then use the model to predict any future values. For example, let’s assume that we have found from historical data that the price (P) of a house is linearly dependent upon its size (S) — in fact, we found that a house’s price is exactly 90 times its size. The equation will look like this: `P = 90*S`\r\n",
    "\r\n",
    "With this model, we can then predict the cost of any house. If we have a house that is 1,500 square feet, we can calculate its price to be: `P = 90*1500 = $135,000`\r\n",
    "\r\n",
    "There are two kinds of variables in a linear regression model:\r\n",
    "\r\n",
    "- The input or predictor variable is the variable(s) that help predict the value of the output variable. It is commonly referred to as X.\r\n",
    "- The output variable is the variable that we want to predict. It is commonly referred to as Y.\r\n",
    "\r\n",
    "To estimate Y using linear regression, we assume the equation:\r\n",
    "Yₑ = α + β X\r\n",
    "where Yₑ is the estimated or predicted value of Y based on our linear equation.\r\n",
    "Our goal is to find statistically significant values of the parameters α and β that minimise the difference between Y and Yₑ.\r\n",
    "If we are able to determine the optimum values of these two parameters, then we will have the line of best fit that we can use to predict the values of Y, given the value of X.\r\n",
    "So, how do we estimate α and β? We can use a method called ordinary least squares.\r\n",
    "\r\n",
    "The objective of the least squares method is to find values of α and β that minimise the sum of the squared difference between Y and Yₑ. We will not delve into the mathematics of least squares in our book.\r\n",
    "\r\n",
    "Here, we notice that when `E` increases by 1, our `Y` increases by 0.175399. Also, when `C` increases by 1, our `Y` falls by 0.044160."
   ],
   "metadata": {},
   "attachments": {
    "linear_reg.png": {
     "image/png": "[encoded data removed]"
    }
   }
  },
  {
   "cell_type": "code",
   "execution_count": 6,
   "source": [
    "#Model 1 : linear regression\r\n",
    "\r\n",
    "model1 = linear_model.LinearRegression()\r\n",
    "model1.fit(X_train, y_train)\r\n",
    "y_pred_train1 = model1.predict(X_train)\r\n",
    "print(\"Regression\")\r\n",
    "print(\"================================\")\r\n",
    "RMSE_train1 = mean_squared_error(y_train,y_pred_train1)\r\n",
    "\r\n",
    "print(\"Regression Train set: RMSE {}\".format(RMSE_train1))\r\n",
    "print(\"================================\")\r\n",
    "y_pred1 = model1.predict(X_test)\r\n",
    "RMSE_test1 = mean_squared_error(y_test,y_pred1)\r\n",
    "print(\"Regression Test set: RMSE {}\".format(RMSE_test1))\r\n",
    "print(\"================================\")\r\n",
    "\r\n",
    "coef_dict = {}\r\n",
    "for coef, feat in zip(model1.coef_,model_1_features):\r\n",
    "    coef_dict[df.columns[feat]] = coef\r\n",
    "    \r\n",
    "print(coef_dict)"
   ],
   "outputs": [
    {
     "output_type": "stream",
     "name": "stdout",
     "text": [
      "Regression\n",
      "================================\n",
      "Regression Train set: RMSE 0.0027616933222892287\n",
      "================================\n",
      "Regression Test set: RMSE 0.0042098240263563754\n",
      "================================\n",
      "{'A': -0.0009337757382417014, 'B': 0.16012156890162915, 'C': -0.04416001542534971, 'D': 0.15217907817100398, 'E': 0.17539950794101034}\n"
     ]
    }
   ],
   "metadata": {}
  },
  {
   "cell_type": "markdown",
   "source": [
    "### Decision Tree Regression"
   ],
   "metadata": {}
  },
  {
   "cell_type": "markdown",
   "source": [
    "A decision tree is arriving at an estimate by asking a series of questions to the data, each question narrowing our possible values until the model get confident enough to make a single prediction. The order of the question as well as their content are being determined by the model. In addition, the questions asked  are all in a True/False form.\n",
    "\n",
    "This is a little tough to grasp because it is not how humans naturally think, and perhaps the best way to show this difference is to create a real decision tree from. In the above problem x1, x2 are two features which allow us to make predictions for the target variable y by asking True/False questions.\n",
    "\n",
    "![figure](./src/decision_tree_reg.png)\n",
    "\n",
    "\n",
    "The decision of making strategic splits heavily affects a tree’s accuracy. The decision criteria is different for classification and regression trees.Decision trees regression normally use mean squared error (MSE) to decide to split a node in two or more sub-nodes. Suppose we are doing a binary tree the algorithm first will pick a value, and split the data into two subset. For each subset, it will calculate the MSE separately. The tree chooses the value with results in smallest MSE value.\n",
    "\n",
    "Let's examine how is Splitting Decided for Decision Trees Regressor in more details. The first step to create a tree is to create the first binary decision. How are you going to do it?\n",
    "\n",
    "1. We need to pick a variable and the value to split on such that the two groups are as different from each other as possible.\n",
    "2. For each variable, for each possible value of the possible value of that variable see whether it is better.\n",
    "3. Take weighted average of two new nodes (mse*num_samples)\n",
    "\n",
    "To sum up, we now have:\n",
    "\n",
    "- A single number that represents how good a split is which is the weighted average of the mean squared errors of the two groups that create.\n",
    "- A way to find the best split which is to try every variable and to try every possible value of that variable and see which variable and which value gives us a split with the best score.\n",
    "\n",
    "Training of a decision tree regressor will stop when some stopping condition is met:\n",
    "\n",
    "1. When you hit a limit that was requested (for example: `max_depth`)\n",
    "2. When your leaf nodes only have one thing in them (no further split is possible, MSE for the train will be zero but will overfit for any other set -not a useful model)"
   ],
   "metadata": {},
   "attachments": {
    "decision_tree_reg.png": {
     "image/png": "[encoded data removed]"
    }
   }
  },
  {
   "cell_type": "code",
   "execution_count": 7,
   "source": [
    "#Model 2 decision tree\n",
    "model2 = tree.DecisionTreeRegressor()\n",
    "model2.fit(X_train, y_train)\n",
    "print(\"Decision Tree\")\n",
    "print(\"================================\")\n",
    "y_pred_train2 = model2.predict(X_train)\n",
    "RMSE_train2 = mean_squared_error(y_train,y_pred_train2)\n",
    "print(\"Decision Tree Train set: RMSE {}\".format(RMSE_train2))\n",
    "print(\"================================\")\n",
    "y_pred_test2 = model2.predict(X_test)\n",
    "RMSE_test2 = mean_squared_error(y_test,y_pred_test2)\n",
    "print(\"Decision Tree Test set: RMSE {}\".format(RMSE_test2))\n",
    "print(\"================================\")"
   ],
   "outputs": [
    {
     "output_type": "stream",
     "name": "stdout",
     "text": [
      "Decision Tree\n",
      "================================\n",
      "Decision Tree Train set: RMSE 1.4739259778473743e-36\n",
      "================================\n",
      "Decision Tree Test set: RMSE 0.008496\n",
      "================================\n"
     ]
    }
   ],
   "metadata": {}
  },
  {
   "cell_type": "markdown",
   "source": [
    "### Random Forests\n",
    "\n",
    "What is a Random Forest? And how does it differ from a Decision Tree?\n",
    "\n",
    "The fundamental concept behind random forest is a simple but powerful one — the wisdom of crowds. In data science speak, the reason that the random forest model works so well is: A large number of relatively uncorrelated models (trees) operating as a committee will outperform any of the individual constituent models.\n",
    "\n",
    "The low correlation between models is the key. Just like how investments with low correlations (like stocks and bonds) come together to form a portfolio that is greater than the sum of its parts, uncorrelated models can produce ensemble predictions that are more accurate than any of the individual predictions. The reason for this wonderful effect is that the trees protect each other from their individual errors (as long as they don’t constantly all err in the same direction). While some trees may be wrong, many other trees will be right, so as a group the trees are able to move in the correct direction. So the prerequisites for random forest to perform well are:\n",
    "1. There needs to be some actual signal in our features so that models built using those features do better than random guessing.\n",
    "2. The predictions (and therefore the errors) made by the individual trees need to have low correlations with each other.\n",
    "\n",
    "So how does random forest ensure that the behavior of each individual tree is not too correlated with the behavior of any of the other trees in the model? It uses the following two methods:\n",
    "1. Bagging (Bootstrap Aggregation) — Decisions trees are very sensitive to the data they are trained on — small changes to the training set can result in significantly different tree structures. Random forest takes advantage of this by allowing each individual tree to randomly sample from the dataset with replacement, resulting in different trees. This process is known as bagging.\n",
    "\n",
    "2. Feature Randomness — In a normal decision tree, when it is time to split a node, we consider every possible feature and pick the one that produces the most separation between the observations in the left node vs. those in the right node. In contrast, each tree in a random forest can pick only from a random subset of features. This forces even more variation amongst the trees in the model and ultimately results in lower correlation across trees and more diversification.\n",
    "\n",
    "As Random Forest is actually a collection of Decision Trees, this makes the algorithm slower and less effective for real-time predictions. In general, Random Forest can be fast to train, but quite slow to create predictions once they are trained. this is due to the fact that it has to run predictions on each individual tree and then average their predictions to create the final prediction.\n",
    "\n",
    "Each individual tree in the random forest spits out a class prediction and the class with the most votes becomes our model’s prediction Decision Trees do suffer from overfitting while Random Forest can prevent overfitting resulting in better prediction most of the time."
   ],
   "metadata": {}
  },
  {
   "cell_type": "code",
   "execution_count": 8,
   "source": [
    "#Model 3 Random Forest\n",
    "model3 = RandomForestRegressor()\n",
    "model3.fit(X_train, y_train)\n",
    "print(\"Random Forest Regressor\")\n",
    "print(\"================================\")\n",
    "y_pred_train3 = model3.predict(X_train)\n",
    "RMSE_train3 = mean_squared_error(y_train,y_pred_train3)\n",
    "print(\"Random Forest Regressor TrainSet: RMSE {}\".format(RMSE_train3))\n",
    "print(\"================================\")\n",
    "y_pred_test3 = model3.predict(X_test)\n",
    "RMSE_test3 = mean_squared_error(y_test,y_pred_test3)\n",
    "print(\"Random Forest Regressor TestSet: RMSE {}\".format(RMSE_test3))\n",
    "print(\"================================\")"
   ],
   "outputs": [
    {
     "output_type": "stream",
     "name": "stdout",
     "text": [
      "Random Forest Regressor\n",
      "================================\n",
      "Random Forest Regressor TrainSet: RMSE 0.0004964972448979589\n",
      "================================\n",
      "Random Forest Regressor TestSet: RMSE 0.004843255999999997\n",
      "================================\n"
     ]
    }
   ],
   "metadata": {}
  },
  {
   "cell_type": "markdown",
   "source": [
    "### Neural network\n",
    "\n",
    "Neural networks are the representation we make of the brain: neurons interconnected to other neurons which forms a network. A simple information transits in a lot of them before becoming an actual thing, like “move the hand to pick up this pencil”.\n",
    "\n",
    "The operation of a complete neural network is straightforward : one enter variables as inputs (for example an image if the neural network is supposed to tell what is on an image), and after some calculations, an output is returned (probability of whether an image is a cat).\n",
    "\n",
    "![figure](./src/neuralnet.png)\n",
    "\n",
    "when an input is given to the neural network, it returns an output. On the first try, it can’t get the right output by its own (except with luck) and that is why, during the learning phase, every inputs come with its label, explaining what output the neural network should have guessed. If the choice is the good one, actual parameters are kept and the next input is given. However, if the obtained output doesn’t match the label, weights are changed. Those are the only variables that can be changed during the learning phase. This process may be imagined as multiple buttons, that are turned into different possibilities every times an input isn’t guessed correctly. To determine which weight is better to modify, a particular process, called “backpropagation” is done.\n",
    "\n",
    "Below is the code to create a simple neural network in python:\n",
    "\n",
    "```python model.add(Dense(64, input_dim=Y_position, activation='relu'))\n",
    "```\n",
    "\n",
    "The following code is telling python to add a layer of 64 neurons in to the neural network. We can stack the models by adding more layers of neuron. Or we can simply increase the numer of neuron. This can be thought of as to increase the number of 'neurons' in one's brain and thereby improving one's learning ability."
   ],
   "metadata": {}
  },
  {
   "cell_type": "code",
   "execution_count": 10,
   "source": [
    "#Model 5: neural network\n",
    "print(\"Neural Network\")\n",
    "print(\"================================\")\n",
    "model = Sequential()\n",
    "model.add(Dense(64, input_dim=Y_POSITION, activation='relu'))\n",
    "model.add(Dense(64, activation='relu'))\n",
    "model.add(Dropout(0.2))\n",
    "model.add(Dense(1, activation='relu'))\n",
    "# Compile mode\n",
    "# https://www.tensorflow.org/guide/keras/train_and_evaluate\n",
    "model.compile(loss='MSE', optimizer='Adamax', metrics=['accuracy'])\n",
    "# Fit the model\n",
    "model.fit(X_train, y_train, epochs=300, batch_size=5, verbose=0)\n",
    "# evaluate the model\n",
    "predictions5 = model.predict(X_train)\n",
    "RMSE_train5 = mean_squared_error(y_train,predictions5)\n",
    "print(\"Neural Network TrainSet: RMSE {}\".format(RMSE_train5))\n",
    "print(\"==================================\")\n",
    "predictions5 = model.predict(X_test)\n",
    "RMSE_test5 = mean_squared_error(y_test,predictions5)\n",
    "print(\"Neural Network TestSet: RMSE {}\".format(RMSE_test5))\n",
    "print(\"================================\")"
   ],
   "outputs": [
    {
     "output_type": "stream",
     "name": "stdout",
     "text": [
      "Neural Network\n",
      "================================\n",
      "Neural Network TrainSet: RMSE 0.02496122448979592\n",
      "==================================\n",
      "Neural Network TestSet: RMSE 0.032824\n",
      "================================\n"
     ]
    }
   ],
   "metadata": {}
  },
  {
   "cell_type": "markdown",
   "source": [
    "### How to improve our regression model\n",
    "\n",
    "<div class=\"alert alert-block alert-warning\">\n",
    "    <b>Learning outcomes:</b>\n",
    "    <br>\n",
    "    <ul>\n",
    "        <li>Learn how to use simple feature selection techniques to improve our model.</li>\n",
    "        <li>Data cleaning to help improve our model's RMSE</li>\n",
    "    </ul>\n",
    "</div>"
   ],
   "metadata": {}
  },
  {
   "cell_type": "markdown",
   "source": [
    "#### Boxplot\n",
    "\n",
    "![figure](./src/Boxplot.png)\n",
    "\n",
    "A boxplot is a standardized way of displaying the distribution of data based on a five number summary (“minimum”, first quartile (Q1), median, third quartile (Q3), and “maximum”). It tells you about your outliers and what their values are. It can also tell you if your data is symmetrical, how tightly your data is grouped, and if and how your data is skewed.\n",
    "\n",
    "Here is an image which shows normal distribution on a boxplot:\n",
    "\n",
    "![figure](./src/boxplot_on_normal.png)\n",
    "\n",
    "\n",
    "<br>As seen, a boxplot is a great way to visualise your dataset. Now, let's try to remove the outliers using our boxplot plot. This can be easily achieve with pandas dataframe. But do note that the dataset should be numerical to do this.\n",
    "\n",
    "Code for boxplot:\n",
    "``` python\n",
    "boxplot = pd.DataFrame(dataset).boxplot()\n",
    "```"
   ],
   "metadata": {}
  },
  {
   "cell_type": "code",
   "execution_count": null,
   "source": [
    "import seaborn as sns\n",
    "import pandas as pd\n",
    "boxplot = pd.DataFrame(dataset).boxplot()"
   ],
   "outputs": [
    {
     "output_type": "display_data",
     "data": {
      "image/png": "[encoded data removed]",
      "text/plain": [
       "<Figure size 432x288 with 1 Axes>"
      ]
     },
     "metadata": {
      "needs_background": "light",
      "tags": []
     }
    }
   ],
   "metadata": {
    "colab": {
     "base_uri": "https://localhost:8080/",
     "height": 265
    },
    "executionInfo": {
     "elapsed": 2062,
     "status": "ok",
     "timestamp": 1605284579276,
     "user": {
      "displayName": "Zheng Rong",
      "photoUrl": "",
      "userId": "15933078287186103415"
     },
     "user_tz": -480
    },
    "id": "6O0f9sT8reyH",
    "outputId": "8c873ab9-e5d4-43ad-b57b-561617f43b5b"
   }
  },
  {
   "cell_type": "markdown",
   "source": [
    "As shown in the plot, there are values in column 0 that are outliers which are values that are extremely large or small. This can skew our dataset. A concequence of having outliers in our dataset is that our model can't learn the right parameters. Thus, it results in a poorer prediction."
   ],
   "metadata": {}
  },
  {
   "cell_type": "markdown",
   "source": [
    "#### Remove outlier\n",
    "\n",
    "The code removes outlier that is more than 99th percentile. Next, lets apply this on values lower than 1st percentile."
   ],
   "metadata": {
    "id": "8vhpLF19s2B7"
   }
  },
  {
   "cell_type": "code",
   "execution_count": 13,
   "source": [
    "quantile99 = df.iloc[:,0].quantile(0.99)\n",
    "df1 = df[df.iloc[:,0] < quantile99]\n",
    "df1.boxplot()"
   ],
   "outputs": [
    {
     "output_type": "execute_result",
     "data": {
      "text/plain": [
       "<matplotlib.axes._subplots.AxesSubplot at 0x1af88e4f108>"
      ]
     },
     "metadata": {},
     "execution_count": 13
    },
    {
     "output_type": "display_data",
     "data": {
      "image/png": "[encoded data removed]",
      "text/plain": [
       "<Figure size 432x288 with 1 Axes>"
      ]
     },
     "metadata": {
      "needs_background": "light"
     }
    }
   ],
   "metadata": {
    "colab": {
     "base_uri": "https://localhost:8080/"
    },
    "executionInfo": {
     "elapsed": 1439,
     "status": "ok",
     "timestamp": 1605284579279,
     "user": {
      "displayName": "Zheng Rong",
      "photoUrl": "",
      "userId": "15933078287186103415"
     },
     "user_tz": -480
    },
    "id": "JVIsXtKKs1ZS",
    "outputId": "262df1b0-32db-4408-f091-ae768ac85d69"
   }
  },
  {
   "cell_type": "markdown",
   "source": [
    "Here, we have removed the outliers from the data successfully. "
   ],
   "metadata": {}
  },
  {
   "cell_type": "code",
   "execution_count": 17,
   "source": [
    "quantile1 = df.iloc[:,0].quantile(0.01)\n",
    "quantile99 = df.iloc[:,0].quantile(0.99)\n",
    "df2 = df[(df.iloc[:,0] > quantile1) & (df.iloc[:,0] < quantile99)]\n",
    "df2.boxplot()"
   ],
   "outputs": [
    {
     "output_type": "execute_result",
     "data": {
      "text/plain": [
       "<matplotlib.axes._subplots.AxesSubplot at 0x1af8c38d308>"
      ]
     },
     "metadata": {},
     "execution_count": 17
    },
    {
     "output_type": "display_data",
     "data": {
      "image/png": "[encoded data removed]",
      "text/plain": [
       "<Figure size 432x288 with 1 Axes>"
      ]
     },
     "metadata": {
      "needs_background": "light"
     }
    }
   ],
   "metadata": {}
  },
  {
   "cell_type": "code",
   "execution_count": 18,
   "source": [
    "df2.shape"
   ],
   "outputs": [
    {
     "output_type": "execute_result",
     "data": {
      "text/plain": [
       "(118, 6)"
      ]
     },
     "metadata": {},
     "execution_count": 18
    }
   ],
   "metadata": {
    "colab": {
     "base_uri": "https://localhost:8080/"
    },
    "executionInfo": {
     "elapsed": 1246,
     "status": "ok",
     "timestamp": 1605284579280,
     "user": {
      "displayName": "Zheng Rong",
      "photoUrl": "",
      "userId": "15933078287186103415"
     },
     "user_tz": -480
    },
    "id": "N3vtmmtfsqRH",
    "outputId": "16740f8b-3fbd-4897-9c1b-c5e1649d7b99"
   }
  },
  {
   "cell_type": "markdown",
   "source": [
    "#### Remove NA\n",
    "\n",
    "To drop all the rows with the NaN values, you may use :\n",
    "```python \n",
    "df.dropna()\n",
    "```"
   ],
   "metadata": {
    "id": "RPRweq_stQEL"
   }
  },
  {
   "cell_type": "code",
   "execution_count": 23,
   "source": [
    "df1 = df1.dropna()"
   ],
   "outputs": [],
   "metadata": {
    "id": "kaaAW0ROtPTr"
   }
  },
  {
   "cell_type": "markdown",
   "source": [
    "### Feature importance\n",
    "\n",
    "Apart from cleaning, we can apply use variables that we deem to be important to us. One way of doing so is via feature importance of random forest trees. \n",
    "In many use cases it is equally important to not only have an accurate, but also an interpretable model. Oftentimes, apart from wanting to know what our model’s house price prediction is, we also wonder why it is this high/low and which features are most important in determining the forecast. Another example might be predicting customer churn — it is very nice to have a model that is successfully predicting which customers are prone to churn, but identifying which variables are important can help us in early detection and maybe even improving the product/service.\n",
    "\n",
    "Knowing feature importance indicated by machine learning models can benefit you in multiple ways, for example:\n",
    "1. By getting a better understanding of the model’s logic you can not only verify it being correct but also work on improving the model by focusing only on the important variables\n",
    "2. The above can be used for variable selection — you can remove x variables that are not that significant and have similar or better performance in much shorter training time \n",
    "3. In some business cases it makes sense to sacrifice some accuracy for the sake of interpretability. For example, when a bank rejects a loan application, it must also have a reasoning behind the decision, which can also be presented to the customer\n",
    "\n",
    "\n",
    "We can obtain the feature importance using this code:\n",
    "```python\n",
    "importances = RF.feature_importances_\n",
    "```\n",
    "Then, we can sort the feature importance for ranking and indexing.\n",
    "\n",
    "```python\n",
    "indices = numpy.argsort(importances)[::-1]\n",
    "```"
   ],
   "metadata": {
    "id": "a8udZRBY9i4s"
   }
  },
  {
   "cell_type": "code",
   "execution_count": 19,
   "source": [
    "import numpy\n",
    "RF = model3\n",
    "importances = RF.feature_importances_\n",
    "std = numpy.std([tree.feature_importances_ for tree in RF.estimators_],axis=0)\n",
    "indices = numpy.argsort(importances)[::-1]\n",
    "\n",
    "# Print the feature ranking\n",
    "print(\"Feature ranking:\")\n",
    "\n",
    "for f in range(X.shape[1]):\n",
    "    print(\"%d. feature (Column index) %s (%f)\" % (f + 1, indices[f], importances[indices[f]]))"
   ],
   "outputs": [
    {
     "output_type": "stream",
     "name": "stdout",
     "text": [
      "Feature ranking:\n",
      "1. feature (Column index) 3 (0.346682)\n",
      "2. feature (Column index) 1 (0.217437)\n",
      "3. feature (Column index) 0 (0.174081)\n",
      "4. feature (Column index) 4 (0.172636)\n",
      "5. feature (Column index) 2 (0.089163)\n"
     ]
    }
   ],
   "metadata": {
    "colab": {
     "base_uri": "https://localhost:8080/"
    },
    "executionInfo": {
     "elapsed": 1038,
     "status": "ok",
     "timestamp": 1605284579731,
     "user": {
      "displayName": "Zheng Rong",
      "photoUrl": "",
      "userId": "15933078287186103415"
     },
     "user_tz": -480
    },
    "id": "QkmdTElF9i4t",
    "outputId": "28c159e5-1d71-4541-db40-ab0214054cbb",
    "tags": []
   }
  },
  {
   "cell_type": "markdown",
   "source": [
    "Let's use the top 3 features and retrain another model. \n",
    "Here, we took a shorter time to train the model, yet the RMSE does not suffer due to fewer features.\n"
   ],
   "metadata": {
    "id": "VJGhqh_NoduC"
   }
  },
  {
   "cell_type": "code",
   "execution_count": 21,
   "source": [
    "indices_top3 = indices[:3]\n",
    "print(indices_top3)\n",
    "dataset=df\n",
    "df = pd.DataFrame(df)\n",
    "\n",
    "Y_position = 5\n",
    "TOP_N_FEATURE = 3\n",
    "\n",
    "X = dataset.iloc[:,indices_top3]\n",
    "Y = dataset.iloc[:,Y_position]\n",
    "# create model\n",
    "X_train, X_test, y_train, y_test = train_test_split(X, Y, test_size=0.20, random_state=2020)\n",
    "#Model 1 : linear regression\n",
    "\n",
    "\n",
    "model1 = linear_model.LinearRegression()\n",
    "model1.fit(X_train, y_train)\n",
    "y_pred_train1 = model1.predict(X_train)\n",
    "print(\"Regression\")\n",
    "print(\"================================\")\n",
    "RMSE_train1 = mean_squared_error(y_train,y_pred_train1)\n",
    "\n",
    "print(\"Regression TrainSet: RMSE {}\".format(RMSE_train1))\n",
    "print(\"================================\")\n",
    "y_pred1 = model1.predict(X_test)\n",
    "RMSE_test1 = mean_squared_error(y_test,y_pred1)\n",
    "print(\"Regression Testset: RMSE {}\".format(RMSE_test1))\n",
    "print(\"================================\")"
   ],
   "outputs": [
    {
     "output_type": "stream",
     "name": "stdout",
     "text": [
      "[3 1 0]\n",
      "Regression\n",
      "================================\n",
      "Regression TrainSet: RMSE 0.0027952079052752685\n",
      "================================\n",
      "Regression Testset: RMSE 0.004341758028139643\n",
      "================================\n"
     ]
    }
   ],
   "metadata": {
    "colab": {
     "base_uri": "https://localhost:8080/"
    },
    "executionInfo": {
     "elapsed": 6196,
     "status": "ok",
     "timestamp": 1605284585280,
     "user": {
      "displayName": "Zheng Rong",
      "photoUrl": "",
      "userId": "15933078287186103415"
     },
     "user_tz": -480
    },
    "id": "-endkyzZoVsY",
    "outputId": "f64548be-03c5-46d6-ec93-6543a6c36b80"
   }
  },
  {
   "cell_type": "markdown",
   "source": [
    "### Sample code"
   ],
   "metadata": {}
  },
  {
   "cell_type": "code",
   "execution_count": null,
   "source": [
    "import pandas as pd\n",
    "\n",
    "df=pd.read_csv(\"C:/Users/User/Dropbox/TT Library/AI Model/Python/Treynor (Regression).csv\")\n",
    "print(df)"
   ],
   "outputs": [],
   "metadata": {}
  },
  {
   "cell_type": "code",
   "execution_count": null,
   "source": [
    "df=df.dropna()\n",
    "print(df)"
   ],
   "outputs": [],
   "metadata": {}
  },
  {
   "cell_type": "code",
   "execution_count": null,
   "source": [
    "# Split X, Y\n",
    "\n",
    "X=df.iloc[:,0:len(df.columns)-1]\n",
    "Y=df.iloc[:,len(df.columns)-1]\n",
    "\n",
    "print(X)\n",
    "print(Y)"
   ],
   "outputs": [],
   "metadata": {}
  },
  {
   "cell_type": "code",
   "execution_count": null,
   "source": [
    "#split train test\n",
    "\n",
    "from sklearn.model_selection import train_test_split\n",
    "\n",
    "X_train, X_test, Y_train, Y_test = train_test_split(X, Y, test_size=0.3)"
   ],
   "outputs": [],
   "metadata": {}
  },
  {
   "cell_type": "code",
   "execution_count": null,
   "source": [
    "print(X_train)\n",
    "print(X_test)\n",
    "print(Y_train)\n",
    "print(Y_test)"
   ],
   "outputs": [],
   "metadata": {}
  },
  {
   "cell_type": "code",
   "execution_count": null,
   "source": [
    "from sklearn import linear_model\n",
    "from sklearn.metrics import mean_squared_error\n",
    "\n",
    "model=linear_model.LinearRegression()\n",
    "model.fit(X_train, Y_train)\n",
    "pred=model.predict(X_train)\n",
    "print(mean_squared_error(pred, Y_train))\n",
    "\n",
    "pred=model.predict(X_test)\n",
    "print(mean_squared_error(pred, Y_test))\n"
   ],
   "outputs": [],
   "metadata": {}
  },
  {
   "cell_type": "code",
   "execution_count": null,
   "source": [
    "model= linear_model.Ridge()\n",
    "model.fit(X_train, Y_train)\n",
    "pred=model.predict(X_train)\n",
    "print(mean_squared_error(pred, Y_train))\n",
    "\n",
    "pred=model.predict(X_test)\n",
    "print(mean_squared_error(pred, Y_test))\n"
   ],
   "outputs": [],
   "metadata": {}
  },
  {
   "cell_type": "code",
   "execution_count": null,
   "source": [
    "model= linear_model.Lasso()\n",
    "model.fit(X_train, Y_train)\n",
    "pred=model.predict(X_train)\n",
    "print(mean_squared_error(pred, Y_train))\n",
    "\n",
    "pred=model.predict(X_test)\n",
    "print(mean_squared_error(pred, Y_test))"
   ],
   "outputs": [],
   "metadata": {}
  },
  {
   "cell_type": "code",
   "execution_count": null,
   "source": [
    "from sklearn import tree\n",
    "\n",
    "model=tree.DecisionTreeRegressor()\n",
    "model.fit(X_train, Y_train)\n",
    "pred=model.predict(X_train)\n",
    "print(mean_squared_error(pred, Y_train))\n",
    "\n",
    "pred=model.predict(X_test)\n",
    "print(mean_squared_error(pred, Y_test))\n"
   ],
   "outputs": [],
   "metadata": {}
  }
 ],
 "metadata": {
  "colab": {
   "collapsed_sections": [],
   "name": "Copy of Regression.ipynb",
   "provenance": [],
   "toc_visible": true
  },
  "kernelspec": {
   "name": "python379jvsc74a57bd003cc6c235735ef41ce6e0195c89775c2a43a56af6ff61cfa3ad0c5118b18cb89",
   "display_name": "Python 3.7.9 64-bit ('qe-mini-example': conda)"
  },
  "language_info": {
   "codemirror_mode": {
    "name": "ipython",
    "version": 3
   },
   "file_extension": ".py",
   "mimetype": "text/x-python",
   "name": "python",
   "nbconvert_exporter": "python",
   "pygments_lexer": "ipython3",
   "version": "3.7.9-final"
  }
 },
 "nbformat": 4,
 "nbformat_minor": 4
}