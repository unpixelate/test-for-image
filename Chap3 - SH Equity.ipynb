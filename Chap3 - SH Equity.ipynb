{
 "cells": [
  {
   "cell_type": "markdown",
   "id": "53b8af22",
   "metadata": {},
   "source": [
    "# Shareholder's equity\n",
    "\n",
    "**Learning outcomes:**\n",
    "\n",
    "- Understand what is shareholders' equity and its definition\n",
    "- Understand the roles of shareholder\n",
    "- Appreciate the origin and history of equity\n",
    "- Recognize the goals of a shareholder\n",
    "- Be aware of the different types of company "
   ]
  },
  {
   "cell_type": "markdown",
   "id": "425337a2",
   "metadata": {},
   "source": [
    "## Definition\n",
    "\n",
    "Shareholder's equity, also known as stockholder's equity or owner's equity, represents the ownership interest that shareholders have in a company. It is the residual value of a company's assets after all liabilities have been paid. In other words, it is the amount of money that would be left over if a company sold all of its assets and paid off all of its debts.\n",
    "\n",
    "There are two main types of shareholder's equity: common equity and preferred equity. Common equity represents the ownership interest of common shareholders, who hold common stock in the company. Preferred equity represents the ownership interest of preferred shareholders, who hold preferred stock in the company.\n",
    "\n",
    "Common shareholders have voting rights at shareholder meetings and are entitled to receive dividends. They also have a claim on the company's assets and earnings after the claims of preferred shareholders and creditors have been satisfied. Preferred shareholders, on the other hand, have a higher claim on a company's assets and earnings than common shareholders, but do not have voting rights.\n",
    "\n",
    "Shareholder's equity is an important measure of a company's financial health. A company with a large amount of shareholder's equity is generally considered to be financially stable, as it has a strong foundation of ownership and a good balance between assets and liabilities. On the other hand, a company with a low level of shareholder's equity may be at a higher risk of financial distress, as it may not have enough ownership capital to cover its debts.\n",
    "\n",
    "In summary, shareholder's equity represents the ownership interest that shareholders have in a company and is an important measure of a company's financial health. It is the residual value of a company's assets after all liabilities have been paid and can be divided into common equity and preferred equity.\n",
    "\n",
    "## Roles in modern world\n",
    "\n",
    "Shareholders play a critical role in a company's operations and performance. They provide capital to the company through the purchase of stock and expect a return on their investment through dividends and an increase in the value of their shares. Shareholders also have the right to hold the company's management accountable for their actions and can influence the direction of the company through their voting power.\n",
    "\n",
    "However, the relationship between shareholders and a company is not always harmonious. There have been instances where shareholders have challenged the decisions of a company's management or have been frustrated with the performance of the company. In such cases, shareholders may engage in activist investing, where they seek to bring about change in the company through shareholder resolutions or by seeking seats on the board of directors.\n",
    "\n",
    "Overall, shareholders play a vital role in the functioning and success of a company. They are responsible for providing capital, holding management accountable, and influencing the direction of the company. It is important for a company to maintain a healthy relationship with its shareholders and to ensure that their interests are aligned with those of the company.\n",
    "\n",
    "One example is of a company like Apple Inc. Apple is a publicly traded company, which means that it has thousands of shareholders who own shares in the company. Shareholder's equity for Apple can be found on its balance sheet, which is a financial statement that shows the company's assets, liabilities, and equity at a specific point in time. The shareholder's equity for Apple would include the value of all the shares of stock that have been issued, minus any shares that have been repurchased by the company.\n",
    "\n",
    "As of Q4 2021, Apple Inc.'s Shareholder's equity is around $170 billion, this shows the value of the company and the value of the share that the shareholder holds.\n",
    "\n",
    "Another example is of a company like Tesla Inc. Tesla is also a publicly traded company and has thousands of shareholders like Apple. Shareholder's equity for Tesla can also be found on its balance sheet. It shows the value of all the shares of stock that have been issued, minus any shares that have been repurchased by the company. As of Q4 2021, Tesla's Shareholder's equity is around $60 billion.\n",
    "\n",
    "It's important to note that Shareholder's equity can change over time due to many factors such as company's performance, market conditions, and company's management decisions. Shareholders can use this information to evaluate the company's performance and make decision whether to hold on to their shares or sell them.\n",
    "\n",
    "## History\n",
    "\n",
    "The origins of the concept of shareholder's equity can be traced back to the emergence of joint-stock companies in the 16th century. These companies, also known as joint-stock corporations, were formed as a means of pooling resources and financing trade expeditions. Shareholders, who acquired ownership in the company through the purchase of shares, were granted a claim on the company's assets and profits. The East India Company, established in 1600, is considered to be one of the first examples of this concept in action.\n",
    "\n",
    "As joint-stock companies became more prevalent, the idea of shareholder's equity became more formalized. In the 18th and 19th centuries, companies began issuing formal stock certificates, and accounting principles began to explicitly recognize the concept.\n",
    "\n",
    "In the 20th century, the role of shareholders in the governance and management of companies became increasingly significant. The expansion of the modern corporation and the growing use of publicly traded stock led to the development of laws and regulations designed to protect the rights of shareholders and align their interests with those of the company.\n",
    "\n",
    "Today, shareholder's equity is a crucial measure of a company's financial health and is utilized by investors, analysts, and company management in evaluating performance and making decisions.\n",
    "\n",
    "## Goals of shareholders\n",
    "\n",
    "Shareholders, as owners of a company, generally want to see the value of their investment increase over time. This can be achieved through a variety of means, including the growth of the company's profits and revenue, an increase in the stock price, and the distribution of dividends.\n",
    "\n",
    "In general, shareholders want the company to be well-managed and to make decisions that benefit the company as a whole. This includes making investments in research and development, expanding into new markets, and maintaining a strong financial position.\n",
    "\n",
    "Shareholders also have a vested interest in the governance of the company and want to ensure that the management and board of directors are acting in their best interests. This can include seeking representation on the board of directors, monitoring the compensation of executives, and voting on matters such as mergers and acquisitions and changes to the company's bylaws.\n",
    "\n",
    "Overall, the goal of shareholders is to see a return on their investment, either through capital appreciation or through the receipt of dividends. In order to achieve this goal, they want the company to be well-run and to make decisions that will benefit the company and its shareholders in the long term.\n",
    "\n",
    "## Types of company\n",
    "\n",
    "Growth and value companies are two broad categories of stocks that are used to categorize companies based on their investment characteristics.\n",
    "\n",
    "Growth companies are typically characterized by high revenue and earnings growth, but they may have lower dividends and high price-to-earnings ratios. These companies are often in high-growth industries such as technology or healthcare, and they are often reinvesting their profits into expanding their operations rather than paying dividends to shareholders. Examples of growth companies include Amazon, Netflix, and Tesla.\n",
    "\n",
    "Value companies, on the other hand, are typically characterized by lower earnings and revenue growth, but they may have higher dividends and lower price-to-earnings ratios. These companies are often in more mature industries, such as consumer goods or financial services, and they may be paying out more of their profits to shareholders in the form of dividends. Examples of value companies include Procter & Gamble, Johnson & Johnson, and JPMorgan Chase.\n",
    "\n",
    "When it comes to shareholder equity, growth and value companies may have different implications. For example, growth companies may require more equity financing to support their expansion, while value companies may be able to generate more cash flow and return more of it to shareholders. Additionally, the stock price performance of growth and value companies can be different, with growth companies experiencing more volatility but also potentially higher returns, while value companies may be more stable but with lower returns.\n",
    "\n",
    "It's important to note that these categorizations are not absolute and that many companies can have characteristics of both growth and value. Additionally, market conditions and company-specific factors can affect the performance of both growth and value stocks. As a result, it's important for investors to carefully evaluate the investment characteristics and potential risks and rewards of individual companies, rather than relying solely on broad categorizations like growth and value.\n",
    "\n",
    "This will be further elaborate in Chapter 4 where we discuss valuation of companies"
   ]
  }
 ],
 "metadata": {
  "kernelspec": {
   "display_name": "Python 3 (ipykernel)",
   "language": "python",
   "name": "python3"
  },
  "language_info": {
   "codemirror_mode": {
    "name": "ipython",
    "version": 3
   },
   "file_extension": ".py",
   "mimetype": "text/x-python",
   "name": "python",
   "nbconvert_exporter": "python",
   "pygments_lexer": "ipython3",
   "version": "3.9.13"
  }
 },
 "nbformat": 4,
 "nbformat_minor": 5
}
