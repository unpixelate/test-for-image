{
 "cells": [
  {
   "cell_type": "markdown",
   "id": "a4b028b0",
   "metadata": {
    "slideshow": {
     "slide_type": "slide"
    }
   },
   "source": [
    "# Shareholder's equity\n",
    "\n",
    "**Learning outcomes:**\n",
    "\n",
    "- Understand what are shareholders' equity\n",
    "- Understand the components of shareholders' equity valuation\n",
    "- Apply AI to predict share prices\n",
    "- Apply AI to predict the likelihood of share price fluctuations"
   ]
  },
  {
   "cell_type": "markdown",
   "id": "640a2216",
   "metadata": {},
   "source": [
    "Shareholder's equity, also known as stockholder's equity or owner's equity, represents the ownership interest that shareholders have in a company. It is the residual value of a company's assets after all liabilities have been paid. In other words, it is the amount of money that would be left over if a company sold all of its assets and paid off all of its debts.\n",
    "\n",
    "There are two main types of shareholder's equity: common equity and preferred equity. Common equity represents the ownership interest of common shareholders, who hold common stock in the company. Preferred equity represents the ownership interest of preferred shareholders, who hold preferred stock in the company.\n",
    "\n",
    "Common shareholders have voting rights at shareholder meetings and are entitled to receive dividends. They also have a claim on the company's assets and earnings after the claims of preferred shareholders and creditors have been satisfied. Preferred shareholders, on the other hand, have a higher claim on a company's assets and earnings than common shareholders, but do not have voting rights.\n",
    "\n",
    "Shareholder's equity is an important measure of a company's financial health. A company with a large amount of shareholder's equity is generally considered to be financially stable, as it has a strong foundation of ownership and a good balance between assets and liabilities. On the other hand, a company with a low level of shareholder's equity may be at a higher risk of financial distress, as it may not have enough ownership capital to cover its debts.\n",
    "\n",
    "In summary, shareholder's equity represents the ownership interest that shareholders have in a company and is an important measure of a company's financial health. It is the residual value of a company's assets after all liabilities have been paid and can be divided into common equity and preferred equity."
   ]
  },
  {
   "cell_type": "markdown",
   "id": "99407874",
   "metadata": {},
   "source": [
    "Shareholders play a critical role in a company's operations and performance. They provide capital to the company through the purchase of stock and expect a return on their investment through dividends and an increase in the value of their shares. Shareholders also have the right to hold the company's management accountable for their actions and can influence the direction of the company through their voting power.\n",
    "\n",
    "However, the relationship between shareholders and a company is not always harmonious. There have been instances where shareholders have challenged the decisions of a company's management or have been frustrated with the performance of the company. In such cases, shareholders may engage in activist investing, where they seek to bring about change in the company through shareholder resolutions or by seeking seats on the board of directors.\n",
    "\n",
    "Overall, shareholders play a vital role in the functioning and success of a company. They are responsible for providing capital, holding management accountable, and influencing the direction of the company. It is important for a company to maintain a healthy relationship with its shareholders and to ensure that their interests are aligned with those of the company."
   ]
  },
  {
   "cell_type": "markdown",
   "id": "05429728",
   "metadata": {},
   "source": [
    "One example is of a company like Apple Inc. Apple is a publicly traded company, which means that it has thousands of shareholders who own shares in the company. Shareholder's equity for Apple can be found on its balance sheet, which is a financial statement that shows the company's assets, liabilities, and equity at a specific point in time. The shareholder's equity for Apple would include the value of all the shares of stock that have been issued, minus any shares that have been repurchased by the company.\n",
    "\n",
    "As of Q4 2021, Apple Inc.'s Shareholder's equity is around $170 billion, this shows the value of the company and the value of the share that the shareholder holds.\n",
    "\n",
    "Another example is of a company like Tesla Inc. Tesla is also a publicly traded company and has thousands of shareholders like Apple. Shareholder's equity for Tesla can also be found on its balance sheet. It shows the value of all the shares of stock that have been issued, minus any shares that have been repurchased by the company. As of Q4 2021, Tesla's Shareholder's equity is around $60 billion.\n",
    "\n",
    "It's important to note that Shareholder's equity can change over time due to many factors such as company's performance, market conditions, and company's management decisions. Shareholders can use this information to evaluate the company's performance and make decision whether to hold on to their shares or sell them."
   ]
  },
  {
   "cell_type": "markdown",
   "id": "ca99db5a",
   "metadata": {},
   "source": [
    "The origins of the concept of shareholder's equity can be traced back to the emergence of joint-stock companies in the 16th century. These companies, also known as joint-stock corporations, were formed as a means of pooling resources and financing trade expeditions. Shareholders, who acquired ownership in the company through the purchase of shares, were granted a claim on the company's assets and profits. The East India Company, established in 1600, is considered to be one of the first examples of this concept in action.\n",
    "\n",
    "As joint-stock companies became more prevalent, the idea of shareholder's equity became more formalized. In the 18th and 19th centuries, companies began issuing formal stock certificates, and accounting principles began to explicitly recognize the concept.\n",
    "\n",
    "In the 20th century, the role of shareholders in the governance and management of companies became increasingly significant. The expansion of the modern corporation and the growing use of publicly traded stock led to the development of laws and regulations designed to protect the rights of shareholders and align their interests with those of the company.\n",
    "\n",
    "Today, shareholder's equity is a crucial measure of a company's financial health and is utilized by investors, analysts, and company management in evaluating performance and making decisions."
   ]
  },
  {
   "cell_type": "markdown",
   "id": "de87cf14",
   "metadata": {},
   "source": [
    "**ARIMA**\n",
    "\n",
    "The autoregressive integrated moving average (ARIMA) models have been widely chosen for time series prediction because of their simplicity and wide acceptability. An ARIMA model can be understood by outlining each of its components as follows: Autoregression (AR) refers to a model that shows a changing variable that regresses on its own lagged or prior values. Integrated (I) represents the differencing of raw observations to allow for the time series to become stationary, i.e., data values are replaced by the difference between the data values and the previous values. Moving average (MA) incorporates the dependency between an observation and a residual error from a moving average model applied to lagged observations. \n",
    "\n",
    "\n",
    "The parameters of the ARIMA model are defined as follows: \n",
    "\n",
    "- p: The number of lag observations included in the model, also called the lag order. \n",
    "\n",
    "- d: The number of times that the raw observations are differenced, also called the degree of differencing. \n",
    "\n",
    "- q: The size of the moving average window, also called the order of moving average. \n",
    "\n",
    " \n",
    "\n",
    "**LSTM**\n",
    "\n",
    "Recurrent neural networks (RNN) have proved one of the most powerful models for processing sequential data. Long Short-Term Memory (LSTM) networks are a type of recurrent neural network capable of learning order dependence in sequence prediction problems. LSTM introduces the long-term memory cell, a unit of computation that replaces traditional artificial neurons in the hidden layer of the network. With these memory cells, networks are able to associate memories effectively and input remote in time, hence suit to grasp the structure of data dynamically over time with high prediction capacity[9]. "
   ]
  },
  {
   "cell_type": "markdown",
   "id": "1a74b537",
   "metadata": {},
   "source": [
    "The data for this example is the daily close NASDAQ Composite index from 2010 January to 2020 November. As there are no missing values in the data we retrieved from the database, we do not need to do data cleaning. Because the daily close NASDAQ Composite index has a large scale, it is recommanded to use the logarithm method to scale the data. \n",
    "\n",
    "Then, we plotted the time series plot of logarithm daily close NASDAQ Composite index and the results are shown in Figure 1. We observe that from 2010 January to 2020 November, the NASDAQ Composite index shows an obvious increase trend and we do not find an obvious seasonality trend.   "
   ]
  }
 ],
 "metadata": {
  "kernelspec": {
   "display_name": "Python 3 (ipykernel)",
   "language": "python",
   "name": "python3"
  },
  "language_info": {
   "codemirror_mode": {
    "name": "ipython",
    "version": 3
   },
   "file_extension": ".py",
   "mimetype": "text/x-python",
   "name": "python",
   "nbconvert_exporter": "python",
   "pygments_lexer": "ipython3",
   "version": "3.9.13"
  },
  "vscode": {
   "interpreter": {
    "hash": "5704d41823369ccb204c3e67b34e3fc5e0e8d934b8a1162e96ebe594e2cc3bee"
   }
  }
 },
 "nbformat": 4,
 "nbformat_minor": 5
}
