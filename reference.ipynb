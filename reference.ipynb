{
 "metadata": {
  "language_info": {
   "codemirror_mode": {
    "name": "ipython",
    "version": 3
   },
   "file_extension": ".py",
   "mimetype": "text/x-python",
   "name": "python",
   "nbconvert_exporter": "python",
   "pygments_lexer": "ipython3",
   "version": 3
  },
  "orig_nbformat": 2
 },
 "nbformat": 4,
 "nbformat_minor": 2,
 "cells": [
  {
   "source": [
    "## References"
   ],
   "cell_type": "markdown",
   "metadata": {}
  },
  {
   "source": [
    "Our tutorials and code are compiled from the following links. Without the work of the following authors, our book would not have been possible. Credits for python installtion goes to `quantecon` and `pdflatex`. The following codes are compiled so that it can be a quick guide and reference for busy business users. "
   ],
   "cell_type": "markdown",
   "metadata": {}
  },
  {
   "source": [
    "```\n",
    "- https://www.tensorflow.org/tutorials/structured_data/imbalanced_data\n",
    "- https://www.tensorflow.org/tutorials/generative/style_transfer\n",
    "- https://machinelearningmastery.com/\n",
    "what-are-generative-adversarial-networks-gans/\n",
    "- https://www.tensorflow.org/tutorials/generative/dcgan\n",
    "- https://scikit-learn.org/stable/supervised_learning.html#supervised-learning\n",
    "- https://realpython.com/linear-regression-in-python/.\n",
    "- https://towardsdatascience.com/solving-a-simple-classification-problem-with-python-fruits-lovers-edition-d20ab6b071d2\n",
    "- https://towardsdatascience.com/machine-learning-with-python-classification-complete-tutorial-d2c99dc524ec\n",
    "- https://stackabuse.com/classification-in-python-with-scikit-learn-and-pandas/\n",
    "- https://blog.keras.io/a-ten-minute-introduction-to-sequence-to-sequence-learning-in-keras.html\n",
    "- https://www.analyticsvidhya.com/blog/2020/08/a-simple-introduction-to-sequence-to-sequence-models/\n",
    "- https://towardsdatascience.com/day-1-2-attention-seq2seq-models-65df3f49e263\n",
    "- https://docs.python.org/3/library/\n",
    "- https://github.com/eugeneh101/Advanced-Python\n",
    "- https://github.com/krother/advanced_python\n",
    "- https://www.dropbox.com/sh/qi7lg59s3cal94q/AACQqaB6mGVSz13PD42oiFzia/AI%20Model?dl=0&subfolder_nav_tracking=1\n",
    "- https://www.anaconda.com/\n",
    "- https://docs.conda.io/en/latest/\n",
    "- https://www.tensorflow.org/tutorials/keras/classification\n",
    "- https://www.tensorflow.org/tutorials/keras/text_classification\n",
    "- https://www.tensorflow.org/tutorials/keras/regression\n",
    "- https://www.tensorflow.org/tutorials/keras/overfit_and_underfit\n",
    "- https://scikit-learn.org/stable/modules/linear_model.html#ordinary-least-squares\n",
    "- https://scikit-learn.org/stable/modules/linear_model.html#ridge-regression-and-classification\n",
    "- https://scikit-learn.org/stable/modules/tree.html#classification\n",
    "- https://scikit-learn.org/stable/modules/tree.html#regression\n",
    "- https://scikit-learn.org/stable/modules/ensemble.html#forests-of-randomized-trees\n",
    "- https://scikit-learn.org/stable/modules/ensemble.html#gradient-tree-boosting\n",
    "- https://scikit-learn.org/stable/modules/feature_selection.html#removing-features-with-low-variance\n",
    "- https://scikit-learn.org/stable/modules/feature_selection.html#feature-selection-as-part-of-a-pipeline\n",
    "\n",
    "\n",
    "- https://scikit-learn.org/stable/modules/neural_networks_supervised.html#multi-layer-perceptron\n",
    "- https://scikit-learn.org/stable/modules/svm.html#classification\n",
    "- https://scikit-learn.org/stable/modules/svm.html#regression\n",
    "- https://opencv-python-tutroals.readthedocs.io/en/latest/py_tutorials/py_tutorials.html\n",
    "- https://opencv-python-tutroals.readthedocs.io/en/latest/py_tutorials/py_imgproc/py_table_of_contents_imgproc/py_table_of_contents_imgproc.html\n",
    "- https://opencv-python-tutroals.readthedocs.io/en/latest/py_tutorials/py_feature2d/py_table_of_contents_feature2d/py_table_of_contents_feature2d.html#py-table-of-content-feature2d\n",
    "```"
   ],
   "cell_type": "markdown",
   "metadata": {}
  },
  {
   "cell_type": "code",
   "execution_count": null,
   "metadata": {},
   "outputs": [],
   "source": []
  }
 ]
}