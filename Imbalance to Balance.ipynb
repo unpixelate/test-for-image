{
 "cells": [
  {
   "cell_type": "code",
   "execution_count": 7,
   "metadata": {},
   "outputs": [
    {
     "name": "stdout",
     "output_type": "stream",
     "text": [
      "      clientid       income        age         loan  default\n",
      "0            1  66155.92510  59.017015  8106.532131        0\n",
      "1            2  34415.15397  48.117153  6564.745018        0\n",
      "2            3  57317.17006  63.108049  8020.953296        0\n",
      "3            4  42709.53420  45.751972  6103.642260        0\n",
      "4            5  66952.68885  18.584336  8770.099235        1\n",
      "...        ...          ...        ...          ...      ...\n",
      "1995      1996  59221.04487  48.518179  1926.729397        0\n",
      "1996      1997  69516.12757  23.162104  3503.176156        0\n",
      "1997      1998  44311.44926  28.017167  5522.786693        1\n",
      "1998      1999  43756.05660  63.971796  1622.722598        0\n",
      "1999      2000  69436.57955  56.152617  7378.833599        0\n",
      "\n",
      "[2000 rows x 5 columns]\n"
     ]
    }
   ],
   "source": [
    "from collections import Counter\n",
    "from imblearn.over_sampling import SMOTE\n",
    "from imblearn.under_sampling import RandomUnderSampler\n",
    "import pandas\n",
    "\n",
    "df=pandas.read_csv(\"Credit Card Default II.csv\")\n",
    "print(df)\n",
    "df = df.dropna()"
   ]
  },
  {
   "cell_type": "code",
   "execution_count": 8,
   "metadata": {},
   "outputs": [
    {
     "data": {
      "text/plain": [
       "Counter({0: 1714, 1: 283})"
      ]
     },
     "execution_count": 8,
     "metadata": {},
     "output_type": "execute_result"
    }
   ],
   "source": [
    "Counter(df[\"default\"])"
   ]
  },
  {
   "cell_type": "code",
   "execution_count": 9,
   "metadata": {},
   "outputs": [
    {
     "name": "stdout",
     "output_type": "stream",
     "text": [
      "           income        age         loan\n",
      "0     66155.92510  59.017015  8106.532131\n",
      "1     34415.15397  48.117153  6564.745018\n",
      "2     57317.17006  63.108049  8020.953296\n",
      "3     42709.53420  45.751972  6103.642260\n",
      "4     66952.68885  18.584336  8770.099235\n",
      "...           ...        ...          ...\n",
      "1995  59221.04487  48.518179  1926.729397\n",
      "1996  69516.12757  23.162104  3503.176156\n",
      "1997  44311.44926  28.017167  5522.786693\n",
      "1998  43756.05660  63.971796  1622.722598\n",
      "1999  69436.57955  56.152617  7378.833599\n",
      "\n",
      "[1997 rows x 3 columns]\n",
      "0       0\n",
      "1       0\n",
      "2       0\n",
      "3       0\n",
      "4       1\n",
      "       ..\n",
      "1995    0\n",
      "1996    0\n",
      "1997    1\n",
      "1998    0\n",
      "1999    0\n",
      "Name: default, Length: 1997, dtype: int64\n",
      "Counter({0: 1714, 1: 283})\n"
     ]
    }
   ],
   "source": [
    "#df = df.replace((\"Yes\", \"No\"), (1,0))\n",
    "X=df\n",
    "X=df.drop(\"default\", axis=1)\n",
    "X=X.drop(\"clientid\", axis=1)\n",
    "print(X)\n",
    "y=df.loc[:, \"default\"]\n",
    "print(y)\n",
    "counter = Counter(y)\n",
    "print(counter)\n",
    "\n"
   ]
  },
  {
   "cell_type": "code",
   "execution_count": 10,
   "metadata": {},
   "outputs": [
    {
     "name": "stdout",
     "output_type": "stream",
     "text": [
      "Counter({0: 1714, 1: 1714})\n"
     ]
    }
   ],
   "source": [
    "oversample = SMOTE()\n",
    "X, y = oversample.fit_resample(X, y)\n",
    "# summarize the new class distribution\n",
    "counter = Counter(y)\n",
    "print(counter)\n",
    "\n",
    "df=pandas.concat([X, y], axis=1)\n",
    "df.to_csv(\"Credit Card Default II (balance).csv\", index=0)"
   ]
  },
  {
   "cell_type": "code",
   "execution_count": 12,
   "metadata": {},
   "outputs": [
    {
     "name": "stdout",
     "output_type": "stream",
     "text": [
      "            income        age          loan  default\n",
      "0     66155.925100  59.017015   8106.532131        0\n",
      "1     34415.153970  48.117153   6564.745018        0\n",
      "2     57317.170060  63.108049   8020.953296        0\n",
      "3     42709.534200  45.751972   6103.642260        0\n",
      "4     66952.688850  18.584336   8770.099235        1\n",
      "...            ...        ...           ...      ...\n",
      "3423  60903.191726  21.933924  10367.081892        1\n",
      "3424  62235.644695  25.033016   8083.900063        1\n",
      "3425  25597.850590  26.350344   3810.110335        1\n",
      "3426  48164.194974  23.141976   6529.652892        1\n",
      "3427  33055.808635  26.289612   5351.851138        1\n",
      "\n",
      "[3428 rows x 4 columns]\n"
     ]
    }
   ],
   "source": [
    "print(df)"
   ]
  },
  {
   "cell_type": "code",
   "execution_count": null,
   "metadata": {},
   "outputs": [],
   "source": []
  }
 ],
 "metadata": {
  "kernelspec": {
   "display_name": "Python 3 (ipykernel)",
   "language": "python",
   "name": "python3"
  },
  "language_info": {
   "codemirror_mode": {
    "name": "ipython",
    "version": 3
   },
   "file_extension": ".py",
   "mimetype": "text/x-python",
   "name": "python",
   "nbconvert_exporter": "python",
   "pygments_lexer": "ipython3",
   "version": "3.9.13"
  }
 },
 "nbformat": 4,
 "nbformat_minor": 4
}
