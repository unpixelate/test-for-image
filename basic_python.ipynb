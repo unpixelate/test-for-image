{
 "cells": [
  {
   "cell_type": "markdown",
   "metadata": {},
   "source": [
    "## Basic Python"
   ]
  },
  {
   "cell_type": "markdown",
   "metadata": {},
   "source": [
    "After a brief introduction in chapter 3, let's do a recap of what we have learnt in this chapter.\n",
    "We will be deep diving features in python in the next chapter. \n",
    "\n",
    "<div class=\"alert alert-block alert-warning\">\n",
    "    <b>Learning outcomes:</b>\n",
    "    <br>\n",
    "    <ul>\n",
    "        <li>Write your first line of code.</li>\n",
    "        <li>Learn and apply the core Python variables, types and operators.</li>\n",
    "        <li>Employ variables, types and operators in loops and conditions to perform simple tasks.</li>\n",
    "        <li>Capture and respond efficiently to exceptions.</li>\n",
    "        <li>Use sets to extract unique data from lists.</li>\n",
    "    </ul>\n",
    "</div>\n",
    "\n",
    "Python is an interpreted language with a very simple syntax. The first step in learning any new language is producing \"Hello, World!\".\n",
    "\n",
    "You will have opened a new notebook in Jupyter Notebook:\n",
    "\n",
    "![Jupyter Notebook](images/jupyter-04.png)\n",
    "\n",
    "Note two things:\n",
    "\n",
    "- The dropdown menu item that says `code`\n",
    "- The layout of the text entry box below that (which starts with `In []:`)\n",
    "\n",
    "This specifies that this block is to be used for code. You can also use it for structured text blocks like this one by selecting `markdown` from the menu list. This tutorial won't teach `markdown`, but you can learn more [here](https://github.com/adam-p/markdown-here/wiki/Markdown-Cheatsheet).\n",
    "\n",
    "The tutorial which follows is similar to [Learn Python's](https://www.learnpython.org/), although here you will run the examples on your own computer.\n",
    "\n",
    "### Hello, World!\n",
    "\n",
    "For now, let's start with \"Hello, World!\".\n",
    "\n",
    "Type the below text into the code block in your notebook and hit `Ctrl-Enter` to execute the code:\n",
    "\n",
    "print(\"Hello, World!)\n"
   ]
  },
  {
   "cell_type": "code",
   "execution_count": 1,
   "metadata": {},
   "outputs": [
    {
     "name": "stdout",
     "output_type": "stream",
     "text": [
      "Hello, World!\n"
     ]
    }
   ],
   "source": [
    "print(\"Hello, World!\")"
   ]
  },
  {
   "cell_type": "markdown",
   "metadata": {},
   "source": [
    "You just ran your first program. See how Jupyter performs code highlighting for you, changing the colours of the text depending on the nature of the syntax used. `print` is a protected term and gets highlighted in green.\n",
    "\n",
    "This also demonstrates how useful Jupyter Notebook can be. You can treat this just like a document, saving the file, and storing the outputs of your program in the notebook. You could even email this to someone else and, if they have Jupyter Notebook, they could run the notebook and see what you have done.\n",
    "\n",
    "From here on out, we'll simply move through the Python coding tutorial and learn syntax and methods for coding.\n",
    "\n",
    "### Indentation\n",
    "\n",
    "Python uses indentation to indicate parts of the code that needs to be executed together. Both tabs and spaces (usually four per level) are supported, and my preference is for tabs. This is the subject of mass debate, but don't worry about it. Whatever you decide to do is fine, but **do not - under any circumstances - mix tab indentation with space indentation.**\n",
    "\n",
    "In this exercise you'll assign a value to a variable, check to see if a comparison is true, and then - based on the result - print.\n",
    "\n",
    "First, spot the little `+` symbol on the menu bar just after the `save` symbol. Click that and you'll get a new box to type the following code into. When you're done, press `Ctrl-Enter` or the `Run` button."
   ]
  },
  {
   "cell_type": "code",
   "execution_count": 1,
   "metadata": {},
   "outputs": [
    {
     "name": "stdout",
     "output_type": "stream",
     "text": [
      "x is 1\n"
     ]
    }
   ],
   "source": [
    "x = 1\n",
    "if x == 1:\n",
    "    # Indented ... and notice how Jupyter Notebook automatically indented for you\n",
    "    print(\"x is 1\")"
   ]
  },
  {
   "cell_type": "markdown",
   "metadata": {},
   "source": [
    "Any non-protected text term can be a variable. Please take note of the naming convention for python's variable. `x` could just have easily been rewritten as your name. Usually, it is good practice to name our variables as descriptively as possible. This allows us to read algorithms/ code like text (i.e. the code describes itself). It helps other people to understand the code you've written as well. \n",
    "<br>\n",
    "<div class=\"alert alert-block alert-info\">\n",
    "    <b>Syntax</b>\n",
    "    <br>\n",
    "    <ul>\n",
    "        <li>To assign a variable with a specific value, use `=`</li>\n",
    "        <li>To test whether a variable has a specific value, use the boolean operators:</li>\n",
    "        <ul>\n",
    "            <li>equal: `==`</li>\n",
    "            <li>not equal: `!=`</li>\n",
    "            <li>greater-than: `>`</li>\n",
    "            <li>less-than: `<`</li>\n",
    "        </ul>\n",
    "            <li>You can also add helpful comments to your code with the `#` symbol. Any line starting with a `#` is not executed by the interpreter. Personally, I find it very useful to make detailed notes about my thinking since, often, when you come back to code later you can't remember why you did what you did, or what your code is even supposed to do. This is especially important in a team setting when different members are contributing to the same codebase. \n",
    "            </li>\n",
    "        </ul>\n",
    "</div>\n",
    "\n",
    "\n",
    "### Variables and Types\n",
    "\n",
    "Python is not \"statically-typed\". This means you do not have to declare all your variables before you can use them. You can create new variables whenever you want. Python is also \"object-oriented\", which means that every variable is an object. That will become more important the more experienced you get.\n",
    "\n",
    "Lets go through the core types of variables:\n",
    "\n",
    "#### Numbers\n",
    "\n",
    "Python supports two types of numbers: integers and floats. Integers are whole numbers (e.g. 7), while floats are fractional (e.g. 7.321). You can also convert integers to floats, and vice versa, but you need to be aware of the risks of doing so.\n",
    "\n",
    "Follow along with the code:"
   ]
  },
  {
   "cell_type": "code",
   "execution_count": 3,
   "metadata": {},
   "outputs": [
    {
     "name": "stdout",
     "output_type": "stream",
     "text": [
      "7\n",
      "<class 'int'>\n"
     ]
    }
   ],
   "source": [
    "integer = 7\n",
    "print(integer)\n",
    "# notice that the class printed is currently int\n",
    "print(type(integer))"
   ]
  },
  {
   "cell_type": "code",
   "execution_count": 7,
   "metadata": {},
   "outputs": [
    {
     "name": "stdout",
     "output_type": "stream",
     "text": [
      "7.0\n",
      "7.0\n"
     ]
    }
   ],
   "source": [
    "float_ = 7.0\n",
    "print(float_)\n",
    "# Or you could convert the integer you already have\n",
    "myfloat = float(integer)\n",
    "# Note how the term `float` is green. It's a protected term.\n",
    "print(myfloat)"
   ]
  },
  {
   "cell_type": "code",
   "execution_count": 8,
   "metadata": {},
   "outputs": [
    {
     "name": "stdout",
     "output_type": "stream",
     "text": [
      "7\n"
     ]
    }
   ],
   "source": [
    "# Now see what happens when you convert a float to an int\n",
    "myint = int(7.3)\n",
    "print(myint)"
   ]
  },
  {
   "cell_type": "markdown",
   "metadata": {},
   "source": [
    "Note how you lost precision when you converted a `float` to an `int`? Always be careful, since that could be the difference between a door which fits its frame, and one which is far too small.\n",
    "\n",
    "#### Strings\n",
    "\n",
    "Strings are the Python term for text. You can define these in either single or double quotes. I'll be using double quotes (since you often use a single quote inside text phrases).\n",
    "\n",
    "Try these examples:"
   ]
  },
  {
   "cell_type": "code",
   "execution_count": 6,
   "metadata": {},
   "outputs": [
    {
     "name": "stdout",
     "output_type": "stream",
     "text": [
      "Hello, World!\n",
      "Let's talk about apostrophes...\n"
     ]
    }
   ],
   "source": [
    "mystring = \"Hello, World!\"\n",
    "print(mystring)\n",
    "# and demonstrating how to use an apostrophe in a string\n",
    "mystring = \"Let's talk about apostrophes...\"\n",
    "print(mystring)"
   ]
  },
  {
   "cell_type": "markdown",
   "metadata": {},
   "source": [
    "You can also apply simple operators to your variables, or assign multiple variables simultaneously."
   ]
  },
  {
   "cell_type": "code",
   "execution_count": 7,
   "metadata": {},
   "outputs": [
    {
     "name": "stdout",
     "output_type": "stream",
     "text": [
      "3\n",
      "Hello, World!\n",
      "3 4\n"
     ]
    }
   ],
   "source": [
    "one = 1\n",
    "two = 2\n",
    "three = one + two\n",
    "print(three)\n",
    "\n",
    "hello = \"Hello,\"\n",
    "world = \"World!\"\n",
    "helloworld = hello + \" \" + world\n",
    "print(helloworld)\n",
    "\n",
    "a, b = 3, 4\n",
    "print(a, b)"
   ]
  },
  {
   "cell_type": "markdown",
   "metadata": {},
   "source": [
    "Note, though, that mixing variable types causes problems."
   ]
  },
  {
   "cell_type": "code",
   "execution_count": 8,
   "metadata": {},
   "outputs": [
    {
     "ename": "TypeError",
     "evalue": "unsupported operand type(s) for +: 'int' and 'str'",
     "output_type": "error",
     "traceback": [
      "\u001b[1;31m---------------------------------------------------------------------------\u001b[0m",
      "\u001b[1;31mTypeError\u001b[0m                                 Traceback (most recent call last)",
      "\u001b[1;32m<ipython-input-8-a2961e4891f2>\u001b[0m in \u001b[0;36m<module>\u001b[1;34m\u001b[0m\n\u001b[1;32m----> 1\u001b[1;33m \u001b[0mprint\u001b[0m\u001b[1;33m(\u001b[0m\u001b[0mone\u001b[0m \u001b[1;33m+\u001b[0m \u001b[0mtwo\u001b[0m \u001b[1;33m+\u001b[0m \u001b[0mhello\u001b[0m\u001b[1;33m)\u001b[0m\u001b[1;33m\u001b[0m\u001b[1;33m\u001b[0m\u001b[0m\n\u001b[0m",
      "\u001b[1;31mTypeError\u001b[0m: unsupported operand type(s) for +: 'int' and 'str'"
     ]
    }
   ],
   "source": [
    "print(one + two + hello)"
   ]
  },
  {
   "cell_type": "markdown",
   "metadata": {},
   "source": [
    "Python will throw an error when you make a mistake like this and the error will give you as much detail as it can about what just happened. This is extremely useful when you're attempting to \"debug\" your code.\n",
    "\n",
    "In this case, you're told: `TypeError: unsupported operand type(s) for +: 'int' and 'str'`\n",
    "\n",
    "And the context should make it clear that you tried to combine two integer variables with a string.\n",
    "\n",
    "You can also combine strings with placeholders for variables:\n",
    "<br>\n",
    "<div class=\"alert alert-block alert-info\">\n",
    "    <b>Syntax</b>\n",
    "    <br>\n",
    "    <ul>\n",
    "        <li>Add variables to a string with `format`, e.g. `\"Variable {}\".format(x)` will replace the `{}` in the string with the value in the variable `x`</li>\n",
    "        <li>Floating point numbers can get out of hand (imagine including a number with 30 decimal places in a string), and you can format this with `\"Variable {:10.4f}\".format(x)` where `10` is the amount of space allocated to the float (useful if you need to align a column of numbers; you can also leave this out to include all significant digits) and the `.4f` is the number of decimals after the point. Vary these as you need.</li>\n",
    "    </ul>\n",
    "</div>"
   ]
  },
  {
   "cell_type": "code",
   "execution_count": 9,
   "metadata": {},
   "outputs": [
    {
     "name": "stdout",
     "output_type": "stream",
     "text": [
      "Unformated variable: 33.33333333333333%\n",
      "Formatted variable: 33.333%\n",
      "Space formatted variable:       33.3%\n"
     ]
    }
   ],
   "source": [
    "variable = 1/3 * 100\n",
    "print(\"Unformated variable: {}%\".format(variable))\n",
    "print(\"Formatted variable: {:.3f}%\".format(variable))\n",
    "print(\"Space formatted variable: {:10.1f}%\".format(variable))"
   ]
  },
  {
   "cell_type": "markdown",
   "metadata": {},
   "source": [
    "#### Lists\n",
    "\n",
    "`Lists` are an ordered list of any type of variable. You can combine as many variables as you like, and they could even be of multiple types. Ordinarily, unless you have a specific reason to do so, lists will contain variables of one type.\n",
    "\n",
    "You can also iterate over a list (use each item in a list in sequence).\n",
    "\n",
    "A list is placed between square brackets: `[]`"
   ]
  },
  {
   "cell_type": "code",
   "execution_count": 10,
   "metadata": {},
   "outputs": [
    {
     "name": "stdout",
     "output_type": "stream",
     "text": [
      "1\n",
      "3\n",
      "[2, 3]\n",
      "1\n",
      "2\n",
      "3\n"
     ]
    }
   ],
   "source": [
    "mylist = []\n",
    "mylist.append(1)\n",
    "mylist.append(2)\n",
    "mylist.append(3)\n",
    "# Each item in a list can be addressed directly. \n",
    "# The first address in a Python list starts at 0\n",
    "print(mylist[0])\n",
    "# The last item in a Python list can be addressed as -1. \n",
    "# This is helpful when you don't know how long a list is likely to be.\n",
    "print(mylist[-1])\n",
    "# You can also select subsets of the data in a list like this\n",
    "print(mylist[1:3])\n",
    "\n",
    "# You can also loop through a list using a `for` statement.\n",
    "# Note that `x` is a new variable which takes on the value of each item in the list in order.\n",
    "for x in mylist:\n",
    "    print(x)"
   ]
  },
  {
   "cell_type": "markdown",
   "metadata": {},
   "source": [
    "If you try access an item in a list that isn't there, you'll get an error."
   ]
  },
  {
   "cell_type": "code",
   "execution_count": 11,
   "metadata": {},
   "outputs": [
    {
     "ename": "IndexError",
     "evalue": "list index out of range",
     "output_type": "error",
     "traceback": [
      "\u001b[1;31m---------------------------------------------------------------------------\u001b[0m",
      "\u001b[1;31mIndexError\u001b[0m                                Traceback (most recent call last)",
      "\u001b[1;32m<ipython-input-11-46c3ae90a572>\u001b[0m in \u001b[0;36m<module>\u001b[1;34m\u001b[0m\n\u001b[1;32m----> 1\u001b[1;33m \u001b[0mprint\u001b[0m\u001b[1;33m(\u001b[0m\u001b[0mmylist\u001b[0m\u001b[1;33m[\u001b[0m\u001b[1;36m10\u001b[0m\u001b[1;33m]\u001b[0m\u001b[1;33m)\u001b[0m\u001b[1;33m\u001b[0m\u001b[1;33m\u001b[0m\u001b[0m\n\u001b[0m",
      "\u001b[1;31mIndexError\u001b[0m: list index out of range"
     ]
    }
   ],
   "source": [
    "print(mylist[10])"
   ]
  },
  {
   "cell_type": "markdown",
   "metadata": {},
   "source": [
    "Let's put this together with a slightly more complex example. But first, some new syntax:\n",
    "<br>\n",
    "<div class=\"alert alert-block alert-info\">\n",
    "    <b>Syntax</b>\n",
    "    <br>\n",
    "    <ul>\n",
    "        <li>Check what type of variable you have with `isinstance`, e.g. `isinstance(x, float)` will be `True` if x is a float</li>\n",
    "    <li>You've already seen `for`, but you can get the loop count by wrapping your list in the term `enumerate`, e.g. `for count, x in enumerate(mylist)` will give you a count for each item in the list</li>\n",
    "    <li>Sorting a list into numerical or alphabetical order can be done with `sort`</li>\n",
    "    <li>Getting the number of items in a list is as simple as asking `len(list)`</li>\n",
    "    <li>If you want to count the number of times a particular variable occurs in a list, use `list.count(x)` (where `x` is the variable you're interested in)</li>\n",
    "</div>\n",
    "\n",
    "Try this for yourself."
   ]
  },
  {
   "cell_type": "code",
   "execution_count": 12,
   "metadata": {},
   "outputs": [
    {
     "name": "stdout",
     "output_type": "stream",
     "text": [
      "Number of names in list: 10\n",
      "Cleaned-up number of names in list: 4\n",
      "1. Eric\n",
      "2. Jessica\n",
      "3. John\n",
      "4. Lois\n"
     ]
    }
   ],
   "source": [
    "# Let's imagine we have a list of unordered names that somehow got some random numbers included.\n",
    "# For this exercise, we want to print the alphabetised list of names without the numbers.\n",
    "# This is not the best way of doing the exercise, but it will illustrate a whole bunch of techniques.\n",
    "names = [\"John\", 3234, 2342, 3323, \"Eric\", 234, \"Jessica\", 734978234, \"Lois\", 2384]\n",
    "print(\"Number of names in list: {}\".format(len(names)))\n",
    "# First, let's get rid of all the weird integers.\n",
    "new_names = []\n",
    "for n in names:\n",
    "    if isinstance(n, str):\n",
    "        # Checking if n is a string\n",
    "        # And note how we're now indented twice into this new component\n",
    "        new_names.append(n)\n",
    "# We should now have only names in the new list. Let's sort them.\n",
    "new_names.sort()\n",
    "print(\"Cleaned-up number of names in list: {}\".format(len(new_names)))\n",
    "# Lastly, let's print them.\n",
    "for i, n in enumerate(new_names):\n",
    "    # Using both i and n in a formated string\n",
    "    # Adding 1 to i because lists start at 0\n",
    "    print(\"{}. {}\".format(i+1, n))"
   ]
  },
  {
   "cell_type": "markdown",
   "metadata": {},
   "source": [
    "#### Dictionaries\n",
    "\n",
    "Dictionaries are one of the most useful and versatile data types in Python. They're similar to arrays, but consist of key:value pairs. Each value stored in a dictionary is accessed by its key, and the value can be any sort of object (string, number, list, etc.).\n",
    "\n",
    "This allows you to create structured records. Dictionaries are placed within `{}`."
   ]
  },
  {
   "cell_type": "code",
   "execution_count": 13,
   "metadata": {},
   "outputs": [
    {
     "name": "stdout",
     "output_type": "stream",
     "text": [
      "{'John': {'Phone': '012 794 794', 'Email': 'john@email.com'}, 'Jill': {'Phone': '012 345 345', 'Email': 'jill@email.com'}, 'Joss': {'Phone': '012 321 321', 'Email': 'joss@email.com'}}\n"
     ]
    }
   ],
   "source": [
    "phonebook = {}\n",
    "phonebook[\"John\"] = {\"Phone\": \"012 794 794\",\n",
    "                     \"Email\": \"john@email.com\"}\n",
    "phonebook[\"Jill\"] = {\"Phone\": \"012 345 345\",\n",
    "                     \"Email\": \"jill@email.com\"}\n",
    "phonebook[\"Joss\"] = {\"Phone\": \"012 321 321\",\n",
    "                     \"Email\": \"joss@email.com\"}\n",
    "print(phonebook)"
   ]
  },
  {
   "cell_type": "markdown",
   "metadata": {},
   "source": [
    "Note that you can nest dictionaries and lists. The above shows you how you can add values to an existing dictionary, or create dictionaries with values.\n",
    "\n",
    "You can iterate over a dictionary just like a list, using the dot term `.items()`. In Python 3, the dictionary maintains the order in which data were added, but older versions of Python don't."
   ]
  },
  {
   "cell_type": "code",
   "execution_count": 14,
   "metadata": {},
   "outputs": [
    {
     "name": "stdout",
     "output_type": "stream",
     "text": [
      "John's phone number is 012 794 794, and their email is john@email.com\n",
      "Jill's phone number is 012 345 345, and their email is jill@email.com\n",
      "Joss's phone number is 012 321 321, and their email is joss@email.com\n"
     ]
    }
   ],
   "source": [
    "for name, record in phonebook.items():\n",
    "    print(\"{}'s phone number is {}, and their email is {}\".format(name, record[\"Phone\"], record[\"Email\"]))"
   ]
  },
  {
   "cell_type": "markdown",
   "metadata": {},
   "source": [
    "You add new records as shown above, and you remove records with `del` or `pop`. They each have a different effect."
   ]
  },
  {
   "cell_type": "code",
   "execution_count": 15,
   "metadata": {},
   "outputs": [
    {
     "name": "stdout",
     "output_type": "stream",
     "text": [
      "Jill's phone number is 012 345 345, and their email is jill@email.com\n",
      "Joss's phone number is 012 321 321, and their email is joss@email.com\n",
      "{'Phone': '012 345 345', 'Email': 'jill@email.com'}\n",
      "Joss's phone number is 012 321 321, and their email is joss@email.com\n"
     ]
    },
    {
     "ename": "KeyError",
     "evalue": "'John'",
     "output_type": "error",
     "traceback": [
      "\u001b[1;31m---------------------------------------------------------------------------\u001b[0m",
      "\u001b[1;31mKeyError\u001b[0m                                  Traceback (most recent call last)",
      "\u001b[1;32m<ipython-input-15-24fe1d3ad744>\u001b[0m in \u001b[0;36m<module>\u001b[1;34m\u001b[0m\n\u001b[0;32m     12\u001b[0m \u001b[1;33m\u001b[0m\u001b[0m\n\u001b[0;32m     13\u001b[0m \u001b[1;31m# If you try and delete a record that isn't in the dictionary, you get an error\u001b[0m\u001b[1;33m\u001b[0m\u001b[1;33m\u001b[0m\u001b[1;33m\u001b[0m\u001b[0m\n\u001b[1;32m---> 14\u001b[1;33m \u001b[1;32mdel\u001b[0m \u001b[0mphonebook\u001b[0m\u001b[1;33m[\u001b[0m\u001b[1;34m\"John\"\u001b[0m\u001b[1;33m]\u001b[0m\u001b[1;33m\u001b[0m\u001b[1;33m\u001b[0m\u001b[0m\n\u001b[0m",
      "\u001b[1;31mKeyError\u001b[0m: 'John'"
     ]
    }
   ],
   "source": [
    "# First `del`\n",
    "del phonebook[\"John\"]\n",
    "for name, record in phonebook.items():\n",
    "    print(\"{}'s phone number is {}, and their email is {}\".format(name, record[\"Phone\"], record[\"Email\"]))\n",
    "\n",
    "# Pop returns the record, and deletes it\n",
    "jill_record = phonebook.pop(\"Jill\")\n",
    "print(jill_record)\n",
    "for name, record in phonebook.items():\n",
    "    # You can see that only Joss is still left in the system\n",
    "    print(\"{}'s phone number is {}, and their email is {}\".format(name, record[\"Phone\"], record[\"Email\"]))\n",
    "\n",
    "# If you try and delete a record that isn't in the dictionary, you get an error\n",
    "del phonebook[\"John\"] "
   ]
  },
  {
   "cell_type": "markdown",
   "metadata": {},
   "source": [
    "One thing to get into the habit of doing, is to test variables before assuming they have characteristics you're looking for. You can test a dictionary to see if it has a record, and return some default answer if it doesn't have it.\n",
    "\n",
    "You do this with the `.get(\"key\", default)` term. `Default` can be anything, including another variable, or simply `True` or `False`. If you leave `default` blank (i.e. `.get(\"key\")`), then the result will automatically be `False` if there is no record."
   ]
  },
  {
   "cell_type": "code",
   "execution_count": 16,
   "metadata": {},
   "outputs": [
    {
     "name": "stdout",
     "output_type": "stream",
     "text": [
      "No record found.\n"
     ]
    }
   ],
   "source": [
    "# False and True are special terms in Python that allow you to set tests\n",
    "jill_record = phonebook.get(\"Jill\", False)\n",
    "if jill_record: # i.e. if you got a record in the previous step\n",
    "    print(\"Jill's phone number is {}, and their email is {}\".format(jill_record[\"Phone\"], jill_record[\"Email\"]))\n",
    "else: # the alternative, if `if` returns False\n",
    "    print(\"No record found.\")"
   ]
  },
  {
   "cell_type": "markdown",
   "metadata": {},
   "source": [
    "### Basic operators\n",
    "\n",
    "Operators are the various algebraic symbols (such as `+`, `-`, `*`, `/`, `%`, etc.). Once you've learned the syntax, programming is mostly mathematics.\n",
    "\n",
    "#### Arithmetic operators\n",
    "\n",
    "As you would expect, you can use the various mathematical operators with numbers (both integers and floats)."
   ]
  },
  {
   "cell_type": "code",
   "execution_count": 17,
   "metadata": {},
   "outputs": [
    {
     "name": "stdout",
     "output_type": "stream",
     "text": [
      "2.5\n",
      "2\n",
      "49\n",
      "8\n"
     ]
    }
   ],
   "source": [
    "number = 1 +2 * 3 / 4.0\n",
    "# Try to predict what the answer will be ... does Python follow order operations hierarchy?\n",
    "print(number)\n",
    "\n",
    "# The modulo (%) returns the integer remainder of a division\n",
    "remainder = 11 % 3\n",
    "print(remainder)\n",
    "\n",
    "# Two multiplications is equivalent to a power operation\n",
    "squared = 7 ** 2\n",
    "print(squared)\n",
    "cubed = 2 ** 3\n",
    "print(cubed)"
   ]
  },
  {
   "cell_type": "markdown",
   "metadata": {},
   "source": [
    "#### List operators"
   ]
  },
  {
   "cell_type": "code",
   "execution_count": 18,
   "metadata": {},
   "outputs": [
    {
     "name": "stdout",
     "output_type": "stream",
     "text": [
      "[1, 3, 5, 7, 2, 4, 6, 8]\n",
      "[1, 2, 3, 1, 2, 3, 1, 2, 3]\n"
     ]
    }
   ],
   "source": [
    "even_numbers = [2, 4, 6, 8]\n",
    "# One of my first teachers in school said, \"People are odd. Numbers are uneven.\"\n",
    "# He also said, \"Cecil John Rhodes always ate piles of unshelled peanuts in parliament in Cape Town.\"\n",
    "# \"You'd know he'd been in parliament by the huge pile of shells on the floor. He also never wore socks.\"\n",
    "# \"You'll never forget this.\" And I didn't. I have no idea if it's true.\n",
    "uneven_numbers = [1, 3, 5, 7]\n",
    "all_numbers = uneven_numbers + even_numbers\n",
    "# What do you think will happen?\n",
    "print(all_numbers)\n",
    "\n",
    "# You can also repeat sequences of lists\n",
    "print([1, 2 , 3] * 3)"
   ]
  },
  {
   "cell_type": "markdown",
   "metadata": {},
   "source": [
    "We can put this together into a small project."
   ]
  },
  {
   "cell_type": "code",
   "execution_count": 19,
   "metadata": {},
   "outputs": [
    {
     "name": "stdout",
     "output_type": "stream",
     "text": [
      "x_list contains 1 objects\n",
      "y_list contains 1 objects\n",
      "big_list contains 0 objects\n"
     ]
    }
   ],
   "source": [
    "x = object() # A generic Python object\n",
    "y = object()\n",
    "\n",
    "# Change this code to ensure that x_list and y_list each have 10 repeating objects\n",
    "# and concat_list is the concatenation of x_list and y_list\n",
    "x_list = [x]\n",
    "y_list = [y]\n",
    "concat_list = []\n",
    "\n",
    "print(\"x_list contains {} objects\".format(len(x_list)))\n",
    "print(\"y_list contains {} objects\".format(len(y_list)))\n",
    "print(\"big_list contains {} objects\".format(len(concat_list)))\n",
    "\n",
    "# Test your lists\n",
    "if x_list.count(x) == 10 and y_list.count(y) == 10:\n",
    "    print(\"Almost there...\")\n",
    "if concat_list.count(x) == 10 and concat_list.count(y) == 10:\n",
    "    print(\"Great!\")"
   ]
  },
  {
   "cell_type": "markdown",
   "metadata": {},
   "source": [
    "#### String operators\n",
    "\n",
    "You can do a surprising amount with operators on strings."
   ]
  },
  {
   "cell_type": "code",
   "execution_count": 20,
   "metadata": {},
   "outputs": [
    {
     "name": "stdout",
     "output_type": "stream",
     "text": [
      "Hello, World!\n",
      "Hello Hello Hello Hello Hello Hello Hello Hello Hello Hello \n"
     ]
    },
    {
     "ename": "TypeError",
     "evalue": "unsupported operand type(s) for /: 'str' and 'int'",
     "output_type": "error",
     "traceback": [
      "\u001b[1;31m---------------------------------------------------------------------------\u001b[0m",
      "\u001b[1;31mTypeError\u001b[0m                                 Traceback (most recent call last)",
      "\u001b[1;32m<ipython-input-20-b66f17ae47c7>\u001b[0m in \u001b[0;36m<module>\u001b[1;34m\u001b[0m\n\u001b[0;32m      8\u001b[0m \u001b[1;33m\u001b[0m\u001b[0m\n\u001b[0;32m      9\u001b[0m \u001b[1;31m# But don't get carried away. Not everything will work.\u001b[0m\u001b[1;33m\u001b[0m\u001b[1;33m\u001b[0m\u001b[1;33m\u001b[0m\u001b[0m\n\u001b[1;32m---> 10\u001b[1;33m \u001b[0mnohellos\u001b[0m \u001b[1;33m=\u001b[0m \u001b[1;34m\"Hello \"\u001b[0m \u001b[1;33m/\u001b[0m \u001b[1;36m10\u001b[0m\u001b[1;33m\u001b[0m\u001b[1;33m\u001b[0m\u001b[0m\n\u001b[0m\u001b[0;32m     11\u001b[0m \u001b[0mprint\u001b[0m\u001b[1;33m(\u001b[0m\u001b[0mnohellos\u001b[0m\u001b[1;33m)\u001b[0m\u001b[1;33m\u001b[0m\u001b[1;33m\u001b[0m\u001b[0m\n",
      "\u001b[1;31mTypeError\u001b[0m: unsupported operand type(s) for /: 'str' and 'int'"
     ]
    }
   ],
   "source": [
    "# You've already seen arithmetic concatenations of strings\n",
    "helloworld = \"Hello,\" + \" \" + \"World!\"\n",
    "print(helloworld)\n",
    "\n",
    "# You an also multiply strings to form a repeating sequence\n",
    "manyhellos = \"Hello \" * 10\n",
    "print(manyhellos)\n",
    "\n",
    "# But don't get carried away. Not everything will work.\n",
    "nohellos = \"Hello \" / 10\n",
    "print(nohellos)"
   ]
  },
  {
   "cell_type": "markdown",
   "metadata": {},
   "source": [
    "Something to keep in mind is that strings are lists of characters. This means you can perform a number of list operations on strings. And a few new operations.\n",
    "<br>\n",
    "<div class=\"alert alert-block alert-info\">\n",
    "    <b>Syntax</b>\n",
    "    <br>\n",
    "    <ul>\n",
    "        <li>Get the index for the first occurrence of a specific letter with `string.index(\"l\")` where `l` is the letter you're looking for</li>\n",
    "        <li>As in lists, count the number of occurrences of a specific letter with `string.count(\"l\")`</li>\n",
    "        <li>Get slices of strings with `string[start:end]`, e.g. `string[3:7]`. If you're unsure of the end of a string, remember you can use negative numbers to count from the end, e.g. `string[:-3]` to get a slice from the first character to the third from the end</li>\n",
    "        <li>You can also \"step\" through a string with `string[start:stop:step]`, e.g. `string[2:6:2]` which will skip a character between the characters 2 and 5 (i.e. 6 is the boundary)</li>\n",
    "        <li>You can use a negative \"step\" to reverse the order of the characters, e.g. `string[::-1]`</li>\n",
    "        <li>You can convert strings to upper- or lower-case with `string.upper()` and `string.lower()`</li>\n",
    "        <li>Test whether a string starts or ends with a substring with:</li>\n",
    "        <ul>\n",
    "            <li>`string.startswith(substring)` which returns `True` or `False`</li>\n",
    "            <li>`string.endswith(substring)` which returns `True` or `False`</li>\n",
    "        </ul>\n",
    "        <li>Use `in` to test whether a string contains a substring, so `substring in string` will return `True` or `False`</li>\n",
    "        <li>You can split a string into a genuine list with `.split(s)` where `s` is the specific character to use for splitting, e.g. `s = \",\"` or `s = \" \"`. You can see how this might be useful to split up text which contains numeric data.</li>\n",
    "    </ul>\n",
    "</div>"
   ]
  },
  {
   "cell_type": "code",
   "execution_count": 21,
   "metadata": {},
   "outputs": [
    {
     "name": "stdout",
     "output_type": "stream",
     "text": [
      "String length: 13\n",
      "Index for first 'o': 4\n",
      "Count of 'o': 2\n",
      "Slicing between second and fifth characters: llo,\n",
      "Skipping between 3rd and 2nd-from-last characters: l,Wr\n",
      "Reverse text: !dlroW ,olleH\n",
      "Starts with 'Hello': True\n",
      "Ends with 'Hello': False\n",
      "Contains 'Goodbye': False\n",
      "Split the string: ['Hello,', 'World!']\n"
     ]
    }
   ],
   "source": [
    "a_string = \"Hello, World!\"\n",
    "print(\"String length: {}\".format(len(a_string)))\n",
    "# You can get an index of the first occurence of a specific letter\n",
    "# Remember that Python lists are based at 0; the first letter is index 0\n",
    "# Also note the use of single quotes inside the double quotes\n",
    "print(\"Index for first 'o': {}\".format(a_string.index(\"o\")))\n",
    "print(\"Count of 'o': {}\".format(a_string.count(\"o\")))\n",
    "print(\"Slicing between second and fifth characters: {}\".format(a_string[2:6]))\n",
    "print(\"Skipping between 3rd and 2nd-from-last characters: {}\".format(a_string[3:-2:2]))\n",
    "print(\"Reverse text: {}\".format(a_string[::-1]))\n",
    "print(\"Starts with 'Hello': {}\".format(a_string.startswith(\"Hello\")))\n",
    "print(\"Ends with 'Hello': {}\".format(a_string.endswith(\"Hello\")))\n",
    "print(\"Contains 'Goodbye': {}\".format(\"Goodby\" in a_string))\n",
    "print(\"Split the string: {}\".format(a_string.split(\" \")))"
   ]
  },
  {
   "cell_type": "markdown",
   "metadata": {},
   "source": [
    "### Conditions\n",
    "\n",
    "In the section on [Indentation](#Indentation) you were introduced to the `if` statement and the set of `boolean` operators that allow you to test different variables against each other.\n",
    "\n",
    "To that list of boolean operators are added a new set of comparisons: `and`, `or` and `in`."
   ]
  },
  {
   "cell_type": "code",
   "execution_count": 22,
   "metadata": {},
   "outputs": [
    {
     "name": "stdout",
     "output_type": "stream",
     "text": [
      "True\n",
      "False\n",
      "True\n",
      "True\n",
      "True\n",
      "True\n"
     ]
    }
   ],
   "source": [
    "# Simple boolean tests\n",
    "x = 2\n",
    "print(x == 2)\n",
    "print(x == 3)\n",
    "print(x < 3)\n",
    "\n",
    "# Using `and`\n",
    "name = \"John\"\n",
    "print(name == \"John\" and x == 2)\n",
    "\n",
    "# Using `or`\n",
    "print(name == \"John\" or name == \"Jill\")\n",
    "\n",
    "# Using `in` on lists\n",
    "print(name in [\"John\", \"Jill\", \"Jess\"])"
   ]
  },
  {
   "cell_type": "markdown",
   "metadata": {},
   "source": [
    "These can be used to create nuanced comparisons using `if`. You can use a series of comparisons with `if`, `elif` and `else`.\n",
    "\n",
    "Remember that code must be indented correctly or you will get unexpected behaviour."
   ]
  },
  {
   "cell_type": "code",
   "execution_count": 23,
   "metadata": {},
   "outputs": [
    {
     "name": "stdout",
     "output_type": "stream",
     "text": [
      "x > 2\n",
      "x == 2\n"
     ]
    }
   ],
   "source": [
    "# Unexpected results\n",
    "x = 2\n",
    "if x > 2:\n",
    "    print(\"Testing x\")\n",
    "print(\"x > 2\")\n",
    "# Formated correctly\n",
    "if x == 2:\n",
    "    print(\"x == 2\")"
   ]
  },
  {
   "cell_type": "code",
   "execution_count": 24,
   "metadata": {},
   "outputs": [
    {
     "name": "stdout",
     "output_type": "stream",
     "text": [
      "x < 10 or y > 50\n"
     ]
    }
   ],
   "source": [
    "# Demonstrating more complex if tests\n",
    "x = 2\n",
    "y = 10\n",
    "if x > 2:\n",
    "    print(\"x > 2\")\n",
    "elif x == 2 and y > 50:\n",
    "    print(\"x == 2 and y > 50\")\n",
    "elif x < 10 or y > 50:\n",
    "    # But, remember, you don't know WHICH condition was True\n",
    "    print(\"x < 10 or y > 50\")\n",
    "else:\n",
    "    print(\"Nothing worked.\")"
   ]
  },
  {
   "cell_type": "markdown",
   "metadata": {},
   "source": [
    "Two special cases are `not` and `is`.\n",
    "<br>\n",
    "<div class=\"alert alert-block alert-info\">\n",
    "    <b>Syntax</b>\n",
    "    <br>\n",
    "    <ul>\n",
    "        <li>`not` is used to get the opposite of a particular boolean test, e.g. `not(False)` returns `True`</li>\n",
    "        <li>`is` would seem, superficially, to be similar to `==`, but it tests for whether the actual objects are the same, not whether the values which the objects reflect are equal.</li>\n",
    "    </ul>\n",
    "</div>\n",
    "\n",
    "A quick demonstration."
   ]
  },
  {
   "cell_type": "code",
   "execution_count": 25,
   "metadata": {},
   "outputs": [
    {
     "name": "stdout",
     "output_type": "stream",
     "text": [
      "False\n",
      "True\n",
      "False\n"
     ]
    }
   ],
   "source": [
    "# Using `not`\n",
    "name_list1 = [\"John\", \"Jill\"]\n",
    "name_list2 = [\"John\", \"Jill\"]\n",
    "print(not(name_list1 == name_list2))\n",
    "\n",
    "# Using `is`\n",
    "name2 = \"John\"\n",
    "print(name_list1 == name_list2)\n",
    "print(name_list1 is name_list2)"
   ]
  },
  {
   "cell_type": "markdown",
   "metadata": {},
   "source": [
    "### Loops\n",
    "\n",
    "Loops iterate over a given sequence, and - here - it is critical to ensure your indentation is correct or you'll get unexpected results for what is considered inside or outside the loop.\n",
    "\n",
    "There are two types of loop in Python:\n",
    "<br>\n",
    "<div class=\"alert alert-block alert-info\">\n",
    "    <b>Syntax</b>\n",
    "    <br>\n",
    "    <ul>\n",
    "        <li>For loops, `for`, which loop through a list. There is also some new syntax to use in `for` loops:</li>\n",
    "        <ul>\n",
    "            <li>In [Lists](#Lists) you saw `enumerate`, which allows you to count the loop number</li>\n",
    "            <li>Range creates a list of integers to loop, `range(start, stop)` creates a list of integers between start and stop, or `range(num)` creates a zero-based list up to num, or `range(start, stop, step)` steps through a list in increments of step</li>\n",
    "        </ul>\n",
    "        <li>While loops, `while`, which execute while a particular condition is `True`. And some new syntax for `while`:</li>\n",
    "        <ul>\n",
    "            <li>`while` is a conditional statement (it requires a test to return `True`), that means we can use `else` in a `while` loop (but not `for`)</li>\n",
    "        </ul>\n",
    "    </ul>\n",
    "</div>"
   ]
  },
  {
   "cell_type": "code",
   "execution_count": 26,
   "metadata": {},
   "outputs": [
    {
     "name": "stdout",
     "output_type": "stream",
     "text": [
      "1. Range 2\n",
      "2. Range 4\n",
      "3. Range 6\n",
      "0\n",
      "1\n",
      "2\n",
      "3\n",
      "4\n",
      "End of while loop reached\n"
     ]
    }
   ],
   "source": [
    "# For loops\n",
    "\n",
    "for i, x in enumerate(range(2, 8, 2)):\n",
    "    print(\"{}. Range {}\".format(i+1, x))\n",
    "    \n",
    "# While loops\n",
    "count = 0\n",
    "while count < 5:\n",
    "    print(count)\n",
    "    count += 1 # A shorthand for count = count + 1\n",
    "else:\n",
    "    print(\"End of while loop reached\")"
   ]
  },
  {
   "cell_type": "markdown",
   "metadata": {},
   "source": [
    "Pay close attention to the indentation in that `while` loop. What would happen if `count += 1` were outside the loop?\n",
    "\n",
    "What happens if you need to exit loops early, or miss a step?\n",
    "<br>\n",
    "<div class=\"alert alert-block alert-info\">\n",
    "    <b>Syntax</b>\n",
    "    <br>\n",
    "    <ul>\n",
    "        <li>`break` exits a `while` or `for` loop immediately</li>\n",
    "        <li>`continue` skips the current loop and returns to the loop conditional</li>\n",
    "    </ul>\n",
    "</div>\n"
   ]
  },
  {
   "cell_type": "code",
   "execution_count": 27,
   "metadata": {},
   "outputs": [
    {
     "name": "stdout",
     "output_type": "stream",
     "text": [
      "Break and while conditional\n",
      "0\n",
      "1\n",
      "2\n",
      "3\n",
      "4\n",
      "Continue\n",
      "0\n",
      "2\n",
      "4\n",
      "6\n"
     ]
    }
   ],
   "source": [
    "# Break and while conditional\n",
    "print(\"Break and while conditional\")\n",
    "count = 0\n",
    "while True:\n",
    "    # You may think this would run forever, but ...\n",
    "    print(count)\n",
    "    count += 1\n",
    "    if count >= 5:\n",
    "        break\n",
    "\n",
    "# Continue\n",
    "print(\"Continue\")\n",
    "for x in range(8):\n",
    "    # Check if x is uneven\n",
    "    if (x+1) % 2 == 0:\n",
    "        continue\n",
    "    print(x)"
   ]
  },
  {
   "cell_type": "markdown",
   "metadata": {},
   "source": [
    "### List comprehensions\n",
    "\n",
    "One of the common tasks in coding is to go through a list of items, edit or apply some form of algorithm, and return a new list.\n",
    "\n",
    "Writing long stretches of code to accomplish this is tedious and time-consuming. List comprehensions are an efficient and concise way of achieving exactly that.\n",
    "\n",
    "As an example, imagine we have a sentence where we want to count the length of each word but skip all the \"the\"s:"
   ]
  },
  {
   "cell_type": "code",
   "execution_count": 28,
   "metadata": {},
   "outputs": [
    {
     "name": "stdout",
     "output_type": "stream",
     "text": [
      "[3, 4, 3, 5, 3, 11, 4, 2, 2, 7, 3, 1, 2, 4, 4, 10, 3, 1, 2, 4, 10]\n",
      "[3, 4, 3, 5, 3, 11, 4, 2, 2, 7, 3, 1, 2, 4, 4, 10, 3, 1, 2, 4, 10]\n"
     ]
    }
   ],
   "source": [
    "sentence = \"for the song and the sword are birthrights sold to an usurer, but I am the last lone highwayman and I am the last adventurer\"\n",
    "words = sentence.split()\n",
    "word_lengths = []\n",
    "for word in words:\n",
    "      if word != \"the\":\n",
    "          word_lengths.append(len(word))\n",
    "print(word_lengths)\n",
    "\n",
    "# The exact same thing can be achieved with a list comprehension\n",
    "word_lengths = [len(word) for word in sentence.split(\" \") if word != \"the\"]\n",
    "print(word_lengths)"
   ]
  },
  {
   "cell_type": "markdown",
   "metadata": {},
   "source": [
    "### Exception handling\n",
    "\n",
    "For the rest of this section of the tutorial, we're going to focus on some more advanced syntax and methodology.\n",
    "\n",
    "In [Python basics: Strings](02 - Python basics.ipynb#Strings) you say how the instruction to concatenate a string with an integer using the `+` operator resulted in an error:"
   ]
  },
  {
   "cell_type": "code",
   "execution_count": 29,
   "metadata": {},
   "outputs": [
    {
     "ename": "TypeError",
     "evalue": "unsupported operand type(s) for +: 'int' and 'str'",
     "output_type": "error",
     "traceback": [
      "\u001b[1;31m---------------------------------------------------------------------------\u001b[0m",
      "\u001b[1;31mTypeError\u001b[0m                                 Traceback (most recent call last)",
      "\u001b[1;32m<ipython-input-29-778236ccec55>\u001b[0m in \u001b[0;36m<module>\u001b[1;34m\u001b[0m\n\u001b[1;32m----> 1\u001b[1;33m \u001b[0mprint\u001b[0m\u001b[1;33m(\u001b[0m\u001b[1;36m1\u001b[0m \u001b[1;33m+\u001b[0m \u001b[1;34m\"hello\"\u001b[0m\u001b[1;33m)\u001b[0m\u001b[1;33m\u001b[0m\u001b[1;33m\u001b[0m\u001b[0m\n\u001b[0m",
      "\u001b[1;31mTypeError\u001b[0m: unsupported operand type(s) for +: 'int' and 'str'"
     ]
    }
   ],
   "source": [
    "print(1 + \"hello\")"
   ]
  },
  {
   "cell_type": "markdown",
   "metadata": {},
   "source": [
    "In Python, this is known as an `exception`. The particular exception here is a `TypeError`. Getting exceptions is critical to coding, because it permits you to fix syntax errors, catch glitches where you pass the wrong variables, or your code behaves in unexpected ways.\n",
    "\n",
    "However, once your code goes into production, errors that stop your program entirely are frustrating for the user. More often than not, there is no way to exclude errors and sometimes the only way to find something out is to try it and see if the function causes an error. \n",
    "\n",
    "Many of these errors are entirely expected. For example, if you need a user to enter an integer, you want to prevent them typing in text. Or - in this era of mass hacking - you want to prevent a user trying to including their own code in a text field.\n",
    "\n",
    "When this happens what you want is to way to try to execute your code and then catch any expected exceptions safely.\n",
    "<div class=\"alert alert-block alert-info\">\n",
    "    <b>Syntax</b>\n",
    "    <br>\n",
    "    <ul>\n",
    "        <li>Test and catch exceptions with `try` and `except`</li>\n",
    "        <li>Catch specific errors, rather than all errors, since you still need to know about anything unexpected ... otherwise you can spend hours trying to find a mistake which is being deliberately ignored by your program.</li>\n",
    "        <li>Chain exceptions with, e.g. `except (IndexError, TypeError):`. Here is a link to all the [common exceptions](https://docs.python.org/3/library/exceptions.html).</li>\n",
    "    </ul>\n",
    "</div>"
   ]
  },
  {
   "cell_type": "code",
   "execution_count": 30,
   "metadata": {},
   "outputs": [
    {
     "name": "stdout",
     "output_type": "stream",
     "text": [
      "1\n",
      "2\n",
      "3\n",
      "4\n",
      "5\n",
      "6\n",
      "7\n",
      "0\n",
      "0\n",
      "0\n"
     ]
    }
   ],
   "source": [
    "# An `IndexError` is thrown when you try to address an index in a list that does not exist\n",
    "# In this example, let's catch that error and do something else\n",
    "\n",
    "def print_list(l):\n",
    "    \"\"\"\n",
    "    For a given list `l`, of unknown length, try to print out the first\n",
    "    10 items in the list.\n",
    "    \n",
    "    If the list is shorter than 10, fill in the remaining items with `0`.\n",
    "    \"\"\"\n",
    "    for i in range(10):\n",
    "        try:\n",
    "            print(l[i])\n",
    "        except IndexError: \n",
    "            print(0)\n",
    "\n",
    "print_list([1,2,3,4,5,6,7])"
   ]
  },
  {
   "cell_type": "markdown",
   "metadata": {},
   "source": [
    "You can also deliberately trigger an exception with `raise`. To go further, and write your own types of exceptions, consider [this explanation](https://stackoverflow.com/a/26938914)."
   ]
  },
  {
   "cell_type": "code",
   "execution_count": 1,
   "metadata": {},
   "outputs": [
    {
     "output_type": "error",
     "ename": "ValueError",
     "evalue": "Not Zero!",
     "traceback": [
      "\u001b[1;31m---------------------------------------------------------------------------\u001b[0m",
      "\u001b[1;31mValueError\u001b[0m                                Traceback (most recent call last)",
      "\u001b[1;32m<ipython-input-1-a5b85de8b30c>\u001b[0m in \u001b[0;36m<module>\u001b[1;34m\u001b[0m\n\u001b[0;32m      4\u001b[0m     \u001b[0mprint\u001b[0m\u001b[1;33m(\u001b[0m\u001b[0mzero\u001b[0m\u001b[1;33m)\u001b[0m\u001b[1;33m\u001b[0m\u001b[1;33m\u001b[0m\u001b[0m\n\u001b[0;32m      5\u001b[0m \u001b[1;33m\u001b[0m\u001b[0m\n\u001b[1;32m----> 6\u001b[1;33m \u001b[0mprint_zero\u001b[0m\u001b[1;33m(\u001b[0m\u001b[1;36m10\u001b[0m\u001b[1;33m)\u001b[0m\u001b[1;33m\u001b[0m\u001b[1;33m\u001b[0m\u001b[0m\n\u001b[0m",
      "\u001b[1;32m<ipython-input-1-a5b85de8b30c>\u001b[0m in \u001b[0;36mprint_zero\u001b[1;34m(zero)\u001b[0m\n\u001b[0;32m      1\u001b[0m \u001b[1;32mdef\u001b[0m \u001b[0mprint_zero\u001b[0m\u001b[1;33m(\u001b[0m\u001b[0mzero\u001b[0m\u001b[1;33m)\u001b[0m\u001b[1;33m:\u001b[0m\u001b[1;33m\u001b[0m\u001b[1;33m\u001b[0m\u001b[0m\n\u001b[0;32m      2\u001b[0m     \u001b[1;32mif\u001b[0m \u001b[0mzero\u001b[0m \u001b[1;33m!=\u001b[0m \u001b[1;36m0\u001b[0m\u001b[1;33m:\u001b[0m\u001b[1;33m\u001b[0m\u001b[1;33m\u001b[0m\u001b[0m\n\u001b[1;32m----> 3\u001b[1;33m         \u001b[1;32mraise\u001b[0m \u001b[0mValueError\u001b[0m\u001b[1;33m(\u001b[0m\u001b[1;34m\"Not Zero!\"\u001b[0m\u001b[1;33m)\u001b[0m\u001b[1;33m\u001b[0m\u001b[1;33m\u001b[0m\u001b[0m\n\u001b[0m\u001b[0;32m      4\u001b[0m     \u001b[0mprint\u001b[0m\u001b[1;33m(\u001b[0m\u001b[0mzero\u001b[0m\u001b[1;33m)\u001b[0m\u001b[1;33m\u001b[0m\u001b[1;33m\u001b[0m\u001b[0m\n\u001b[0;32m      5\u001b[0m \u001b[1;33m\u001b[0m\u001b[0m\n",
      "\u001b[1;31mValueError\u001b[0m: Not Zero!"
     ]
    }
   ],
   "source": [
    "def print_zero(zero):\n",
    "    if zero != 0:\n",
    "        raise ValueError(\"Not Zero!\")\n",
    "    print(zero)\n",
    "\n",
    "print_zero(10)"
   ]
  },
  {
   "cell_type": "markdown",
   "metadata": {},
   "source": [
    "#### Sets\n",
    "\n",
    "Sets are lists with no duplicate entries. You could probably write a sorting algorithm, or dictionary, to achieve the same end, but sets are faster and more flexible."
   ]
  },
  {
   "cell_type": "code",
   "execution_count": 32,
   "metadata": {},
   "outputs": [
    {
     "name": "stdout",
     "output_type": "stream",
     "text": [
      "{'rain', 'and', 'is', 'the', 'wet'}\n"
     ]
    }
   ],
   "source": [
    "# Extract all unique terms in this sentence\n",
    "\n",
    "print(set(\"the rain is wet and wet is the rain\".split()))"
   ]
  },
  {
   "cell_type": "markdown",
   "metadata": {},
   "source": [
    "<div class=\"alert alert-block alert-info\">\n",
    "    <b>Syntax</b>\n",
    "    <br>\n",
    "    <ul>\n",
    "        <li>Create a unique set of terms with `set`</li>\n",
    "        <li>To get members of a set common to both of two sets, use `set1.intersection(set2)`</li>\n",
    "        <li>Get the unique members of each of one set and another, use `set1.symmetric_difference(set2)`</li>\n",
    "        <li>To get the unique members from the asking set (i.e. the one calling the dot function), use `set1.difference(set2)`</li>\n",
    "        <li>To get all the members of each of two lists, use `set1.union(set2)`</li>\n",
    "    </ul>\n",
    "</div>"
   ]
  },
  {
   "cell_type": "code",
   "execution_count": 33,
   "metadata": {},
   "outputs": [
    {
     "name": "stdout",
     "output_type": "stream",
     "text": [
      "Set One intersection: {'Dan', 'Heidi', 'Eve'}\n",
      "Set Two intersection: {'Dan', 'Heidi', 'Eve'}\n",
      "Set One symmetric difference: {'Carol', 'Grace', 'Alice', 'Bob'}\n",
      "Set Two symmetric difference: {'Grace', 'Carol', 'Alice', 'Bob'}\n",
      "Set One difference: {'Alice', 'Carol'}\n",
      "Set Two difference: {'Bob', 'Grace'}\n",
      "Set One union: {'Carol', 'Grace', 'Heidi', 'Dan', 'Alice', 'Eve', 'Bob'}\n",
      "Set Two union: {'Grace', 'Carol', 'Heidi', 'Dan', 'Alice', 'Eve', 'Bob'}\n"
     ]
    }
   ],
   "source": [
    "set_one = set([\"Alice\", \"Carol\", \"Dan\", \"Eve\", \"Heidi\"])\n",
    "set_two = set([\"Bob\", \"Dan\", \"Eve\", \"Grace\", \"Heidi\"])\n",
    "\n",
    "# Intersection\n",
    "print(\"Set One intersection: {}\".format(set_one.intersection(set_two)))\n",
    "print(\"Set Two intersection: {}\".format(set_two.intersection(set_one)))\n",
    "\n",
    "# Symmetric difference\n",
    "print(\"Set One symmetric difference: {}\".format(set_one.symmetric_difference(set_two)))\n",
    "print(\"Set Two symmetric difference: {}\".format(set_two.symmetric_difference(set_one)))\n",
    "\n",
    "# Difference\n",
    "print(\"Set One difference: {}\".format(set_one.difference(set_two)))\n",
    "print(\"Set Two difference: {}\".format(set_two.difference(set_one)))\n",
    "\n",
    "# Union\n",
    "print(\"Set One union: {}\".format(set_one.union(set_two)))\n",
    "print(\"Set Two union: {}\".format(set_two.union(set_one)))"
   ]
  }
 ],
 "metadata": {
  "kernelspec": {
   "name": "python379jvsc74a57bd003cc6c235735ef41ce6e0195c89775c2a43a56af6ff61cfa3ad0c5118b18cb89",
   "display_name": "Python 3.7.9 64-bit ('qe-mini-example': conda)"
  },
  "language_info": {
   "codemirror_mode": {
    "name": "ipython",
    "version": 3
   },
   "file_extension": ".py",
   "mimetype": "text/x-python",
   "name": "python",
   "nbconvert_exporter": "python",
   "pygments_lexer": "ipython3",
   "version": "3.7.9-final"
  },
  "latex_envs": {
   "LaTeX_envs_menu_present": true,
   "autocomplete": true,
   "bibliofile": "biblio.bib",
   "cite_by": "apalike",
   "current_citInitial": 1,
   "eqLabelWithNumbers": true,
   "eqNumInitial": 1,
   "hotkeys": {
    "equation": "Ctrl-E",
    "itemize": "Ctrl-I"
   },
   "labels_anchors": false,
   "latex_user_defs": false,
   "report_style_numbering": false,
   "user_envs_cfg": false
  }
 },
 "nbformat": 4,
 "nbformat_minor": 4
}