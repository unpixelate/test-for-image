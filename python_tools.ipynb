{
 "cells": [
  {
   "cell_type": "markdown",
   "metadata": {},
   "source": [
    "## Python for data analysis\n",
    "\n",
    "**Learning outcomes:**\n",
    "\n",
    "- Identify concepts in ethical reasoning which may influence our analysis and results from data.\n",
    "- Learn and apply a basic set of methods from the core data analysis libraries of Numpy, Pandas and Matplotlib.\n",
    "\n",
    "Data has become the most important language of our era, informing everything from intelligence in automated machines, to predictive analytics in medical diagnostics. The plunging cost and easy accessibility of the raw requirements for such systems - data, software, distributed computing, and sensors - are driving the adoption and growth of data-driven decision-making. \n",
    "\n",
    "As it becomes ever-easier to collect data about individuals and systems, a diverse range of professionals - who have never been trained for such requirements - grapple with inadequate analytic and data management skills, as well as the ethical risks arising from the possession and consequences of such data and tools.\n",
    "\n",
    "Before we go on with the technical training, consider the following on the ethics of the data we use.\n",
    "\n",
    "### Ethics\n",
    "\n",
    "Computers cannot make decisions. Their output is an absolute function of the data provided as input, and the algorithms applied to analyse that input. The aid of computers in decision-making does not override human responsibility and accountability.\n",
    "\n",
    "It should be expected that both data and algorithms should stand up to scrutiny so as to justify any and all decisions made as a result of their output. \"Computer says no,\" is not an unquestionable statement.\n",
    "\n",
    "Our actions - as data scientists - are intended to persuade people to act or think other than the way they currently do based on nothing more than the strength of our analysis, and informed by data.\n",
    "\n",
    "The process by which we examine and explain why what we consider to be right or wrong, is considered right or wrong in matters of human conduct, belongs to the study of ethics.\n",
    "\n",
    "<br>\n",
    "<div class=\"well\">\n",
    "<b><i>Case-study</i></b>: _Polygal_ was a gel made from beet and apple pectin. Administered to a severely wounded patient, it was supposed to reduce bleeding. To test this hypothesis, [Sigmund Rascher](https://en.wikipedia.org/wiki/Sigmund_Rascher) administered a tablet to human subjects who were then shot or - without anesthesia - had their limbs amputated.\n",
    "<br><br>\n",
    "During the Second World War, and under the direction of senior Nazi officers, medical experiments of quite unusual violence were conducted on prisoners of war and civilians regarded by the Nazi regime as sub-human. After the war, twenty medical doctors were tried for war crimes and crimes against humanity at the [Doctor's Trial](https://en.wikipedia.org/wiki/Doctors%27_trial) held in Nuremberg from 1946 to 1949.\n",
    "<br><br>\n",
    "In 1947 <a href=\"https://en.wikipedia.org/wiki/Kurt_Blome\">Kurt Blome</a> - Deputy Reich Health Leader, a high-ranking Nazi scientist - was acquitted of war crimes on the strength of intervention by the United States. Within two months, he was being debriefed by the US military who wished to learn everything he knew about biological warfare.\n",
    "<br><br>\n",
    "<i>Do you feel the US was \"right\" or \"wrong\" to offer Blome immunity from prosecution in exchange for what he knew?</i>\n",
    "<br><br>\n",
    "There were numerous experiments conducted by the Nazis that raise ethical dilemmas, including: immersing prisoners in freezing water to observe the result and test hypothermia revival techniques; high altitude pressure and decompression experiments; sulfanilamide tests for treating gangrene and other bacterial infections.\n",
    "<br><br>\n",
    "<i>Do you feel it would be \"right\" or \"wrong\" to use these data in your research and analysis?</i>\n",
    "<br><br>\n",
    "    <a href=\"http://www.loyno.edu/~folse/ethics.html\">Further reading</a>.\n",
    "</div>\n",
    "\n",
    "Whereas everything else we do can describe human behaviour as it _is_, ethics provides a theoretical framework to describe the world as it _should_, or _should not_ be. It gives us full range to describe an ideal outcome, and to consider all that we know and do not know which may impede or confound our desired result.\n",
    "\n",
    "<br>\n",
    "<div class=\"well\">\n",
    "<b><i>Case-study</i></b>: A Nigerian man travels to a conference in the United States. After one of the sessions, he goes to the bathroom to wash his hands. The electronic automated soap dispensor does not recognise his hands beneath the sensor. A white American sees his confusion and places his hands beneath the device. Soap is dispensed. The Nigerian man tries again. It still does not recognise him.\n",
    "<br><br>\n",
    "<i>How would something like this happen? Is it an ethical concern?</i>\n",
    "<br><br>\n",
    "<a href=\"http://www.iflscience.com/technology/this-racist-soap-dispenser-reveals-why-diversity-in-tech-is-muchneeded/\">Further reading</a>.\n",
    "</div>\n",
    "\n",
    "When we consider ethical outcomes, we use the terms _good_ or _bad_ to describe judgements about people or things, and we use _right_ or _wrong_ to refer to the outcome of specific actions. Understand, though, that - while right and wrong may sometimes be obvious - we are often stuck in ethical dilemmas.\n",
    "\n",
    "How we consider whether an action is right or wrong comes down to the tension between what was intended by an action, and what the consequences of that action were. Are only intensions important? Or should we only consider outcomes? And how absolutely do you want to judge this chain: the _right_ motivation, leading to the _right_ intention, performing the _right_ action, resulting in only _good_ consequences. How do we evaluate this against what it may be impossible to know at the time, even if that information will become available after a decision is made?\n",
    "\n",
    "We also need to consider competing interests in good and bad outcomes. A good outcome for the individual making the decision may be a bad decision for numerous others. Conversely, an altruistic person may act only for the benefit of others even to their own detriment.\n",
    "\n",
    "Ethical problems do not always require a call to facts to justify a particular decision, but they do have a number of characteristics:\n",
    "\n",
    " - _Public_: the process by which we arrive at an ethical choice is known to all participants;\n",
    " - _Informal_: the process cannot always be codified into law like a legal system;\n",
    " - _Rational_: despite the informality, the logic used must be accessible and defensible;\n",
    " - _Impartial_: any decision must not favour any group or person;\n",
    "\n",
    "Rather than imposing a specific set of rules to be obeyed, ethics provides a framework in which we may consider whether what we are setting out to achieve conforms to our values, and whether the process by which we arrive at our decision can be validated and inspected by others.\n",
    "\n",
    "No matter how sophisticated our automated machines become, unless our intention is to construct a society \"of machines, for machines\", people will always be needed to decide on what ethical considerations must be taken into account.\n",
    "\n",
    "There are limits to what analysis can achieve, and it is up to the individuals producing that analysis to ensure that any assumptions, doubts, and requirements are documented along with their results. Critically, it is also each individual's personal responsibility to raise any concerns with the source data used in the analysis, including whether personal data are being used legitimately, or whether the source data are at all trustworthy, as well as the algorithms used to process those data and produce a result.\n",
    "\n",
    "### Data analysis\n",
    "\n",
    "This will be a very brief introduction to some tools used in data analysis in Python. This will not provide insight into the approaches to performing analysis, which is left to self-study, or to modules elsewhere in this series.\n",
    "\n",
    "#### Numpy arrays\n",
    "\n",
    "Data analysis often involves performing operations on large lists of data. Numpy is a powerful suite of tools permitting you to work quickly and easily with complete data lists. We refer to these lists as arrays, and - if you are familiar with the term from mathematics - you can think of these as matrix methods.\n",
    "\n",
    "By convention, we import Numpy as np; `import numpy as np`.\n",
    "\n",
    "We're also going to want to be generating a lot of lists of random floats for these exercises, and that's tedious to write. Let's get Python to do this for us using the `random` module."
   ]
  },
  {
   "cell_type": "code",
   "execution_count": 1,
   "metadata": {},
   "outputs": [
    {
     "name": "stdout",
     "output_type": "stream",
     "text": [
      "[1.54 1.75 1.43 2.03 1.51 1.59 1.19 1.72 1.13 2.09]\n",
      "[ 70.08 166.31 170.51 174.34  89.29  69.13 137.76  96.66 123.97  95.73]\n"
     ]
    }
   ],
   "source": [
    "import numpy as np\n",
    "import random\n",
    "\n",
    "def generate_float_list(lwr, upr, num):\n",
    "    \"\"\"\n",
    "    Return a list of num random decimal floats ranged between lwr and upr.\n",
    "    \n",
    "    Range(lwr, upr) creates a list of every integer between lwr and upr.\n",
    "    random.sample takes num integers from the range list, chosen randomly.\n",
    "    \"\"\"\n",
    "    int_list = random.sample(range(lwr, upr), num)\n",
    "    return [x/100 for x in int_list]\n",
    "\n",
    "# Create two lists\n",
    "height = generate_float_list(100, 220, 10)\n",
    "weight = generate_float_list(5000, 20000, 10)\n",
    "\n",
    "# Convert these to Numpy arrays\n",
    "np_height = np.array(height)\n",
    "np_weight = np.array(weight)\n",
    "\n",
    "print(np_height)\n",
    "print(np_weight)"
   ]
  },
  {
   "cell_type": "markdown",
   "metadata": {},
   "source": [
    "There is a useful timer function built in to Jupyter Notebook. Start any line of code with `%time` and you'll get output on how long the code took to run.\n",
    "\n",
    "This is important when working with data-intensive operations where you want to squeeze out every drop of efficiency by optimising your code.\n",
    "\n",
    "We can now perform operations directly on all the values in these Numpy arrays. Here are two simple methods to use.\n",
    "\n",
    "<div class=\"alert alert-block alert-info\">\n",
    "    <b>Syntax</b>\n",
    "    <br>\n",
    "    <ul>\n",
    "        <li><i>Element-wise calculations:</i> you can treat Numpy arrays as you would individual floats or integers. Note, they must either have the same shape (i.e. number or elements), or you can perform bitwise operations (operate on each item in the array) with a single float or int</li>\n",
    "        <li><i>Filtering:</i> You can quickly filter Numpy arrays by performing boolean operations, e.g. `np_array[np_array > num]`, or, for a purely boolean response, `np_array > num`</li>\n",
    "    </ul>\n",
    "</div>"
   ]
  },
  {
   "cell_type": "code",
   "execution_count": 2,
   "metadata": {},
   "outputs": [
    {
     "name": "stdout",
     "output_type": "stream",
     "text": [
      "Wall time: 0 ns\n",
      "[29.54967111 54.30530612 83.38305052 42.30629231 39.16056313 27.34464618\n",
      " 97.28126545 32.67306652 97.08669434 21.91570706]\n",
      "[False  True  True  True  True False  True False  True False]\n",
      "[54.30530612 83.38305052 42.30629231 39.16056313 97.28126545 97.08669434]\n"
     ]
    }
   ],
   "source": [
    "# Calculate body-mass index based on the heights and weights in our arrays\n",
    "# Time the calculation ... it won't be long\n",
    "%time bmi = np_weight / np_height ** 2\n",
    "\n",
    "print(bmi)\n",
    "\n",
    "# Any BMI > 35 is considered severely obese. Let's see who in our sample is at risk.\n",
    "\n",
    "# Get a boolean response\n",
    "print(bmi > 35)\n",
    "\n",
    "# Or print only BMI values above 35\n",
    "print(bmi[bmi > 35])"
   ]
  },
  {
   "cell_type": "markdown",
   "metadata": {},
   "source": [
    "#### Pandas\n",
    "\n",
    "We briefly experimented with Pandas back in [Built-in modules](03 - Python intermediate.ipynb#Built-in-modules).\n",
    "\n",
    "The description given for Pandas there was:\n",
    "\n",
    "_**pandas** is a Python package providing fast, flexible, and expressive data structures designed to make working with \"relational\" or \"labeled\" data both easy and intuitive. It aims to be the fundamental high-level building block for doing practical, **real world** data analysis in Python. Additionally, it has the broader goal of becoming **the most powerful and flexible open source data analysis / manipulation tool available in any language**._\n",
    "\n",
    "Pandas is developed by [Wes McKinney](http://wesmckinney.com/) and has a marvelous and active development community. Wes prefers pandas to be written in the lower-case (I'll alternate).\n",
    "\n",
    "Underneath Pandas is Numpy, so they are closely related and tightly integrated. Pandas allows you to manipulate data either as a `Series` (similarly to Numpy, but with added features), or in a tabular form with rows of values and named columns (similar to the way you may think of an Excel spreadsheet).\n",
    "\n",
    "This tabular form is known as a `DataFrame`. Pandas works well with Jupyter Notebook and you can output nicely formated dataframes (just make sure the last line of your code block is the name of the dataframe).\n",
    "\n",
    "The convention is to import pandas as pd, `import pandas as pd`.\n",
    "\n",
    "The following tutorial is taken direclty from the '10 minutes to pandas' section of the [Pandas documentation](https://pandas.pydata.org/pandas-docs/stable/10min.html). Note, this isn't the complete tutorial, and you can continue there.\n",
    "\n",
    "**Object creation in Pandas**\n",
    "\n",
    "The following code will be on object creation in Pandas\n",
    "\n",
    "Create a `Series` by passing a list of values, and letting pandas create a default integer index."
   ]
  },
  {
   "cell_type": "code",
   "execution_count": 3,
   "metadata": {},
   "outputs": [
    {
     "data": {
      "text/plain": [
       "0    1.0\n",
       "1    3.0\n",
       "2    5.0\n",
       "3    NaN\n",
       "4    6.0\n",
       "5    8.0\n",
       "dtype: float64"
      ]
     },
     "execution_count": 3,
     "metadata": {},
     "output_type": "execute_result"
    }
   ],
   "source": [
    "import pandas as pd\n",
    "import numpy as np\n",
    "\n",
    "s = pd.Series([1,3,5,np.nan,6,8])\n",
    "s"
   ]
  },
  {
   "cell_type": "markdown",
   "metadata": {},
   "source": [
    "Note that `np.nan` is Numpy's default way of presenting a value as \"not-a-number\". For instance, divide-by-zero returns `np.nan`. This means you can perform complex operations relatively safely and sort out the damage afterwards.\n",
    "\n",
    "Create a DataFrame by passing a numpy array, with a datetime index and labeled columns."
   ]
  },
  {
   "cell_type": "code",
   "execution_count": 4,
   "metadata": {},
   "outputs": [
    {
     "data": {
      "text/plain": [
       "DatetimeIndex(['2013-01-01', '2013-01-02', '2013-01-03', '2013-01-04',\n",
       "               '2013-01-05', '2013-01-06'],\n",
       "              dtype='datetime64[ns]', freq='D')"
      ]
     },
     "execution_count": 4,
     "metadata": {},
     "output_type": "execute_result"
    }
   ],
   "source": [
    "# Create a date range starting at an ISO-formatted date (YYYYMMDD)\n",
    "dates = pd.date_range('20130101', periods=6)\n",
    "dates"
   ]
  },
  {
   "cell_type": "code",
   "execution_count": 5,
   "metadata": {},
   "outputs": [
    {
     "data": {
      "text/html": [
       "<div>\n",
       "<style scoped>\n",
       "    .dataframe tbody tr th:only-of-type {\n",
       "        vertical-align: middle;\n",
       "    }\n",
       "\n",
       "    .dataframe tbody tr th {\n",
       "        vertical-align: top;\n",
       "    }\n",
       "\n",
       "    .dataframe thead th {\n",
       "        text-align: right;\n",
       "    }\n",
       "</style>\n",
       "<table border=\"1\" class=\"dataframe\">\n",
       "  <thead>\n",
       "    <tr style=\"text-align: right;\">\n",
       "      <th></th>\n",
       "      <th>A</th>\n",
       "      <th>B</th>\n",
       "      <th>C</th>\n",
       "      <th>D</th>\n",
       "    </tr>\n",
       "  </thead>\n",
       "  <tbody>\n",
       "    <tr>\n",
       "      <th>2013-01-01</th>\n",
       "      <td>1.175032</td>\n",
       "      <td>-2.245533</td>\n",
       "      <td>1.196393</td>\n",
       "      <td>-1.896230</td>\n",
       "    </tr>\n",
       "    <tr>\n",
       "      <th>2013-01-02</th>\n",
       "      <td>0.211655</td>\n",
       "      <td>-0.931049</td>\n",
       "      <td>0.339325</td>\n",
       "      <td>-0.991995</td>\n",
       "    </tr>\n",
       "    <tr>\n",
       "      <th>2013-01-03</th>\n",
       "      <td>1.541121</td>\n",
       "      <td>0.709584</td>\n",
       "      <td>1.321304</td>\n",
       "      <td>0.715576</td>\n",
       "    </tr>\n",
       "    <tr>\n",
       "      <th>2013-01-04</th>\n",
       "      <td>-0.180625</td>\n",
       "      <td>-1.332144</td>\n",
       "      <td>-0.503592</td>\n",
       "      <td>-0.458643</td>\n",
       "    </tr>\n",
       "    <tr>\n",
       "      <th>2013-01-05</th>\n",
       "      <td>1.024923</td>\n",
       "      <td>-1.356436</td>\n",
       "      <td>-2.661236</td>\n",
       "      <td>0.765617</td>\n",
       "    </tr>\n",
       "    <tr>\n",
       "      <th>2013-01-06</th>\n",
       "      <td>-0.209474</td>\n",
       "      <td>-0.739143</td>\n",
       "      <td>0.076423</td>\n",
       "      <td>2.346696</td>\n",
       "    </tr>\n",
       "  </tbody>\n",
       "</table>\n",
       "</div>"
      ],
      "text/plain": [
       "                   A         B         C         D\n",
       "2013-01-01  1.175032 -2.245533  1.196393 -1.896230\n",
       "2013-01-02  0.211655 -0.931049  0.339325 -0.991995\n",
       "2013-01-03  1.541121  0.709584  1.321304  0.715576\n",
       "2013-01-04 -0.180625 -1.332144 -0.503592 -0.458643\n",
       "2013-01-05  1.024923 -1.356436 -2.661236  0.765617\n",
       "2013-01-06 -0.209474 -0.739143  0.076423  2.346696"
      ]
     },
     "execution_count": 5,
     "metadata": {},
     "output_type": "execute_result"
    }
   ],
   "source": [
    "# Create a dataframe using the date range we created above as the index\n",
    "df = pd.DataFrame(np.random.randn(6,4), index=dates, columns=list('ABCD'))\n",
    "df"
   ]
  },
  {
   "cell_type": "markdown",
   "metadata": {},
   "source": [
    "We can also mix text and numeric data with an automatically-generated index."
   ]
  },
  {
   "cell_type": "code",
   "execution_count": 6,
   "metadata": {},
   "outputs": [
    {
     "data": {
      "text/html": [
       "<div>\n",
       "<style scoped>\n",
       "    .dataframe tbody tr th:only-of-type {\n",
       "        vertical-align: middle;\n",
       "    }\n",
       "\n",
       "    .dataframe tbody tr th {\n",
       "        vertical-align: top;\n",
       "    }\n",
       "\n",
       "    .dataframe thead th {\n",
       "        text-align: right;\n",
       "    }\n",
       "</style>\n",
       "<table border=\"1\" class=\"dataframe\">\n",
       "  <thead>\n",
       "    <tr style=\"text-align: right;\">\n",
       "      <th></th>\n",
       "      <th>country</th>\n",
       "      <th>capital</th>\n",
       "      <th>area</th>\n",
       "      <th>population</th>\n",
       "    </tr>\n",
       "  </thead>\n",
       "  <tbody>\n",
       "    <tr>\n",
       "      <th>0</th>\n",
       "      <td>Brazil</td>\n",
       "      <td>Brasilia</td>\n",
       "      <td>8.516</td>\n",
       "      <td>200.40</td>\n",
       "    </tr>\n",
       "    <tr>\n",
       "      <th>1</th>\n",
       "      <td>Russia</td>\n",
       "      <td>Moscow</td>\n",
       "      <td>17.100</td>\n",
       "      <td>143.50</td>\n",
       "    </tr>\n",
       "    <tr>\n",
       "      <th>2</th>\n",
       "      <td>India</td>\n",
       "      <td>New Dehli</td>\n",
       "      <td>3.286</td>\n",
       "      <td>1252.00</td>\n",
       "    </tr>\n",
       "    <tr>\n",
       "      <th>3</th>\n",
       "      <td>China</td>\n",
       "      <td>Beijing</td>\n",
       "      <td>9.597</td>\n",
       "      <td>1357.00</td>\n",
       "    </tr>\n",
       "    <tr>\n",
       "      <th>4</th>\n",
       "      <td>South Africa</td>\n",
       "      <td>Pretoria</td>\n",
       "      <td>1.221</td>\n",
       "      <td>52.98</td>\n",
       "    </tr>\n",
       "  </tbody>\n",
       "</table>\n",
       "</div>"
      ],
      "text/plain": [
       "        country    capital    area  population\n",
       "0        Brazil   Brasilia   8.516      200.40\n",
       "1        Russia     Moscow  17.100      143.50\n",
       "2         India  New Dehli   3.286     1252.00\n",
       "3         China    Beijing   9.597     1357.00\n",
       "4  South Africa   Pretoria   1.221       52.98"
      ]
     },
     "execution_count": 6,
     "metadata": {},
     "output_type": "execute_result"
    }
   ],
   "source": [
    "dict = {\"country\": [\"Brazil\", \"Russia\", \"India\", \"China\", \"South Africa\"],\n",
    "       \"capital\": [\"Brasilia\", \"Moscow\", \"New Dehli\", \"Beijing\", \"Pretoria\"],\n",
    "       \"area\": [8.516, 17.10, 3.286, 9.597, 1.221],\n",
    "       \"population\": [200.4, 143.5, 1252, 1357, 52.98] }\n",
    "\n",
    "brics = pd.DataFrame(dict)\n",
    "brics"
   ]
  },
  {
   "cell_type": "markdown",
   "metadata": {},
   "source": [
    "The numbers down the left-hand side of the table are called the index. This permits you to reference a specific row. However, Pandas permits you to set your own index, as we did where we set a date range index. You could set one of the existing columns as an index (as long as it consists of unique values) or you could set a new custom index."
   ]
  },
  {
   "cell_type": "code",
   "execution_count": 7,
   "metadata": {},
   "outputs": [
    {
     "data": {
      "text/html": [
       "<div>\n",
       "<style scoped>\n",
       "    .dataframe tbody tr th:only-of-type {\n",
       "        vertical-align: middle;\n",
       "    }\n",
       "\n",
       "    .dataframe tbody tr th {\n",
       "        vertical-align: top;\n",
       "    }\n",
       "\n",
       "    .dataframe thead th {\n",
       "        text-align: right;\n",
       "    }\n",
       "</style>\n",
       "<table border=\"1\" class=\"dataframe\">\n",
       "  <thead>\n",
       "    <tr style=\"text-align: right;\">\n",
       "      <th></th>\n",
       "      <th>country</th>\n",
       "      <th>capital</th>\n",
       "      <th>area</th>\n",
       "      <th>population</th>\n",
       "    </tr>\n",
       "  </thead>\n",
       "  <tbody>\n",
       "    <tr>\n",
       "      <th>BR</th>\n",
       "      <td>Brazil</td>\n",
       "      <td>Brasilia</td>\n",
       "      <td>8.516</td>\n",
       "      <td>200.40</td>\n",
       "    </tr>\n",
       "    <tr>\n",
       "      <th>RU</th>\n",
       "      <td>Russia</td>\n",
       "      <td>Moscow</td>\n",
       "      <td>17.100</td>\n",
       "      <td>143.50</td>\n",
       "    </tr>\n",
       "    <tr>\n",
       "      <th>IN</th>\n",
       "      <td>India</td>\n",
       "      <td>New Dehli</td>\n",
       "      <td>3.286</td>\n",
       "      <td>1252.00</td>\n",
       "    </tr>\n",
       "    <tr>\n",
       "      <th>CH</th>\n",
       "      <td>China</td>\n",
       "      <td>Beijing</td>\n",
       "      <td>9.597</td>\n",
       "      <td>1357.00</td>\n",
       "    </tr>\n",
       "    <tr>\n",
       "      <th>SA</th>\n",
       "      <td>South Africa</td>\n",
       "      <td>Pretoria</td>\n",
       "      <td>1.221</td>\n",
       "      <td>52.98</td>\n",
       "    </tr>\n",
       "  </tbody>\n",
       "</table>\n",
       "</div>"
      ],
      "text/plain": [
       "         country    capital    area  population\n",
       "BR        Brazil   Brasilia   8.516      200.40\n",
       "RU        Russia     Moscow  17.100      143.50\n",
       "IN         India  New Dehli   3.286     1252.00\n",
       "CH         China    Beijing   9.597     1357.00\n",
       "SA  South Africa   Pretoria   1.221       52.98"
      ]
     },
     "execution_count": 7,
     "metadata": {},
     "output_type": "execute_result"
    }
   ],
   "source": [
    "# Set the ISO two-letter country codes as the index\n",
    "brics.index = [\"BR\", \"RU\", \"IN\", \"CH\", \"SA\"]\n",
    "\n",
    "brics"
   ]
  },
  {
   "cell_type": "markdown",
   "metadata": {},
   "source": [
    "Pandas can work with exceptionally large datasets, including millions of rows. Presenting that takes up space and, if you only want to see what your data looks like (since, most of the time, you can work with it symbolically), then that can be painful. Fortunately, pandas comes with a number of ways of viewing and reviewing your data.\n",
    "\n",
    "<div class=\"alert alert-block alert-info\">\n",
    "    <b>Syntax</b>\n",
    "    <br>\n",
    "    <ul>\n",
    "        <li>See the top and bottom rows of your dataframe with `df.head()` or `df.tail(num)` where `num` is an integer number of rows</li>\n",
    "        <li>See the index, columns and underlying numpy data with `df.index`, `df.columns` and `df.values`</li>\n",
    "        <li>Get a quick statistical summary of your data with `df.describe()`</li>\n",
    "        <li>Transpose your data with `df.T`</li>\n",
    "        <li>Sort by an axis with `df.sort_index(axis=1, ascending=False)` where `axis=1` refers to columns, and `axis=0` refers to rows</li>\n",
    "        <li>Sort by values with `df.sort_values(by=column)`</li>\n",
    "    </ul>\n",
    "</div>"
   ]
  },
  {
   "cell_type": "code",
   "execution_count": 8,
   "metadata": {},
   "outputs": [
    {
     "data": {
      "text/html": [
       "<div>\n",
       "<style scoped>\n",
       "    .dataframe tbody tr th:only-of-type {\n",
       "        vertical-align: middle;\n",
       "    }\n",
       "\n",
       "    .dataframe tbody tr th {\n",
       "        vertical-align: top;\n",
       "    }\n",
       "\n",
       "    .dataframe thead th {\n",
       "        text-align: right;\n",
       "    }\n",
       "</style>\n",
       "<table border=\"1\" class=\"dataframe\">\n",
       "  <thead>\n",
       "    <tr style=\"text-align: right;\">\n",
       "      <th></th>\n",
       "      <th>A</th>\n",
       "      <th>B</th>\n",
       "      <th>C</th>\n",
       "      <th>D</th>\n",
       "    </tr>\n",
       "  </thead>\n",
       "  <tbody>\n",
       "    <tr>\n",
       "      <th>2013-01-01</th>\n",
       "      <td>1.175032</td>\n",
       "      <td>-2.245533</td>\n",
       "      <td>1.196393</td>\n",
       "      <td>-1.896230</td>\n",
       "    </tr>\n",
       "    <tr>\n",
       "      <th>2013-01-02</th>\n",
       "      <td>0.211655</td>\n",
       "      <td>-0.931049</td>\n",
       "      <td>0.339325</td>\n",
       "      <td>-0.991995</td>\n",
       "    </tr>\n",
       "    <tr>\n",
       "      <th>2013-01-03</th>\n",
       "      <td>1.541121</td>\n",
       "      <td>0.709584</td>\n",
       "      <td>1.321304</td>\n",
       "      <td>0.715576</td>\n",
       "    </tr>\n",
       "    <tr>\n",
       "      <th>2013-01-04</th>\n",
       "      <td>-0.180625</td>\n",
       "      <td>-1.332144</td>\n",
       "      <td>-0.503592</td>\n",
       "      <td>-0.458643</td>\n",
       "    </tr>\n",
       "    <tr>\n",
       "      <th>2013-01-05</th>\n",
       "      <td>1.024923</td>\n",
       "      <td>-1.356436</td>\n",
       "      <td>-2.661236</td>\n",
       "      <td>0.765617</td>\n",
       "    </tr>\n",
       "  </tbody>\n",
       "</table>\n",
       "</div>"
      ],
      "text/plain": [
       "                   A         B         C         D\n",
       "2013-01-01  1.175032 -2.245533  1.196393 -1.896230\n",
       "2013-01-02  0.211655 -0.931049  0.339325 -0.991995\n",
       "2013-01-03  1.541121  0.709584  1.321304  0.715576\n",
       "2013-01-04 -0.180625 -1.332144 -0.503592 -0.458643\n",
       "2013-01-05  1.024923 -1.356436 -2.661236  0.765617"
      ]
     },
     "execution_count": 8,
     "metadata": {},
     "output_type": "execute_result"
    }
   ],
   "source": [
    "# Head\n",
    "df.head()"
   ]
  },
  {
   "cell_type": "code",
   "execution_count": 9,
   "metadata": {},
   "outputs": [
    {
     "data": {
      "text/html": [
       "<div>\n",
       "<style scoped>\n",
       "    .dataframe tbody tr th:only-of-type {\n",
       "        vertical-align: middle;\n",
       "    }\n",
       "\n",
       "    .dataframe tbody tr th {\n",
       "        vertical-align: top;\n",
       "    }\n",
       "\n",
       "    .dataframe thead th {\n",
       "        text-align: right;\n",
       "    }\n",
       "</style>\n",
       "<table border=\"1\" class=\"dataframe\">\n",
       "  <thead>\n",
       "    <tr style=\"text-align: right;\">\n",
       "      <th></th>\n",
       "      <th>A</th>\n",
       "      <th>B</th>\n",
       "      <th>C</th>\n",
       "      <th>D</th>\n",
       "    </tr>\n",
       "  </thead>\n",
       "  <tbody>\n",
       "    <tr>\n",
       "      <th>2013-01-04</th>\n",
       "      <td>-0.180625</td>\n",
       "      <td>-1.332144</td>\n",
       "      <td>-0.503592</td>\n",
       "      <td>-0.458643</td>\n",
       "    </tr>\n",
       "    <tr>\n",
       "      <th>2013-01-05</th>\n",
       "      <td>1.024923</td>\n",
       "      <td>-1.356436</td>\n",
       "      <td>-2.661236</td>\n",
       "      <td>0.765617</td>\n",
       "    </tr>\n",
       "    <tr>\n",
       "      <th>2013-01-06</th>\n",
       "      <td>-0.209474</td>\n",
       "      <td>-0.739143</td>\n",
       "      <td>0.076423</td>\n",
       "      <td>2.346696</td>\n",
       "    </tr>\n",
       "  </tbody>\n",
       "</table>\n",
       "</div>"
      ],
      "text/plain": [
       "                   A         B         C         D\n",
       "2013-01-04 -0.180625 -1.332144 -0.503592 -0.458643\n",
       "2013-01-05  1.024923 -1.356436 -2.661236  0.765617\n",
       "2013-01-06 -0.209474 -0.739143  0.076423  2.346696"
      ]
     },
     "execution_count": 9,
     "metadata": {},
     "output_type": "execute_result"
    }
   ],
   "source": [
    "# Tail\n",
    "df.tail(3)"
   ]
  },
  {
   "cell_type": "code",
   "execution_count": 10,
   "metadata": {},
   "outputs": [
    {
     "data": {
      "text/plain": [
       "DatetimeIndex(['2013-01-01', '2013-01-02', '2013-01-03', '2013-01-04',\n",
       "               '2013-01-05', '2013-01-06'],\n",
       "              dtype='datetime64[ns]', freq='D')"
      ]
     },
     "execution_count": 10,
     "metadata": {},
     "output_type": "execute_result"
    }
   ],
   "source": [
    "# Index\n",
    "df.index"
   ]
  },
  {
   "cell_type": "code",
   "execution_count": 11,
   "metadata": {},
   "outputs": [
    {
     "data": {
      "text/plain": [
       "array([[ 1.17503197, -2.2455333 ,  1.19639255, -1.89623003],\n",
       "       [ 0.21165485, -0.93104948,  0.33932534, -0.99199535],\n",
       "       [ 1.54112107,  0.70958415,  1.32130367,  0.71557556],\n",
       "       [-0.18062483, -1.33214427, -0.50359153, -0.45864285],\n",
       "       [ 1.02492346, -1.35643648, -2.66123573,  0.76561735],\n",
       "       [-0.20947413, -0.73914306,  0.07642315,  2.34669621]])"
      ]
     },
     "execution_count": 11,
     "metadata": {},
     "output_type": "execute_result"
    }
   ],
   "source": [
    "# Values\n",
    "df.values"
   ]
  },
  {
   "cell_type": "code",
   "execution_count": 12,
   "metadata": {},
   "outputs": [
    {
     "data": {
      "text/html": [
       "<div>\n",
       "<style scoped>\n",
       "    .dataframe tbody tr th:only-of-type {\n",
       "        vertical-align: middle;\n",
       "    }\n",
       "\n",
       "    .dataframe tbody tr th {\n",
       "        vertical-align: top;\n",
       "    }\n",
       "\n",
       "    .dataframe thead th {\n",
       "        text-align: right;\n",
       "    }\n",
       "</style>\n",
       "<table border=\"1\" class=\"dataframe\">\n",
       "  <thead>\n",
       "    <tr style=\"text-align: right;\">\n",
       "      <th></th>\n",
       "      <th>A</th>\n",
       "      <th>B</th>\n",
       "      <th>C</th>\n",
       "      <th>D</th>\n",
       "    </tr>\n",
       "  </thead>\n",
       "  <tbody>\n",
       "    <tr>\n",
       "      <th>count</th>\n",
       "      <td>6.000000</td>\n",
       "      <td>6.000000</td>\n",
       "      <td>6.000000</td>\n",
       "      <td>6.000000</td>\n",
       "    </tr>\n",
       "    <tr>\n",
       "      <th>mean</th>\n",
       "      <td>0.593772</td>\n",
       "      <td>-0.982454</td>\n",
       "      <td>-0.038564</td>\n",
       "      <td>0.080170</td>\n",
       "    </tr>\n",
       "    <tr>\n",
       "      <th>std</th>\n",
       "      <td>0.749951</td>\n",
       "      <td>0.977993</td>\n",
       "      <td>1.457741</td>\n",
       "      <td>1.507099</td>\n",
       "    </tr>\n",
       "    <tr>\n",
       "      <th>min</th>\n",
       "      <td>-0.209474</td>\n",
       "      <td>-2.245533</td>\n",
       "      <td>-2.661236</td>\n",
       "      <td>-1.896230</td>\n",
       "    </tr>\n",
       "    <tr>\n",
       "      <th>25%</th>\n",
       "      <td>-0.082555</td>\n",
       "      <td>-1.350363</td>\n",
       "      <td>-0.358588</td>\n",
       "      <td>-0.858657</td>\n",
       "    </tr>\n",
       "    <tr>\n",
       "      <th>50%</th>\n",
       "      <td>0.618289</td>\n",
       "      <td>-1.131597</td>\n",
       "      <td>0.207874</td>\n",
       "      <td>0.128466</td>\n",
       "    </tr>\n",
       "    <tr>\n",
       "      <th>75%</th>\n",
       "      <td>1.137505</td>\n",
       "      <td>-0.787120</td>\n",
       "      <td>0.982126</td>\n",
       "      <td>0.753107</td>\n",
       "    </tr>\n",
       "    <tr>\n",
       "      <th>max</th>\n",
       "      <td>1.541121</td>\n",
       "      <td>0.709584</td>\n",
       "      <td>1.321304</td>\n",
       "      <td>2.346696</td>\n",
       "    </tr>\n",
       "  </tbody>\n",
       "</table>\n",
       "</div>"
      ],
      "text/plain": [
       "              A         B         C         D\n",
       "count  6.000000  6.000000  6.000000  6.000000\n",
       "mean   0.593772 -0.982454 -0.038564  0.080170\n",
       "std    0.749951  0.977993  1.457741  1.507099\n",
       "min   -0.209474 -2.245533 -2.661236 -1.896230\n",
       "25%   -0.082555 -1.350363 -0.358588 -0.858657\n",
       "50%    0.618289 -1.131597  0.207874  0.128466\n",
       "75%    1.137505 -0.787120  0.982126  0.753107\n",
       "max    1.541121  0.709584  1.321304  2.346696"
      ]
     },
     "execution_count": 12,
     "metadata": {},
     "output_type": "execute_result"
    }
   ],
   "source": [
    "# Statistical summary\n",
    "df.describe()"
   ]
  },
  {
   "cell_type": "code",
   "execution_count": 13,
   "metadata": {},
   "outputs": [
    {
     "data": {
      "text/html": [
       "<div>\n",
       "<style scoped>\n",
       "    .dataframe tbody tr th:only-of-type {\n",
       "        vertical-align: middle;\n",
       "    }\n",
       "\n",
       "    .dataframe tbody tr th {\n",
       "        vertical-align: top;\n",
       "    }\n",
       "\n",
       "    .dataframe thead th {\n",
       "        text-align: right;\n",
       "    }\n",
       "</style>\n",
       "<table border=\"1\" class=\"dataframe\">\n",
       "  <thead>\n",
       "    <tr style=\"text-align: right;\">\n",
       "      <th></th>\n",
       "      <th>2013-01-01 00:00:00</th>\n",
       "      <th>2013-01-02 00:00:00</th>\n",
       "      <th>2013-01-03 00:00:00</th>\n",
       "      <th>2013-01-04 00:00:00</th>\n",
       "      <th>2013-01-05 00:00:00</th>\n",
       "      <th>2013-01-06 00:00:00</th>\n",
       "    </tr>\n",
       "  </thead>\n",
       "  <tbody>\n",
       "    <tr>\n",
       "      <th>A</th>\n",
       "      <td>1.175032</td>\n",
       "      <td>0.211655</td>\n",
       "      <td>1.541121</td>\n",
       "      <td>-0.180625</td>\n",
       "      <td>1.024923</td>\n",
       "      <td>-0.209474</td>\n",
       "    </tr>\n",
       "    <tr>\n",
       "      <th>B</th>\n",
       "      <td>-2.245533</td>\n",
       "      <td>-0.931049</td>\n",
       "      <td>0.709584</td>\n",
       "      <td>-1.332144</td>\n",
       "      <td>-1.356436</td>\n",
       "      <td>-0.739143</td>\n",
       "    </tr>\n",
       "    <tr>\n",
       "      <th>C</th>\n",
       "      <td>1.196393</td>\n",
       "      <td>0.339325</td>\n",
       "      <td>1.321304</td>\n",
       "      <td>-0.503592</td>\n",
       "      <td>-2.661236</td>\n",
       "      <td>0.076423</td>\n",
       "    </tr>\n",
       "    <tr>\n",
       "      <th>D</th>\n",
       "      <td>-1.896230</td>\n",
       "      <td>-0.991995</td>\n",
       "      <td>0.715576</td>\n",
       "      <td>-0.458643</td>\n",
       "      <td>0.765617</td>\n",
       "      <td>2.346696</td>\n",
       "    </tr>\n",
       "  </tbody>\n",
       "</table>\n",
       "</div>"
      ],
      "text/plain": [
       "   2013-01-01  2013-01-02  2013-01-03  2013-01-04  2013-01-05  2013-01-06\n",
       "A    1.175032    0.211655    1.541121   -0.180625    1.024923   -0.209474\n",
       "B   -2.245533   -0.931049    0.709584   -1.332144   -1.356436   -0.739143\n",
       "C    1.196393    0.339325    1.321304   -0.503592   -2.661236    0.076423\n",
       "D   -1.896230   -0.991995    0.715576   -0.458643    0.765617    2.346696"
      ]
     },
     "execution_count": 13,
     "metadata": {},
     "output_type": "execute_result"
    }
   ],
   "source": [
    "# Transpose\n",
    "df.T"
   ]
  },
  {
   "cell_type": "code",
   "execution_count": 14,
   "metadata": {},
   "outputs": [
    {
     "data": {
      "text/html": [
       "<div>\n",
       "<style scoped>\n",
       "    .dataframe tbody tr th:only-of-type {\n",
       "        vertical-align: middle;\n",
       "    }\n",
       "\n",
       "    .dataframe tbody tr th {\n",
       "        vertical-align: top;\n",
       "    }\n",
       "\n",
       "    .dataframe thead th {\n",
       "        text-align: right;\n",
       "    }\n",
       "</style>\n",
       "<table border=\"1\" class=\"dataframe\">\n",
       "  <thead>\n",
       "    <tr style=\"text-align: right;\">\n",
       "      <th></th>\n",
       "      <th>D</th>\n",
       "      <th>C</th>\n",
       "      <th>B</th>\n",
       "      <th>A</th>\n",
       "    </tr>\n",
       "  </thead>\n",
       "  <tbody>\n",
       "    <tr>\n",
       "      <th>2013-01-01</th>\n",
       "      <td>-1.896230</td>\n",
       "      <td>1.196393</td>\n",
       "      <td>-2.245533</td>\n",
       "      <td>1.175032</td>\n",
       "    </tr>\n",
       "    <tr>\n",
       "      <th>2013-01-02</th>\n",
       "      <td>-0.991995</td>\n",
       "      <td>0.339325</td>\n",
       "      <td>-0.931049</td>\n",
       "      <td>0.211655</td>\n",
       "    </tr>\n",
       "    <tr>\n",
       "      <th>2013-01-03</th>\n",
       "      <td>0.715576</td>\n",
       "      <td>1.321304</td>\n",
       "      <td>0.709584</td>\n",
       "      <td>1.541121</td>\n",
       "    </tr>\n",
       "    <tr>\n",
       "      <th>2013-01-04</th>\n",
       "      <td>-0.458643</td>\n",
       "      <td>-0.503592</td>\n",
       "      <td>-1.332144</td>\n",
       "      <td>-0.180625</td>\n",
       "    </tr>\n",
       "    <tr>\n",
       "      <th>2013-01-05</th>\n",
       "      <td>0.765617</td>\n",
       "      <td>-2.661236</td>\n",
       "      <td>-1.356436</td>\n",
       "      <td>1.024923</td>\n",
       "    </tr>\n",
       "    <tr>\n",
       "      <th>2013-01-06</th>\n",
       "      <td>2.346696</td>\n",
       "      <td>0.076423</td>\n",
       "      <td>-0.739143</td>\n",
       "      <td>-0.209474</td>\n",
       "    </tr>\n",
       "  </tbody>\n",
       "</table>\n",
       "</div>"
      ],
      "text/plain": [
       "                   D         C         B         A\n",
       "2013-01-01 -1.896230  1.196393 -2.245533  1.175032\n",
       "2013-01-02 -0.991995  0.339325 -0.931049  0.211655\n",
       "2013-01-03  0.715576  1.321304  0.709584  1.541121\n",
       "2013-01-04 -0.458643 -0.503592 -1.332144 -0.180625\n",
       "2013-01-05  0.765617 -2.661236 -1.356436  1.024923\n",
       "2013-01-06  2.346696  0.076423 -0.739143 -0.209474"
      ]
     },
     "execution_count": 14,
     "metadata": {},
     "output_type": "execute_result"
    }
   ],
   "source": [
    "# Sort by an axis\n",
    "df.sort_index(axis=1, ascending=False)"
   ]
  },
  {
   "cell_type": "code",
   "execution_count": 15,
   "metadata": {},
   "outputs": [
    {
     "data": {
      "text/html": [
       "<div>\n",
       "<style scoped>\n",
       "    .dataframe tbody tr th:only-of-type {\n",
       "        vertical-align: middle;\n",
       "    }\n",
       "\n",
       "    .dataframe tbody tr th {\n",
       "        vertical-align: top;\n",
       "    }\n",
       "\n",
       "    .dataframe thead th {\n",
       "        text-align: right;\n",
       "    }\n",
       "</style>\n",
       "<table border=\"1\" class=\"dataframe\">\n",
       "  <thead>\n",
       "    <tr style=\"text-align: right;\">\n",
       "      <th></th>\n",
       "      <th>A</th>\n",
       "      <th>B</th>\n",
       "      <th>C</th>\n",
       "      <th>D</th>\n",
       "    </tr>\n",
       "  </thead>\n",
       "  <tbody>\n",
       "    <tr>\n",
       "      <th>2013-01-01</th>\n",
       "      <td>1.175032</td>\n",
       "      <td>-2.245533</td>\n",
       "      <td>1.196393</td>\n",
       "      <td>-1.896230</td>\n",
       "    </tr>\n",
       "    <tr>\n",
       "      <th>2013-01-05</th>\n",
       "      <td>1.024923</td>\n",
       "      <td>-1.356436</td>\n",
       "      <td>-2.661236</td>\n",
       "      <td>0.765617</td>\n",
       "    </tr>\n",
       "    <tr>\n",
       "      <th>2013-01-04</th>\n",
       "      <td>-0.180625</td>\n",
       "      <td>-1.332144</td>\n",
       "      <td>-0.503592</td>\n",
       "      <td>-0.458643</td>\n",
       "    </tr>\n",
       "    <tr>\n",
       "      <th>2013-01-02</th>\n",
       "      <td>0.211655</td>\n",
       "      <td>-0.931049</td>\n",
       "      <td>0.339325</td>\n",
       "      <td>-0.991995</td>\n",
       "    </tr>\n",
       "    <tr>\n",
       "      <th>2013-01-06</th>\n",
       "      <td>-0.209474</td>\n",
       "      <td>-0.739143</td>\n",
       "      <td>0.076423</td>\n",
       "      <td>2.346696</td>\n",
       "    </tr>\n",
       "    <tr>\n",
       "      <th>2013-01-03</th>\n",
       "      <td>1.541121</td>\n",
       "      <td>0.709584</td>\n",
       "      <td>1.321304</td>\n",
       "      <td>0.715576</td>\n",
       "    </tr>\n",
       "  </tbody>\n",
       "</table>\n",
       "</div>"
      ],
      "text/plain": [
       "                   A         B         C         D\n",
       "2013-01-01  1.175032 -2.245533  1.196393 -1.896230\n",
       "2013-01-05  1.024923 -1.356436 -2.661236  0.765617\n",
       "2013-01-04 -0.180625 -1.332144 -0.503592 -0.458643\n",
       "2013-01-02  0.211655 -0.931049  0.339325 -0.991995\n",
       "2013-01-06 -0.209474 -0.739143  0.076423  2.346696\n",
       "2013-01-03  1.541121  0.709584  1.321304  0.715576"
      ]
     },
     "execution_count": 15,
     "metadata": {},
     "output_type": "execute_result"
    }
   ],
   "source": [
    "# Sort by values\n",
    "df.sort_values(by=\"B\")"
   ]
  },
  {
   "cell_type": "markdown",
   "metadata": {},
   "source": [
    "##### Selections\n",
    "\n",
    "One of the first steps in data analysis is simply to filter your data and get at slices you're most interested in. Pandas has numerous approaches to quickly get only what you want.\n",
    "<div class=\"alert alert-block alert-info\">\n",
    "    <b>Syntax</b>\n",
    "    <br>\n",
    "    <ul>\n",
    "        <li>Select a single column by addressing the dataframe as you would a dictionary, with `df[column]` or, if the column name is a single word, with `df.column`. This returns a series</li>\n",
    "        <li>Select a slice in the way you would a Python list, with `df[]`, e.g. `df[:3]`, or by slicing the indices, `df[\"20130102\":\"20130104\"]`</li>\n",
    "        <li>Use `.loc` to select by specific labels, such as:</li>\n",
    "        <ul>\n",
    "            <li>Get a cross-section based on a label, with e.g. `df.loc[index[0]]`</li>\n",
    "            <li>Get on multi-axis by a label, with `df.loc[:, [\"A\", \"B\"]]` where the first `:` indicates the slice of rows, and the second list `[\"A\", \"B\"]` indicates the list of columns</li>\n",
    "        </ul>\n",
    "        <li>As you would with Numpy, you can get a boolean-based selection, with e.g. `df[df.A > num]`</li>\n",
    "    </ul>\n",
    "</div>\n",
    "\n",
    "There are a _lot_ more ways to filter and access data, as well as methods to set data in your dataframes, but this will be enough for now."
   ]
  },
  {
   "cell_type": "code",
   "execution_count": 16,
   "metadata": {},
   "outputs": [
    {
     "data": {
      "text/plain": [
       "2013-01-01    1.175032\n",
       "2013-01-02    0.211655\n",
       "2013-01-03    1.541121\n",
       "2013-01-04   -0.180625\n",
       "2013-01-05    1.024923\n",
       "2013-01-06   -0.209474\n",
       "Freq: D, Name: A, dtype: float64"
      ]
     },
     "execution_count": 16,
     "metadata": {},
     "output_type": "execute_result"
    }
   ],
   "source": [
    "# By column\n",
    "df.A"
   ]
  },
  {
   "cell_type": "code",
   "execution_count": 17,
   "metadata": {},
   "outputs": [
    {
     "data": {
      "text/html": [
       "<div>\n",
       "<style scoped>\n",
       "    .dataframe tbody tr th:only-of-type {\n",
       "        vertical-align: middle;\n",
       "    }\n",
       "\n",
       "    .dataframe tbody tr th {\n",
       "        vertical-align: top;\n",
       "    }\n",
       "\n",
       "    .dataframe thead th {\n",
       "        text-align: right;\n",
       "    }\n",
       "</style>\n",
       "<table border=\"1\" class=\"dataframe\">\n",
       "  <thead>\n",
       "    <tr style=\"text-align: right;\">\n",
       "      <th></th>\n",
       "      <th>A</th>\n",
       "      <th>B</th>\n",
       "      <th>C</th>\n",
       "      <th>D</th>\n",
       "    </tr>\n",
       "  </thead>\n",
       "  <tbody>\n",
       "    <tr>\n",
       "      <th>2013-01-02</th>\n",
       "      <td>0.211655</td>\n",
       "      <td>-0.931049</td>\n",
       "      <td>0.339325</td>\n",
       "      <td>-0.991995</td>\n",
       "    </tr>\n",
       "    <tr>\n",
       "      <th>2013-01-03</th>\n",
       "      <td>1.541121</td>\n",
       "      <td>0.709584</td>\n",
       "      <td>1.321304</td>\n",
       "      <td>0.715576</td>\n",
       "    </tr>\n",
       "    <tr>\n",
       "      <th>2013-01-04</th>\n",
       "      <td>-0.180625</td>\n",
       "      <td>-1.332144</td>\n",
       "      <td>-0.503592</td>\n",
       "      <td>-0.458643</td>\n",
       "    </tr>\n",
       "  </tbody>\n",
       "</table>\n",
       "</div>"
      ],
      "text/plain": [
       "                   A         B         C         D\n",
       "2013-01-02  0.211655 -0.931049  0.339325 -0.991995\n",
       "2013-01-03  1.541121  0.709584  1.321304  0.715576\n",
       "2013-01-04 -0.180625 -1.332144 -0.503592 -0.458643"
      ]
     },
     "execution_count": 17,
     "metadata": {},
     "output_type": "execute_result"
    }
   ],
   "source": [
    "# By slice\n",
    "df[\"20130102\":\"20130104\"]"
   ]
  },
  {
   "cell_type": "code",
   "execution_count": 18,
   "metadata": {},
   "outputs": [
    {
     "data": {
      "text/plain": [
       "A    1.175032\n",
       "B   -2.245533\n",
       "C    1.196393\n",
       "D   -1.896230\n",
       "Name: 2013-01-01 00:00:00, dtype: float64"
      ]
     },
     "execution_count": 18,
     "metadata": {},
     "output_type": "execute_result"
    }
   ],
   "source": [
    "# Cross-section\n",
    "df.loc[dates[0]]"
   ]
  },
  {
   "cell_type": "code",
   "execution_count": 19,
   "metadata": {},
   "outputs": [
    {
     "data": {
      "text/html": [
       "<div>\n",
       "<style scoped>\n",
       "    .dataframe tbody tr th:only-of-type {\n",
       "        vertical-align: middle;\n",
       "    }\n",
       "\n",
       "    .dataframe tbody tr th {\n",
       "        vertical-align: top;\n",
       "    }\n",
       "\n",
       "    .dataframe thead th {\n",
       "        text-align: right;\n",
       "    }\n",
       "</style>\n",
       "<table border=\"1\" class=\"dataframe\">\n",
       "  <thead>\n",
       "    <tr style=\"text-align: right;\">\n",
       "      <th></th>\n",
       "      <th>A</th>\n",
       "      <th>B</th>\n",
       "    </tr>\n",
       "  </thead>\n",
       "  <tbody>\n",
       "    <tr>\n",
       "      <th>2013-01-01</th>\n",
       "      <td>1.175032</td>\n",
       "      <td>-2.245533</td>\n",
       "    </tr>\n",
       "    <tr>\n",
       "      <th>2013-01-02</th>\n",
       "      <td>0.211655</td>\n",
       "      <td>-0.931049</td>\n",
       "    </tr>\n",
       "    <tr>\n",
       "      <th>2013-01-03</th>\n",
       "      <td>1.541121</td>\n",
       "      <td>0.709584</td>\n",
       "    </tr>\n",
       "    <tr>\n",
       "      <th>2013-01-04</th>\n",
       "      <td>-0.180625</td>\n",
       "      <td>-1.332144</td>\n",
       "    </tr>\n",
       "    <tr>\n",
       "      <th>2013-01-05</th>\n",
       "      <td>1.024923</td>\n",
       "      <td>-1.356436</td>\n",
       "    </tr>\n",
       "    <tr>\n",
       "      <th>2013-01-06</th>\n",
       "      <td>-0.209474</td>\n",
       "      <td>-0.739143</td>\n",
       "    </tr>\n",
       "  </tbody>\n",
       "</table>\n",
       "</div>"
      ],
      "text/plain": [
       "                   A         B\n",
       "2013-01-01  1.175032 -2.245533\n",
       "2013-01-02  0.211655 -0.931049\n",
       "2013-01-03  1.541121  0.709584\n",
       "2013-01-04 -0.180625 -1.332144\n",
       "2013-01-05  1.024923 -1.356436\n",
       "2013-01-06 -0.209474 -0.739143"
      ]
     },
     "execution_count": 19,
     "metadata": {},
     "output_type": "execute_result"
    }
   ],
   "source": [
    "# Multi-axis\n",
    "df.loc[:, [\"A\", \"B\"]]"
   ]
  },
  {
   "cell_type": "code",
   "execution_count": 20,
   "metadata": {},
   "outputs": [
    {
     "data": {
      "text/html": [
       "<div>\n",
       "<style scoped>\n",
       "    .dataframe tbody tr th:only-of-type {\n",
       "        vertical-align: middle;\n",
       "    }\n",
       "\n",
       "    .dataframe tbody tr th {\n",
       "        vertical-align: top;\n",
       "    }\n",
       "\n",
       "    .dataframe thead th {\n",
       "        text-align: right;\n",
       "    }\n",
       "</style>\n",
       "<table border=\"1\" class=\"dataframe\">\n",
       "  <thead>\n",
       "    <tr style=\"text-align: right;\">\n",
       "      <th></th>\n",
       "      <th>A</th>\n",
       "      <th>B</th>\n",
       "      <th>C</th>\n",
       "      <th>D</th>\n",
       "    </tr>\n",
       "  </thead>\n",
       "  <tbody>\n",
       "    <tr>\n",
       "      <th>2013-01-01</th>\n",
       "      <td>1.175032</td>\n",
       "      <td>-2.245533</td>\n",
       "      <td>1.196393</td>\n",
       "      <td>-1.896230</td>\n",
       "    </tr>\n",
       "    <tr>\n",
       "      <th>2013-01-02</th>\n",
       "      <td>0.211655</td>\n",
       "      <td>-0.931049</td>\n",
       "      <td>0.339325</td>\n",
       "      <td>-0.991995</td>\n",
       "    </tr>\n",
       "    <tr>\n",
       "      <th>2013-01-03</th>\n",
       "      <td>1.541121</td>\n",
       "      <td>0.709584</td>\n",
       "      <td>1.321304</td>\n",
       "      <td>0.715576</td>\n",
       "    </tr>\n",
       "    <tr>\n",
       "      <th>2013-01-05</th>\n",
       "      <td>1.024923</td>\n",
       "      <td>-1.356436</td>\n",
       "      <td>-2.661236</td>\n",
       "      <td>0.765617</td>\n",
       "    </tr>\n",
       "  </tbody>\n",
       "</table>\n",
       "</div>"
      ],
      "text/plain": [
       "                   A         B         C         D\n",
       "2013-01-01  1.175032 -2.245533  1.196393 -1.896230\n",
       "2013-01-02  0.211655 -0.931049  0.339325 -0.991995\n",
       "2013-01-03  1.541121  0.709584  1.321304  0.715576\n",
       "2013-01-05  1.024923 -1.356436 -2.661236  0.765617"
      ]
     },
     "execution_count": 20,
     "metadata": {},
     "output_type": "execute_result"
    }
   ],
   "source": [
    "# Boolean indexing\n",
    "df[df.A > 0]"
   ]
  },
  {
   "cell_type": "markdown",
   "metadata": {},
   "source": [
    "#### Matplotlib\n",
    "\n",
    "In this last section, you get to meet _Matplotlib_, a fairly ubiquitous and powerful Python plotting library. Jupyter Notebook has some \"magic\" we can use in the line `%matplotlib inline` which permits us to draw charts directly in this notebook.\n",
    "\n",
    "Matplotlib, Numpy and Pandas form the three most important and ubiquitous tools in data analysis.\n",
    "\n",
    "Note that this is the merest slither of an introduction to what you can do with these libraries."
   ]
  },
  {
   "cell_type": "code",
   "execution_count": 21,
   "metadata": {},
   "outputs": [
    {
     "data": {
      "text/plain": [
       "<matplotlib.axes._subplots.AxesSubplot at 0x1f537de6860>"
      ]
     },
     "execution_count": 21,
     "metadata": {},
     "output_type": "execute_result"
    },
    {
     "data": {
      "image/png": "[encoded data removed]",
      "text/plain": [
       "<Figure size 432x288 with 1 Axes>"
      ]
     },
     "metadata": {
      "needs_background": "light"
     },
     "output_type": "display_data"
    }
   ],
   "source": [
    "import matplotlib.pyplot as plt\n",
    "# This bit of magic code will allow your Matplotlib plots to be shown directly in your Jupyter Notebook.\n",
    "%matplotlib inline\n",
    "\n",
    "# Produce a random timeseries\n",
    "ts = pd.Series(np.random.randn(1000), index=pd.date_range('1/1/2000', periods=1000))\n",
    "\n",
    "# Get the cumulative sum of the random numbers generated to mimic a historic data series\n",
    "ts = ts.cumsum()\n",
    "\n",
    "# And magically plot\n",
    "ts.plot()"
   ]
  },
  {
   "cell_type": "code",
   "execution_count": 22,
   "metadata": {},
   "outputs": [
    {
     "data": {
      "text/plain": [
       "<matplotlib.legend.Legend at 0x1f538166c50>"
      ]
     },
     "execution_count": 22,
     "metadata": {},
     "output_type": "execute_result"
    },
    {
     "data": {
      "text/plain": [
       "<Figure size 432x288 with 0 Axes>"
      ]
     },
     "metadata": {},
     "output_type": "display_data"
    },
    {
     "data": {
      "image/png": "[encoded data removed]",
      "text/plain": [
       "<Figure size 432x288 with 1 Axes>"
      ]
     },
     "metadata": {
      "needs_background": "light"
     },
     "output_type": "display_data"
    }
   ],
   "source": [
    "# And do the same thing with a dataframe\n",
    "df = pd.DataFrame(np.random.randn(1000, 4), index=ts.index,\n",
    "                  columns=['A', 'B', 'C', 'D'])\n",
    "\n",
    "df = df.cumsum()\n",
    "\n",
    "# And plot, this time creating a figure and adding a plot and legend to it\n",
    "plt.figure()\n",
    "df.plot()\n",
    "plt.legend(loc='best')"
   ]
  },
  {
   "source": [],
   "cell_type": "markdown",
   "metadata": {}
  },
  {
   "cell_type": "markdown",
   "metadata": {},
   "source": [
    "### Sample code"
   ]
  },
  {
   "cell_type": "code",
   "execution_count": 3,
   "metadata": {},
   "outputs": [
    {
     "output_type": "stream",
     "name": "stdout",
     "text": [
      "hello\n",
      "1\n",
      "abc\n",
      "Please input your name\n",
      "Your name is :  tom\n"
     ]
    }
   ],
   "source": [
    "print(\"hello\")\n",
    "\n",
    "a=1\n",
    "\n",
    "print(a)\n",
    "\n",
    "b=\"abc\"\n",
    "\n",
    "print(b)\n",
    "\n",
    "print(\"Please input your name\")\n",
    "x = input()\n",
    "print(\"Your name is : \", x)"
   ]
  },
  {
   "cell_type": "code",
   "execution_count": 4,
   "metadata": {},
   "outputs": [
    {
     "output_type": "stream",
     "name": "stdout",
     "text": [
      "a is equal to 1\n",
      "2\n",
      "3\n",
      "4\n",
      "5\n",
      "please input the radius : \n",
      "the area is  28.278\n",
      "please input the radius : \n",
      "the area is  12.568\n"
     ]
    }
   ],
   "source": [
    "\n",
    "if a == 1:\n",
    "    print(\"a is equal to 1\")\n",
    "else:\n",
    "    print(\"a is not equal to 1\")\n",
    "\n",
    "for i in range (2,6):\n",
    "    print(i)\n",
    "\n",
    "# compute area\n",
    "print(\"please input the radius : \")\n",
    "x = float(input())\n",
    "area = 3.142 * (x ** 2)\n",
    "print(\"the area is \", area)\n",
    "\n",
    "def cal_area(r):\n",
    "    a = 3.142 * (r ** 2)\n",
    "    return a\n",
    "\n",
    "print(\"please input the radius : \")\n",
    "radius = float(input())\n",
    "area = cal_area(radius)\n",
    "print(\"the area is \", area)\n"
   ]
  },
  {
   "cell_type": "code",
   "execution_count": 5,
   "metadata": {},
   "outputs": [
    {
     "output_type": "stream",
     "name": "stdout",
     "text": [
      "3\nArea is :  28.278\nParameter is :  18.852\n"
     ]
    }
   ],
   "source": [
    "# Class\n",
    "class Basic:\n",
    "    x=3\n",
    "\n",
    "y = Basic()\n",
    "print(y.x)\n",
    "    \n",
    "class Computation:\n",
    "    def area(self):\n",
    "        return 3.142*self.radius**2\n",
    "    def parameter(self):\n",
    "        return 3.142*self.radius*2\n",
    "    def __init__(self, radius):\n",
    "        self.radius = radius\n",
    "\n",
    "a = Computation(3)\n",
    "print(\"Area is : \", a.area())\n",
    "\n",
    "print(\"Parameter is : \", a.parameter())\n",
    "\n",
    "\n"
   ]
  },
  {
   "cell_type": "code",
   "execution_count": 6,
   "metadata": {},
   "outputs": [
    {
     "output_type": "stream",
     "name": "stdout",
     "text": [
      "Sum: 8\nSum: 22\nSum: 17\nData type of argument:  <class 'dict'> \n\nFirstname is Sita\nLastname is Sharma\nAge is 22\nPhone is 1234567890\nData type of argument:  <class 'dict'> \n\nFirstname is John\nLastname is Wood\nEmail is johnwood@nomail.com\nCountry is Wakanda\nAge is 25\nPhone is 9876543210\n"
     ]
    }
   ],
   "source": [
    "def adder(*num):\n",
    "    sum = 0\n",
    "    \n",
    "    for n in num:\n",
    "        sum = sum + n\n",
    "\n",
    "    print(\"Sum:\",sum)\n",
    "\n",
    "adder(3,5)\n",
    "adder(4,5,6,7)\n",
    "adder(1,2,3,5,6)\n",
    "\n",
    "def intro(**data):\n",
    "    print(\"Data type of argument: \",type(data), \"\\n\")\n",
    "\n",
    "    for key, value in data.items():\n",
    "        print(\"{} is {}\".format(key,value))\n",
    "\n",
    "intro(Firstname=\"Sita\", Lastname=\"Sharma\", Age=22, Phone=1234567890)\n",
    "intro(Firstname=\"John\", Lastname=\"Wood\", Email=\"johnwood@nomail.com\", Country=\"Wakanda\", Age=25, Phone=9876543210)"
   ]
  },
  {
   "source": [
    "And that's it for this quick introduction to Python and its use in data analysis.\n"
   ],
   "cell_type": "markdown",
   "metadata": {}
  }
 ],
 "metadata": {
  "kernelspec": {
   "name": "python379jvsc74a57bd003cc6c235735ef41ce6e0195c89775c2a43a56af6ff61cfa3ad0c5118b18cb89",
   "display_name": "Python 3.7.9 64-bit ('qe-mini-example': conda)"
  },
  "language_info": {
   "codemirror_mode": {
    "name": "ipython",
    "version": 3
   },
   "file_extension": ".py",
   "mimetype": "text/x-python",
   "name": "python",
   "nbconvert_exporter": "python",
   "pygments_lexer": "ipython3",
   "version": "3.7.9-final"
  },
  "latex_envs": {
   "LaTeX_envs_menu_present": true,
   "autocomplete": true,
   "bibliofile": "biblio.bib",
   "cite_by": "apalike",
   "current_citInitial": 1,
   "eqLabelWithNumbers": true,
   "eqNumInitial": 1,
   "hotkeys": {
    "equation": "Ctrl-E",
    "itemize": "Ctrl-I"
   },
   "labels_anchors": false,
   "latex_user_defs": false,
   "report_style_numbering": false,
   "user_envs_cfg": false
  }
 },
 "nbformat": 4,
 "nbformat_minor": 4
}