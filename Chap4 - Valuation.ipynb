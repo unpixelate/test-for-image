{
 "cells": [
  {
   "cell_type": "markdown",
   "id": "d8a38573",
   "metadata": {},
   "source": [
    "# Valuation\n",
    "\n",
    "**Learning outcomes:**\n",
    "\n",
    "- Understand what is valuation and its definition\n",
    "- Understand the history of valuation\n",
    "- Appreciate the traditional methods of valuation\n",
    "- Learn about the computational valuation methodologies "
   ]
  },
  {
   "cell_type": "markdown",
   "id": "3a9be93a",
   "metadata": {},
   "source": [
    "## Definition\n",
    "\n",
    "Valuation is the process of estimating the worth of an asset, such as a company, stock, property, or intellectual property, in order to determine a fair price for the asset. This involves analyzing the asset's financial and market data, including revenue, earnings, and cash flow, to determine its future potential and calculate its value based on various financial models and methodologies.\n",
    "\n",
    "## History of valuation\n",
    "\n",
    "The history of valuation dates back thousands of years and has evolved over time. The earliest forms of valuation were based on bartering, where goods or services were exchanged for other goods or services. With the development of currency and commerce, the need for more structured methods of valuation arose.\n",
    "In ancient Greece and Rome, valuations were based on the cost of labor and materials required to produce an item. During the Middle Ages, the concept of fair market value was introduced, which was based on the idea of what a buyer would pay for an item in a free and open market.\n",
    "\n",
    "In the 19th century, the industrial revolution and the rise of the stock market created a need for more sophisticated valuation methods, leading to the development of financial analysis and the use of discounted cash flow (DCF) analysis. Today, there are many different valuation methods used in various industries, including real estate, financial securities, and intellectual property."
   ]
  },
  {
   "cell_type": "markdown",
   "id": "0395f42e",
   "metadata": {},
   "source": [
    "## Traditional methods of valuation\n",
    "\n",
    "Valuation methods include:\n",
    "\n",
    "- Comparable company analysis\n",
    "- Discounted cash flow\n",
    "- Net asset value\n",
    "- Ratio methods"
   ]
  },
  {
   "cell_type": "markdown",
   "id": "584f6fc8",
   "metadata": {},
   "source": [
    "### Comparable company analysis\n",
    "\n",
    "Comparable company analysis (also known as \"peer company analysis\" or \"comps\") is a financial valuation method that compares the financial metrics of a company with those of similar companies in order to estimate its value. It's often used in M&A and equity research. The financial metrics used in a comparable company analysis typically include revenue, EBITDA, EBIT, and enterprise value.\n",
    "\n",
    "Comparable Company Analysis (or Comps) is a valuation method used to estimate the value of a company by comparing it to similar companies that have already gone public or been acquired.\n",
    "\n",
    "Here is a simple mathematical example:\n",
    "\n",
    "Suppose we have 3 comparable companies, A, B, and C, and their respective market capitalization (Market Cap) is $100 million, $120 million, and $150 million. To find the average market capitalization, we can add all 3 values and divide by 3:\n",
    "\n",
    "$$ Average\\ Market\\ Cap = \\frac{100 + 120 + 150}{3} = 120$$\n",
    "\n",
    "Now, if we have another company, X, with similar financial and operational characteristics as the comparable companies, we can estimate its value by using the average market capitalization of the comparable companies.\n",
    "\n",
    "$$ Value\\ of\\ Company\\ X = Average\\ Market\\ Cap = 120$$\n",
    "\n",
    "Another example of application would be as follows:\n",
    "\n",
    "Suppose we want to value a software company X. We look at its financials and find that it has revenue of $100 million, an operating margin of 30%, and a growth rate of 20%.\n",
    "\n",
    "We then compare company X to other similar software companies, say companies A, B, and C. We find that these companies have the following financials:\n",
    "\n",
    "Company A: Revenue $90 million, operating margin of 25\\%, and a growth rate of 25\\%.\n",
    "\n",
    "Company B: Revenue $110 million, operating margin of 35\\%, and a growth rate of 15\\%.\n",
    "\n",
    "Company C: Revenue $80 million, operating margin of 20\\%, and a growth rate of 30\\%.\n",
    "\n",
    "Using comparable company analysis, we can estimate the value of company X by comparing its financials to the financials of companies A, B, and C.\n",
    "\n",
    "For example, we can estimate the value of company X based on its revenue, operating margin, and growth rate as follows:\n",
    "\n",
    "Value of company X = (Revenue * Operating margin * Growth rate) / (Market average operating margin * Market average growth rate) \n",
    "\n",
    "Value of company X = ($100 million * 30% * 20%) / (27.5% * 22.5%) \n",
    "\n",
    "Value of company X = $280 million\n",
    "\n",
    "This is just an example, and the actual value of company X could be different based on various factors such as industry trends, competition, market conditions, etc. However, comparable company analysis provides a starting point for valuing a company based on market data."
   ]
  },
  {
   "cell_type": "markdown",
   "id": "47351930",
   "metadata": {},
   "source": [
    "### Discounted cashflow\n",
    "\n",
    "Discounted cash flow (DCF) is a financial method used to evaluate the value of an investment based on the present value of its future cash flows. This approach takes into account the time value of money, which means that money is worth more in the present than it is in the future due to factors such as inflation and the opportunity cost of not investing that money elsewhere.\n",
    "\n",
    "To use DCF, an analyst must estimate the future cash flows that an investment is expected to generate and then \"discount\" them back to their present value using an appropriate discount rate. The resulting present value represents the estimated value of the investment today.\n",
    "\n",
    "Here is a simple example of how to use DCF:\n",
    "\n",
    "Suppose that you are considering investing in a rental property. You expect to earn \\\\$10,000 per year in rental income over the next 10 years, and you expect to sell the property for $200,000 at the end of the 10-year period. Assuming that your required rate of return is 8%, you can use DCF to estimate the present value of the investment as follows:\n",
    "\n",
    "Calculate the present value of each year's rental income using the following formula: Present Value = Cash Flow / (1 + Discount Rate)^Number of Years\n",
    "For example, the present value of the rental income in Year 1 would be \\\\$10,000 / (1 + 0.08)^1 = $9,259.26.\n",
    "\n",
    "Calculate the present value of the property's sale price at the end of the 10-year period using the same formula: Present Value = Cash Flow / (1 + Discount Rate)^Number of Years\n",
    "In this case, the present value of the sale price would be \\\\$200,000 / (1 + 0.08)^10 = $98,166.31.\n",
    "\n",
    "Add up the present values of each year's rental income and the present value of the property's sale price to get the total present value of the investment: \\\\$9,259.26 + \\\\$98,166.31 = \\\\$107,425.57.\n",
    "\n",
    "So, according to this DCF analysis, the rental property would be worth \\\\$107,425.57 today if your required rate of return is 8% and your cash flow projections are accurate.\n",
    "\n",
    "Keep in mind that this is a simplified example, and DCF analysis can be much more complex depending on the nature of the investment and the specific assumptions being made. However, the basic principles of DCF remain the same: estimate future cash flows, discount them to their present value, and use that present value as an estimate of the investment's current worth.\n",
    "\n",
    "In Python, you can calculate discounted cash flow using the numpy library, which provides functions for handling arrays and numerical calculations, and the pandas library, which is used for data manipulation and analysis. Here's an example:"
   ]
  },
  {
   "cell_type": "code",
   "execution_count": 8,
   "id": "21b83b0a",
   "metadata": {},
   "outputs": [
    {
     "name": "stdout",
     "output_type": "stream",
     "text": [
      "Present value: $150.19\n"
     ]
    }
   ],
   "source": [
    "import numpy as np\n",
    "import pandas as pd\n",
    "\n",
    "# Define inputs\n",
    "cash_flows = pd.Series([-100, 50, 75, 90, 110])\n",
    "discount_rate = 0.1\n",
    "\n",
    "# Calculate present value of cash flows\n",
    "discount_factors = np.array([(1 + discount_rate)**(-t) for t in range(len(cash_flows))])\n",
    "present_value = cash_flows.dot(discount_factors)\n",
    "\n",
    "print('Present value: ${:,.2f}'.format(present_value)) #Present value: $150.19"
   ]
  },
  {
   "cell_type": "markdown",
   "id": "0b829f30",
   "metadata": {},
   "source": [
    "In this example, we have a series of cash flows representing the expected future cash flows of an investment over five years. The first cash flow is an initial investment of \\\\$100, followed by cash flows of \\\\$50, \\\\$75, \\\\$90, and \\\\$110 in years 1 through 4, respectively. We also have a discount rate of 10%.\n",
    "\n",
    "The discount_factors array calculates the discount factor for each year, which is used to discount the cash flows back to their present value. The dot method is used to calculate the dot product of the cash flows and discount factors arrays, which gives the present value of the investment.\n",
    "\n",
    "The output of this code will be: $150.19"
   ]
  },
  {
   "cell_type": "markdown",
   "id": "5d99a7a2",
   "metadata": {},
   "source": [
    "Here is another example that is related to an acquisition by a fictional company, ABC comapny.\n",
    "\n",
    "ABC Company is considering the acquisition of XYZ Software, which generates an estimated annual cash flow of $500,000 over the next 5 years. The software is determined to be obsolete at the end of the 5 years and thus, would not be able to generate any cashflow thereafter. The appropriate discount rate for this analysis is determined to be 8%. \n",
    "\n",
    "The present value of XYZ Company's cash flows can be calculated using the following Python code:"
   ]
  },
  {
   "cell_type": "code",
   "execution_count": 12,
   "id": "10e72580",
   "metadata": {},
   "outputs": [
    {
     "name": "stdout",
     "output_type": "stream",
     "text": [
      "The present value of XYZ Company's cash flows is $1996355.02.\n"
     ]
    }
   ],
   "source": [
    "# Define the cash flows and discount rate\n",
    "cash_flows = [500000, 500000, 500000, 500000, 500000]\n",
    "discount_rate = 0.08\n",
    "\n",
    "# Calculate the present value of the cash flows\n",
    "present_value = sum(cf / (1 + discount_rate) ** (i+1) for i, cf in enumerate(cash_flows))\n",
    "\n",
    "# Output the result\n",
    "print(f\"The present value of XYZ Company's cash flows is ${present_value:.2f}.\")"
   ]
  },
  {
   "cell_type": "markdown",
   "id": "b4da4300",
   "metadata": {},
   "source": [
    "Based on these assumptions, the present value of XYZ Company's cash flows is calculated to be approximately $1,986,046.71.\n",
    "\n",
    "This analysis can assist ABC Company in determining whether acquiring XYZ technology is a financially sound investment, by comparing the present value of expected cash flows to the acquisition cost. If the acquisition cost is less than \\\\$1,986,046.71, the investment is expected to yield a positive net present value.\n",
    "\n",
    "This example demonstrates how discounted cash flow analysis can help companies make informed investment decisions by estimating the present value of future cash flows and comparing them to the investment's initial cost. It is a valuable tool for  and professionals alike in evaluating potential investments."
   ]
  },
  {
   "cell_type": "markdown",
   "id": "8b2220dc",
   "metadata": {},
   "source": [
    "### Net asset value\n",
    "Net asset value (NAV) is a valuation method used to determine the value of a company based on the difference between its total assets and total liabilities. This method assumes that a company's value is equal to its net asset value\n",
    "\n",
    "The net asset value of a company can be calculated using the following formula:\n",
    "\n",
    "```\n",
    "NAV = Total assets - Total liabilities\n",
    "```\n",
    "This formula takes into account only the tangible assets and liabilities of a company and does not consider factors such as future earnings potential, market position, or growth prospects\n",
    "\n",
    "While NAV can be a useful method for valuing companies that have a high proportion of tangible assets, such as real estate investment trusts (REITs) or closed-end funds, it may not be appropriate for companies in other industries\n",
    "\n",
    "Additionally, it is important to note that the accuracy of the NAV calculation depends on the accuracy of the company's balance sheet. If the balance sheet is incomplete or inaccurate, the NAV calculation will be similarly flawed.\n",
    "\n",
    "Despite these limitations, NAV can be a useful starting point for valuing a company, particularly in situations where other valuation methods are not applicable.\n",
    "\n",
    "For example, let's consider a hypothetical company called ABC Inc. that has total assets of \\\\$10 million and total liabilities of $6 million. The net asset value of ABC Inc. would be calculated as follows:"
   ]
  },
  {
   "cell_type": "code",
   "execution_count": 23,
   "id": "9eb893fe",
   "metadata": {},
   "outputs": [
    {
     "name": "stdout",
     "output_type": "stream",
     "text": [
      "The net asset value of ABC Inc. is $4.00 million.\n"
     ]
    }
   ],
   "source": [
    "# Define the total assets and total liabilities\n",
    "total_assets = 10000000\n",
    "total_liabilities = 6000000\n",
    "\n",
    "# Calculate the net asset value (NAV)\n",
    "nav = total_assets - total_liabilities\n",
    "\n",
    "# Output the result\n",
    "print(f\"The net asset value of ABC Inc. is ${nav//(1000000):.2f} million.\")"
   ]
  },
  {
   "cell_type": "markdown",
   "id": "ea41090d",
   "metadata": {},
   "source": [
    "### Ratio based methods\n",
    "\n",
    "When it comes to valuing a company, there are various methods available. One of the most common approaches is ratio analysis. Ratio analysis involves comparing different financial metrics to gain insights into a company's financial health and value. In this chapter, we will explore the different ratio methods used in valuation and how to implement them using Python.\n",
    "\n",
    "#### Price-to-Earnings (P/E) Ratio\n",
    "The price-to-earnings (P/E) ratio is one of the most widely used ratios in valuation. It is calculated by dividing a company's market price per share by its earnings per share (EPS). A higher P/E ratio indicates that investors are willing to pay more for each dollar of earnings.\n",
    "\n",
    "Example:\n",
    "If the market price per share for Apple Inc. (AAPL) is \\\\$200 and its book value per share is \\\\$20, then the P/B ratio would be 10 (i.e. \\\\$200 / \\\\$20).\n",
    "\n"
   ]
  },
  {
   "cell_type": "code",
   "execution_count": null,
   "id": "f912f090",
   "metadata": {},
   "outputs": [],
   "source": [
    "!python\n",
    "import pandas as pd\n",
    "import yfinance as yf\n",
    "\n",
    "# Fetching data from Yahoo Finance API\n",
    "ticker = \"AAPL\"\n",
    "data = yf.Ticker(ticker).history(period=\"yearly\")\n",
    "\n",
    "# Calculating P/E ratio\n",
    "#pe_ratio = data['Close'].iloc[-1] / data['Earnings'].iloc[-1]\n",
    "\n",
    "#print(\"P/E Ratio for\", ticker, \"is\", round(pe_ratio, 2))\n",
    "\n",
    "yf.Ticker(ticker).get_earnings()\n"
   ]
  },
  {
   "cell_type": "markdown",
   "id": "6b78b6fa",
   "metadata": {},
   "source": [
    "Example:\n",
    "If the market price per share for Apple Inc. (AAPL) is \\\\$200 and its EPS is \\\\$10, then the P/E ratio would be 20 (i.e., \\\\$200 / \\\\$10).\n",
    "\n",
    "\n",
    "\n",
    "\n",
    "Price-to-Book (P/B) Ratio\n",
    "The price-to-book (P/B) ratio is another commonly used ratio in valuation. It is calculated by dividing a company's market price per share by its book value per share. The book value is the difference between a company's assets and liabilities."
   ]
  },
  {
   "cell_type": "code",
   "execution_count": 39,
   "id": "a610b6f2",
   "metadata": {},
   "outputs": [
    {
     "ename": "KeyError",
     "evalue": "'Book Value'",
     "output_type": "error",
     "traceback": [
      "\u001b[1;31m---------------------------------------------------------------------------\u001b[0m",
      "\u001b[1;31mKeyError\u001b[0m                                  Traceback (most recent call last)",
      "\u001b[1;32m~\\anaconda3\\lib\\site-packages\\pandas\\core\\indexes\\base.py\u001b[0m in \u001b[0;36mget_loc\u001b[1;34m(self, key, method, tolerance)\u001b[0m\n\u001b[0;32m   3628\u001b[0m             \u001b[1;32mtry\u001b[0m\u001b[1;33m:\u001b[0m\u001b[1;33m\u001b[0m\u001b[1;33m\u001b[0m\u001b[0m\n\u001b[1;32m-> 3629\u001b[1;33m                 \u001b[1;32mreturn\u001b[0m \u001b[0mself\u001b[0m\u001b[1;33m.\u001b[0m\u001b[0m_engine\u001b[0m\u001b[1;33m.\u001b[0m\u001b[0mget_loc\u001b[0m\u001b[1;33m(\u001b[0m\u001b[0mcasted_key\u001b[0m\u001b[1;33m)\u001b[0m\u001b[1;33m\u001b[0m\u001b[1;33m\u001b[0m\u001b[0m\n\u001b[0m\u001b[0;32m   3630\u001b[0m             \u001b[1;32mexcept\u001b[0m \u001b[0mKeyError\u001b[0m \u001b[1;32mas\u001b[0m \u001b[0merr\u001b[0m\u001b[1;33m:\u001b[0m\u001b[1;33m\u001b[0m\u001b[1;33m\u001b[0m\u001b[0m\n",
      "\u001b[1;32m~\\anaconda3\\lib\\site-packages\\pandas\\_libs\\index.pyx\u001b[0m in \u001b[0;36mpandas._libs.index.IndexEngine.get_loc\u001b[1;34m()\u001b[0m\n",
      "\u001b[1;32m~\\anaconda3\\lib\\site-packages\\pandas\\_libs\\index.pyx\u001b[0m in \u001b[0;36mpandas._libs.index.IndexEngine.get_loc\u001b[1;34m()\u001b[0m\n",
      "\u001b[1;32mpandas\\_libs\\hashtable_class_helper.pxi\u001b[0m in \u001b[0;36mpandas._libs.hashtable.PyObjectHashTable.get_item\u001b[1;34m()\u001b[0m\n",
      "\u001b[1;32mpandas\\_libs\\hashtable_class_helper.pxi\u001b[0m in \u001b[0;36mpandas._libs.hashtable.PyObjectHashTable.get_item\u001b[1;34m()\u001b[0m\n",
      "\u001b[1;31mKeyError\u001b[0m: 'Book Value'",
      "\nThe above exception was the direct cause of the following exception:\n",
      "\u001b[1;31mKeyError\u001b[0m                                  Traceback (most recent call last)",
      "\u001b[1;32m~\\AppData\\Local\\Temp\\ipykernel_3408\\2073110208.py\u001b[0m in \u001b[0;36m<module>\u001b[1;34m\u001b[0m\n\u001b[0;32m      7\u001b[0m \u001b[1;33m\u001b[0m\u001b[0m\n\u001b[0;32m      8\u001b[0m \u001b[1;31m# Calculating P/B ratio\u001b[0m\u001b[1;33m\u001b[0m\u001b[1;33m\u001b[0m\u001b[0m\n\u001b[1;32m----> 9\u001b[1;33m \u001b[0mpb_ratio\u001b[0m \u001b[1;33m=\u001b[0m \u001b[0mdata\u001b[0m\u001b[1;33m[\u001b[0m\u001b[1;34m'Close'\u001b[0m\u001b[1;33m]\u001b[0m\u001b[1;33m.\u001b[0m\u001b[0miloc\u001b[0m\u001b[1;33m[\u001b[0m\u001b[1;33m-\u001b[0m\u001b[1;36m1\u001b[0m\u001b[1;33m]\u001b[0m \u001b[1;33m/\u001b[0m \u001b[0mdata\u001b[0m\u001b[1;33m[\u001b[0m\u001b[1;34m'Book Value'\u001b[0m\u001b[1;33m]\u001b[0m\u001b[1;33m.\u001b[0m\u001b[0miloc\u001b[0m\u001b[1;33m[\u001b[0m\u001b[1;33m-\u001b[0m\u001b[1;36m1\u001b[0m\u001b[1;33m]\u001b[0m\u001b[1;33m\u001b[0m\u001b[1;33m\u001b[0m\u001b[0m\n\u001b[0m\u001b[0;32m     10\u001b[0m \u001b[1;33m\u001b[0m\u001b[0m\n\u001b[0;32m     11\u001b[0m \u001b[0mprint\u001b[0m\u001b[1;33m(\u001b[0m\u001b[1;34m\"P/B Ratio for\"\u001b[0m\u001b[1;33m,\u001b[0m \u001b[0mticker\u001b[0m\u001b[1;33m,\u001b[0m \u001b[1;34m\"is\"\u001b[0m\u001b[1;33m,\u001b[0m \u001b[0mround\u001b[0m\u001b[1;33m(\u001b[0m\u001b[0mpb_ratio\u001b[0m\u001b[1;33m,\u001b[0m \u001b[1;36m2\u001b[0m\u001b[1;33m)\u001b[0m\u001b[1;33m)\u001b[0m\u001b[1;33m\u001b[0m\u001b[1;33m\u001b[0m\u001b[0m\n",
      "\u001b[1;32m~\\anaconda3\\lib\\site-packages\\pandas\\core\\frame.py\u001b[0m in \u001b[0;36m__getitem__\u001b[1;34m(self, key)\u001b[0m\n\u001b[0;32m   3503\u001b[0m             \u001b[1;32mif\u001b[0m \u001b[0mself\u001b[0m\u001b[1;33m.\u001b[0m\u001b[0mcolumns\u001b[0m\u001b[1;33m.\u001b[0m\u001b[0mnlevels\u001b[0m \u001b[1;33m>\u001b[0m \u001b[1;36m1\u001b[0m\u001b[1;33m:\u001b[0m\u001b[1;33m\u001b[0m\u001b[1;33m\u001b[0m\u001b[0m\n\u001b[0;32m   3504\u001b[0m                 \u001b[1;32mreturn\u001b[0m \u001b[0mself\u001b[0m\u001b[1;33m.\u001b[0m\u001b[0m_getitem_multilevel\u001b[0m\u001b[1;33m(\u001b[0m\u001b[0mkey\u001b[0m\u001b[1;33m)\u001b[0m\u001b[1;33m\u001b[0m\u001b[1;33m\u001b[0m\u001b[0m\n\u001b[1;32m-> 3505\u001b[1;33m             \u001b[0mindexer\u001b[0m \u001b[1;33m=\u001b[0m \u001b[0mself\u001b[0m\u001b[1;33m.\u001b[0m\u001b[0mcolumns\u001b[0m\u001b[1;33m.\u001b[0m\u001b[0mget_loc\u001b[0m\u001b[1;33m(\u001b[0m\u001b[0mkey\u001b[0m\u001b[1;33m)\u001b[0m\u001b[1;33m\u001b[0m\u001b[1;33m\u001b[0m\u001b[0m\n\u001b[0m\u001b[0;32m   3506\u001b[0m             \u001b[1;32mif\u001b[0m \u001b[0mis_integer\u001b[0m\u001b[1;33m(\u001b[0m\u001b[0mindexer\u001b[0m\u001b[1;33m)\u001b[0m\u001b[1;33m:\u001b[0m\u001b[1;33m\u001b[0m\u001b[1;33m\u001b[0m\u001b[0m\n\u001b[0;32m   3507\u001b[0m                 \u001b[0mindexer\u001b[0m \u001b[1;33m=\u001b[0m \u001b[1;33m[\u001b[0m\u001b[0mindexer\u001b[0m\u001b[1;33m]\u001b[0m\u001b[1;33m\u001b[0m\u001b[1;33m\u001b[0m\u001b[0m\n",
      "\u001b[1;32m~\\anaconda3\\lib\\site-packages\\pandas\\core\\indexes\\base.py\u001b[0m in \u001b[0;36mget_loc\u001b[1;34m(self, key, method, tolerance)\u001b[0m\n\u001b[0;32m   3629\u001b[0m                 \u001b[1;32mreturn\u001b[0m \u001b[0mself\u001b[0m\u001b[1;33m.\u001b[0m\u001b[0m_engine\u001b[0m\u001b[1;33m.\u001b[0m\u001b[0mget_loc\u001b[0m\u001b[1;33m(\u001b[0m\u001b[0mcasted_key\u001b[0m\u001b[1;33m)\u001b[0m\u001b[1;33m\u001b[0m\u001b[1;33m\u001b[0m\u001b[0m\n\u001b[0;32m   3630\u001b[0m             \u001b[1;32mexcept\u001b[0m \u001b[0mKeyError\u001b[0m \u001b[1;32mas\u001b[0m \u001b[0merr\u001b[0m\u001b[1;33m:\u001b[0m\u001b[1;33m\u001b[0m\u001b[1;33m\u001b[0m\u001b[0m\n\u001b[1;32m-> 3631\u001b[1;33m                 \u001b[1;32mraise\u001b[0m \u001b[0mKeyError\u001b[0m\u001b[1;33m(\u001b[0m\u001b[0mkey\u001b[0m\u001b[1;33m)\u001b[0m \u001b[1;32mfrom\u001b[0m \u001b[0merr\u001b[0m\u001b[1;33m\u001b[0m\u001b[1;33m\u001b[0m\u001b[0m\n\u001b[0m\u001b[0;32m   3632\u001b[0m             \u001b[1;32mexcept\u001b[0m \u001b[0mTypeError\u001b[0m\u001b[1;33m:\u001b[0m\u001b[1;33m\u001b[0m\u001b[1;33m\u001b[0m\u001b[0m\n\u001b[0;32m   3633\u001b[0m                 \u001b[1;31m# If we have a listlike key, _check_indexing_error will raise\u001b[0m\u001b[1;33m\u001b[0m\u001b[1;33m\u001b[0m\u001b[0m\n",
      "\u001b[1;31mKeyError\u001b[0m: 'Book Value'"
     ]
    }
   ],
   "source": [
    "import pandas as pd\n",
    "import yfinance as yf\n",
    "\n",
    "# Fetching data from Yahoo Finance API\n",
    "ticker = \"AAPL\"\n",
    "data = yf.Ticker(ticker).history(period=\"1mo\")\n",
    "\n",
    "# Calculating P/B ratio\n",
    "pb_ratio = data['Close'].iloc[-1] / data['Book Value'].iloc[-1]\n",
    "\n",
    "print(\"P/B Ratio for\", ticker, \"is\", round(pb_ratio, 2))"
   ]
  },
  {
   "cell_type": "markdown",
   "id": "e36d758a",
   "metadata": {},
   "source": [
    "### Dividend Yield Ratio\n",
    "\n",
    "The dividend yield ratio is calculated by dividing the annual dividend per share by the market price per share. It measures the amount of cash a company pays out to its shareholders relative to its share price.\n",
    "\n",
    "\n"
   ]
  },
  {
   "cell_type": "code",
   "execution_count": 28,
   "id": "d3459fc3",
   "metadata": {},
   "outputs": [
    {
     "name": "stdout",
     "output_type": "stream",
     "text": [
      "Dividend Yield Ratio for AAPL is 0.0\n"
     ]
    }
   ],
   "source": [
    "import pandas as pd\n",
    "import yfinance as yf\n",
    "\n",
    "# Fetching data from Yahoo Finance API\n",
    "ticker = \"AAPL\"\n",
    "data = yf.Ticker(ticker).history(period=\"max\")\n",
    "\n",
    "# Calculating dividend yield ratio\n",
    "dividend_yield = data['Dividends'].iloc[-1] / data['Close'].iloc[-1]\n",
    "\n",
    "print(\"Dividend Yield Ratio for\", ticker, \"is\", round(dividend_yield, 2))"
   ]
  },
  {
   "cell_type": "markdown",
   "id": "7ba4f3eb",
   "metadata": {},
   "source": [
    "Example:\n",
    "If a company pays out an annual dividend of \\\\$4 per share and its market price per share is \\\\$100, then the dividend yield ratio would be 4% (i.e. \\\\$4 / \\\\$100).\n",
    "\n",
    "Conclusion\n",
    "Ratio analysis is a useful tool for investors and analysts to evaluate a company's financial health and value."
   ]
  },
  {
   "cell_type": "markdown",
   "id": "fc36831a",
   "metadata": {},
   "source": [
    "## Citations\n",
    "\n",
    "References:\n",
    "- Investopedia. Net Asset Value (NAV) Definition. Retrieved from https://www.investopedia.com/terms/n/nav.asp\n",
    "- Hirschey, M. (2008). Fundamentals of Managerial Economics. Cengage Learning.\n",
    "- Koller, T., Goedhart, M., & Wessels, D. (2015). Valuation: Measuring and Managing the Value of Companies. John Wiley & Sons.\n",
    "- Damodaran, A. (2016). The Little Book of Valuation: How to Value a Company, Pick a Stock and Profit. John Wiley & Sons.\n",
    "- Bodie, Z., Kane, A., & Marcus, A. (2014). Investments. McGraw Hill."
   ]
  },
  {
   "cell_type": "code",
   "execution_count": null,
   "id": "4a425a8e",
   "metadata": {},
   "outputs": [],
   "source": []
  }
 ],
 "metadata": {
  "kernelspec": {
   "display_name": "Python 3 (ipykernel)",
   "language": "python",
   "name": "python3"
  },
  "language_info": {
   "codemirror_mode": {
    "name": "ipython",
    "version": 3
   },
   "file_extension": ".py",
   "mimetype": "text/x-python",
   "name": "python",
   "nbconvert_exporter": "python",
   "pygments_lexer": "ipython3",
   "version": "3.9.13"
  }
 },
 "nbformat": 4,
 "nbformat_minor": 5
}
