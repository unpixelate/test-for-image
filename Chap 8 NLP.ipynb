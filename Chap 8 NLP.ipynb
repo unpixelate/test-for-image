{
 "cells": [
  {
   "cell_type": "markdown",
   "metadata": {},
   "source": [
    "# Chapter 8 Natural language processing\n",
    "\n",
    "> **Learning outcomes:**\n",
    "> - Represent text data in structured and easy-to-consume formats for machine learning and text mining.\n",
    "> - Perform sentence classifcation tasks on text data.\n",
    "> - Identify important keywords for sentence classification."
   ]
  },
  {
   "cell_type": "markdown",
   "metadata": {},
   "source": [
    "In this chapter, we will explore how Natural Language Processing (NLP) can be applied in the finance industry. We will discuss various use cases, such as sentiment analysis, financial news summarization, and chatbots for customer service. We will also provide real-life Python code examples to help you better understand the application of NLP in finance.\n",
    "\n",
    "## 8.1 Introduction to Natural Language Processing\n",
    "Natural Language Processing (NLP) is a subfield of AI that focuses on the interaction between computers and human languages. It involves the development of algorithms and models that can understand, interpret, and generate human language in a manner that is both meaningful and useful.\n",
    "\n",
    "NLP has numerous applications in the finance industry, including:\n",
    "\n",
    "Sentiment Analysis: Analyzing the sentiment of news articles, social media posts, and other text data to gauge market sentiment and predict its impact on stock prices.\n",
    "Financial News Summarization: Automatically summarizing financial news articles to provide concise and relevant information for decision-making.\n",
    "Chatbots: Developing AI-powered chatbots to handle customer service inquiries, provide investment advice, or execute trades.\n",
    "In the following sections, we will discuss how NLP techniques can be applied in various finance use cases and provide Python code examples to illustrate these concepts.\n",
    "\n",
    "## 8.2 Sentiment Analysis for Finance\n",
    "Sentiment analysis, also known as opinion mining, is an NLP technique used to determine the sentiment or emotion expressed in a piece of text. In finance, sentiment analysis can be used to gauge market sentiment and predict its impact on stock prices or other financial instruments.\n",
    "\n",
    "### 8.2.1 Sentiment Analysis with VADER\n",
    "VADER (Valence Aware Dictionary and sEntiment Reasoner) is a lexicon and rule-based sentiment analysis tool that is specifically attuned to sentiments expressed in social media. In this example, we will use the VADER library to analyze the sentiment of financial news headlines.\n",
    "\n",
    "Valence Aware Dictionary and sEntiment Reasoner (VADER) is a lexicon and rule-based sentiment analysis tool developed by C.J. Hutto and Eric Gilbert. It is specifically designed for analyzing sentiments expressed in social media, where the language can be more informal, and the context can be quite different compared to formal texts.\n",
    "\n",
    "VADER's key components include:\n",
    "\n",
    "VADER Lexicon: The VADER lexicon is a curated list of words, each of which is assigned a sentiment score based on human judgments. The sentiment scores range from -4 (extremely negative) to 4 (extremely positive), with 0 being neutral. The lexicon also considers sentiment intensity (e.g., \"good\" vs. \"excellent\") and includes common emoticons, acronyms, and slang terms that are often used in social media.\n",
    "\n",
    "Heuristic Rules: VADER incorporates a set of heuristic rules to account for various linguistic nuances that affect sentiment interpretation. These rules consider factors such as negations, intensifiers, and the effects of punctuation and capitalization on sentiment intensity.\n",
    "\n",
    "Here's an overview of some of the heuristic rules employed by VADER:\n",
    "\n",
    "- Negation Handling: VADER can detect negations in the text, which can reverse the sentiment polarity of a given word or phrase (e.g., \"not good\" has a negative sentiment instead of positive).\n",
    "- Intensity Modifiers: VADER recognizes words that can modify the intensity of a sentiment (e.g., \"very good\" is more positive than \"good\").\n",
    "- Contrastive Conjunctions: VADER accounts for contrastive conjunctions (e.g., \"but\") that can change the sentiment polarity of a sentence (e.g., \"The movie was great, but the ending was terrible.\").\n",
    "- Punctuation and Capitalization: VADER takes into account the effects of punctuation and capitalization on sentiment intensity. For example, an exclamation mark can amplify the intensity of a sentiment, while using all capital letters can indicate a stronger sentiment (e.g., \"WOW\" vs. \"wow\").\n",
    "\n",
    "VADER processes a given text by tokenizing it into words and phrases, and then calculates a sentiment score for each token based on the lexicon. The heuristic rules are applied to adjust the sentiment scores as needed. Finally, VADER computes the overall sentiment polarity by aggregating the sentiment scores of individual tokens.\n",
    "\n",
    "VADER's output includes the following sentiment metrics:\n",
    "\n",
    "- Positive: The proportion of the text that has a positive sentiment.\n",
    "- Negative: The proportion of the text that has a negative sentiment.\n",
    "- Neutral: The proportion of the text that has a neutral sentiment.\n",
    "- Compound: A single sentiment score that ranges from -1 (extremely negative) to 1 (extremely positive), representing the overall sentiment polarity of the text.\n",
    "\n",
    "It's important to note that VADER is a rule-based sentiment analysis tool and does not use machine learning techniques or require training on labeled data. As a result, it may not be as effective in some contexts or domains that have specific language nuances that VADER's lexicon and heuristic rules do not cover. However, it is particularly useful for sentiment analysis in social media or informal text settings, where traditional machine learning models may struggle with the informal language and context."
   ]
  },
  {
   "cell_type": "code",
   "execution_count": 2,
   "metadata": {},
   "outputs": [
    {
     "name": "stdout",
     "output_type": "stream",
     "text": [
      "Average Sentiment: 0.9555\n"
     ]
    }
   ],
   "source": [
    "# Import necessary libraries\n",
    "import pandas as pd\n",
    "import requests\n",
    "from bs4 import BeautifulSoup\n",
    "from vaderSentiment.vaderSentiment import SentimentIntensityAnalyzer\n",
    "\n",
    "headlines = [\n",
    "    \"Apple Inc. announces record-breaking Q4 earnings, driven by strong iPhone sales.\",\n",
    "    \"AAPL stock soars following successful launch of the new MacBook Pro.\",\n",
    "    \"Apple's iOS 15.2 update brings groundbreaking privacy features and performance improvements.\",\n",
    "    \"Rumors suggest Apple is working on a new augmented reality headset to be released in 2024.\",\n",
    "    \"AAPL faces supply chain challenges amid global chip shortage but remains optimistic for the future.\",\n",
    "    \"Apple expands its presence in the renewable energy sector with a new solar farm partnership.\",\n",
    "    \"Analysts predict Apple's services revenue to double by 2026, as App Store and Apple Music continue to grow.\",\n",
    "    \"Apple wins patent lawsuit against a major competitor, further solidifying its position in the smartphone market.\",\n",
    "    \"Apple Inc. invests in groundbreaking battery technology to extend the life of its devices.\",\n",
    "    \"The latest iPad Pro garners rave reviews, showcasing Apple's innovation in the tablet market.\",\n",
    "]\n",
    "# Initialize VADER sentiment analyzer\n",
    "analyzer = SentimentIntensityAnalyzer()\n",
    "\n",
    "# Analyze the sentiment of the headlines\n",
    "sentiments = []\n",
    "for headline in headlines:\n",
    "    sentiment_score = analyzer.polarity_scores(headlines)\n",
    "    sentiments.append(sentiment_score['compound'])\n",
    "\n",
    "# Calculate the average sentiment\n",
    "average_sentiment = sum(sentiments) / len(sentiments)\n",
    "print(f\"Average Sentiment: {average_sentiment:.4f}\")"
   ]
  },
  {
   "cell_type": "markdown",
   "metadata": {},
   "source": [
    "## 8.3 Financial News Summarization\n",
    "Automatically summarizing financial news articles can help provide concise and relevant information for decision-making. NLP techniques, such as extractive and abstractive summarization, can be used to generate summaries of financial news articles.\n",
    "\n",
    "### 8.3.1 Extractive Summarization\n",
    "Extractive summarization involves selecting the most important sentences from the original text to create a summary. One common approach to extractive summarization is the TextRank algorithm, which is based on the PageRank algorithm used by Google Search.\n",
    "\n",
    "In this example, we will use the bert-extractive-summarizer library's implementation of extractive summarizer to summarize a sample financial news article.\n",
    "\n",
    "First, you will need to install the transformer, torch library if you haven't already:"
   ]
  },
  {
   "cell_type": "code",
   "execution_count": 3,
   "metadata": {},
   "outputs": [
    {
     "name": "stderr",
     "output_type": "stream",
     "text": [
      "Some weights of the model checkpoint at bert-large-uncased were not used when initializing BertModel: ['cls.predictions.bias', 'cls.seq_relationship.weight', 'cls.predictions.decoder.weight', 'cls.seq_relationship.bias', 'cls.predictions.transform.dense.weight', 'cls.predictions.transform.LayerNorm.bias', 'cls.predictions.transform.dense.bias', 'cls.predictions.transform.LayerNorm.weight']\n",
      "- This IS expected if you are initializing BertModel from the checkpoint of a model trained on another task or with another architecture (e.g. initializing a BertForSequenceClassification model from a BertForPreTraining model).\n",
      "- This IS NOT expected if you are initializing BertModel from the checkpoint of a model that you expect to be exactly identical (initializing a BertForSequenceClassification model from a BertForSequenceClassification model).\n"
     ]
    }
   ],
   "source": [
    "\n",
    "!pip install --quiet bert-extractive-summarizer transformers sentencepiece torch\n",
    "\n",
    "\n",
    "# Sample financial news article\n",
    "article = '''\n",
    "Apple Inc., the Cupertino-based multinational technology company, has yet again demonstrated its dominance in the technology sector by announcing record-breaking earnings for the fourth quarter, driven by robust iPhone sales and impressive performance across all its business segments. The company's quarterly revenue reached an all-time high of $111.4 billion, marking a 21% increase year-over-year and the first time Apple's quarterly revenue has surpassed the $100 billion milestone. Earnings per share came in at a remarkable $1.68, significantly exceeding analysts' expectations of $1.41 per share.\n",
    "\n",
    "The iPhone business segment emerged as the primary catalyst for Apple's Q4 success, boasting a 17% increase in revenue compared to the same period last year. This growth can be attributed to the strong demand for the iPhone 13, which has been well-received by consumers worldwide for its advanced features, enhanced battery life, and improved camera capabilities.\n",
    "\n",
    "In addition to its flagship product, Apple also experienced substantial growth in other business segments. The Wearables, Home, and Accessories segment, which includes the popular Apple Watch and AirPods product lines, reported a 30% increase in revenue. Meanwhile, the Services segment, encompassing offerings such as Apple Music, iCloud, and the App Store, saw a 24% increase in revenue.\n",
    "\n",
    "Apple's Mac and iPad segments also performed exceedingly well, with revenue growth of 21% and 41%, respectively. This success can be attributed to the increasing demand for remote work and education solutions, which has spurred consumers to invest in high-quality computing devices and tablets to meet their productivity needs.\n",
    "\n",
    "Despite ongoing supply chain challenges due to the global chip shortage, Apple remains optimistic about its future. The company has ramped up investments in its supply chain, working closely with suppliers to mitigate the impacts of the shortage. During the earnings call, Apple CEO Tim Cook expressed confidence in the company's ability to navigate these challenges, stating that he expects the supply chain issues to improve in the coming months.\n",
    "\n",
    "Looking ahead, Apple's strategic focus is on expanding its services business and exploring new, cutting-edge technologies to maintain its competitive edge. The company has invested in groundbreaking battery technology that promises to revolutionize the electric vehicle industry, fueling speculation about Apple's rumored \"Project Titan\" electric car. Additionally, Apple is said to be working on an augmented reality (AR) headset, expected to be released in 2024, which could potentially redefine the way users interact with digital content.\n",
    "\n",
    "In conclusion, Apple's continued innovation, strong performance across all business segments, and unwavering commitment to addressing supply chain challenges paint a promising picture for the company's future. As the technology giant continues to push the boundaries of what is possible, it is clear that Apple remains a force to be reckoned with in the ever-evolving technology landscape.\n",
    "'''\n",
    "\n",
    "from summarizer import Summarizer\n",
    "\n",
    "model = Summarizer()\n",
    "summary = model(article, num_sentences=3)\n"
   ]
  },
  {
   "cell_type": "markdown",
   "metadata": {},
   "source": [
    "```\n",
    "Apple Inc., the Cupertino-based multinational technology company, has yet again demonstrated its dominance in the technology sector by announcing record-breaking earnings for the fourth quarter, driven by robust iPhone sales and impressive performance across all its business segments. During the earnings call, Apple CEO Tim Cook expressed confidence in the company's ability to navigate these challenges, stating that he expects the supply chain issues to improve in the coming months. As the technology giant continues to push the boundaries of what is possible, it is clear that Apple remains a force to be reckoned with in the ever-evolving technology landscape.\n",
    "```"
   ]
  },
  {
   "cell_type": "markdown",
   "metadata": {},
   "source": [
    "In this example, we provide a sample financial news article about Apple Inc.'s Q4 earnings as a string. The summarize function from the bert library takes the input article and a ratio parameter, which determines the number of sentences to include in the summary. \n",
    "\n",
    "### 8.3.2 Abstractive Summarization\n",
    "Abstractive summarization aims to generate a summary that captures the main ideas of the original text but may use different wording or phrasing. This often requires a deeper understanding of the text and the ability to generate new sentences. Sequence-to-sequence (seq2seq) models, such as those based on the Transformer architecture, have been shown to be effective for abstractive summarization tasks.\n",
    "\n",
    "In this example, we will use the transformers library by Hugging Face to generate an abstractive summary of a sample financial news article. First, you will need to install the transformers library if you haven't already:"
   ]
  },
  {
   "cell_type": "code",
   "execution_count": 4,
   "metadata": {},
   "outputs": [],
   "source": [
    "!pip install transformers --quiet\n"
   ]
  },
  {
   "cell_type": "markdown",
   "metadata": {},
   "source": [
    "Next, here's the Python code to perform abstractive\n",
    "\n",
    "\n",
    "\n"
   ]
  },
  {
   "cell_type": "code",
   "execution_count": 5,
   "metadata": {},
   "outputs": [
    {
     "name": "stderr",
     "output_type": "stream",
     "text": [
      "No model was supplied, defaulted to sshleifer/distilbart-cnn-12-6 and revision a4f8f3e (https://huggingface.co/sshleifer/distilbart-cnn-12-6).\n",
      "Using a pipeline without specifying a model name and revision in production is not recommended.\n"
     ]
    }
   ],
   "source": [
    "from transformers import pipeline\n",
    "\n",
    "# Initialize the summarization pipeline\n",
    "summarizer = pipeline(\"summarization\")\n",
    "\n",
    "# Summarize the article using an abstractive model\n",
    "summary = summarizer(article, max_length=100, min_length=25, do_sample=False)"
   ]
  },
  {
   "cell_type": "markdown",
   "metadata": {},
   "source": [
    "```\n",
    "Apple's quarterly revenue reached an all-time high of $111.4 billion, marking a 21% increase year-over-year . Earnings per share came in at a remarkable $1.68, significantly exceeding analysts' expectations . iPhone sales were the primary catalyst for Apple's Q4 success, boasting a 17% increase in revenue compared to the same period last year .\n",
    "```"
   ]
  },
  {
   "cell_type": "markdown",
   "metadata": {},
   "source": [
    "In this example, we use the pipeline function from the transformers library to create a summarization pipeline. The pipeline takes the input article and generates an abstractive summary using a pre-trained Transformer model.\n",
    "\n",
    "\n",
    "\n",
    "## 8.4 Neural network architecture\n",
    "Now let's elaborate on the seq2seq and Transformer architecture where both Bert and transformers are based on.\n",
    "\n",
    "\n",
    "\n",
    "## 8.4.1 Sequence-to-Sequence (seq2seq) Models\n",
    "\n",
    "Sequence-to-sequence models are a type of neural network architecture used for tasks where the input and output are both sequences, such as text translation, summarization, and captioning. The seq2seq model consists of two main components:\n",
    "\n",
    "- Encoder: The encoder is a neural network, usually a recurrent neural network (RNN) or a Transformer, that processes the input sequence and encodes it into a fixed-size vector representation. The encoder is designed to capture the underlying structure and meaning of the input sequence.\n",
    "\n",
    "- Decoder: The decoder is another neural network, also usually an RNN or a Transformer, that takes the encoded vector from the encoder and generates the output sequence one token at a time. The decoder is trained to predict the next token in the output sequence, given the encoded input and the previously generated tokens.\n",
    "\n",
    "\n",
    "\n",
    "## 8.4.2 Transformer Architecture\n",
    "The Transformer is a type of seq2seq model introduced by Vaswani et al. in the paper \"Attention Is All You Need\" (2017). It was designed to address the limitations of RNN-based seq2seq models, such as their inherently sequential nature and difficulty in capturing long-range dependencies. The Transformer model is built upon the concept of self-attention, which allows it to weigh the importance of different tokens in the input sequence relative to each other.\n",
    "\n",
    "The Transformer architecture consists of an encoder and a decoder, each composed of stacked layers of self-attention and feed-forward neural networks. The encoder processes the input sequence and generates a contextualized representation for each token, while the decoder generates the output sequence by attending to both the encoder's output and its own previously generated tokens.\n",
    "\n",
    "![Alt text](C:/Users/Zheng_/Desktop/Book2/images/chap8/transformer2.jpg)\n",
    "\n",
    "The Transformer architecture has been shown to be highly effective in various NLP tasks, such as machine translation, summarization, and question answering. Since its introduction, the Transformer has become the basis for many state-of-the-art NLP models, including BERT, GPT, and T5.\n",
    "\n",
    "For abstractive summarization, pre-trained Transformer models can be fine-tuned on a dataset of news articles and their corresponding summaries. Once trained, the model can generate summaries for new articles by predicting the most likely sequence of output tokens, given the input article's tokens."
   ]
  },
  {
   "cell_type": "markdown",
   "metadata": {},
   "source": [
    "## 8.5 Practical text analytics\n",
    "\n",
    "Text mining combines both machine learning and natural language processing (NLP) to draw meaning from unstructured text documents. Text mining the driving force behind how a business analyst turns 50,000 hotel guest reviews into specific recommendationsm, how a workforce analyst improves productivity and reduces employee turnover and how companies are automating processes using chat bots.\n",
    "\n",
    "A very popular and current strategy in this field is Vectorized Term Frequency and Inverse Document Frequency (TF-IDF) representation. In fact, google search engine also uses this technique when a word is searched. It is based on unsupervised learning technique. TF-IDF converts your document text into a bag of words and then assigns a weighted term to each word. In this chapter, we will discuss how to use text mining techniques to get meaningful results for text classification."
   ]
  },
  {
   "cell_type": "markdown",
   "metadata": {},
   "source": [
    "### 8.5.1 Data preprocessing"
   ]
  },
  {
   "cell_type": "code",
   "execution_count": 9,
   "metadata": {},
   "outputs": [],
   "source": [
    "import pandas as pd\n",
    " \n",
    "#this assumes one json item per line in json file\n",
    "df=pd.read_json(\"TFIDF_news.json\", lines=True)"
   ]
  },
  {
   "cell_type": "code",
   "execution_count": 10,
   "metadata": {},
   "outputs": [
    {
     "data": {
      "text/plain": [
       "short_description            object\n",
       "headline                     object\n",
       "date                 datetime64[ns]\n",
       "link                         object\n",
       "authors                      object\n",
       "category                     object\n",
       "dtype: object"
      ]
     },
     "execution_count": 10,
     "metadata": {},
     "output_type": "execute_result"
    }
   ],
   "source": [
    "df.dtypes"
   ]
  },
  {
   "cell_type": "code",
   "execution_count": 11,
   "metadata": {},
   "outputs": [
    {
     "data": {
      "text/plain": [
       "124989"
      ]
     },
     "execution_count": 11,
     "metadata": {},
     "output_type": "execute_result"
    }
   ],
   "source": [
    "#number of rows (datapoints)\n",
    "len(df)"
   ]
  },
  {
   "cell_type": "code",
   "execution_count": 12,
   "metadata": {},
   "outputs": [
    {
     "data": {
      "text/html": [
       "<div>\n",
       "<style scoped>\n",
       "    .dataframe tbody tr th:only-of-type {\n",
       "        vertical-align: middle;\n",
       "    }\n",
       "\n",
       "    .dataframe tbody tr th {\n",
       "        vertical-align: top;\n",
       "    }\n",
       "\n",
       "    .dataframe thead th {\n",
       "        text-align: right;\n",
       "    }\n",
       "</style>\n",
       "<table border=\"1\" class=\"dataframe\">\n",
       "  <thead>\n",
       "    <tr style=\"text-align: right;\">\n",
       "      <th></th>\n",
       "      <th>short_description</th>\n",
       "      <th>headline</th>\n",
       "      <th>date</th>\n",
       "      <th>link</th>\n",
       "      <th>authors</th>\n",
       "      <th>category</th>\n",
       "    </tr>\n",
       "  </thead>\n",
       "  <tbody>\n",
       "    <tr>\n",
       "      <th>34779</th>\n",
       "      <td>Like what you read below? Sign up for HUFFPOST...</td>\n",
       "      <td>HUFFPOST HILL - Have *You* Been Injured By A F...</td>\n",
       "      <td>2017-02-10</td>\n",
       "      <td>https://www.huffingtonpost.com/entry/huffpost-...</td>\n",
       "      <td>Eliot Nelson and Jeffrey Young</td>\n",
       "      <td>POLITICS</td>\n",
       "    </tr>\n",
       "    <tr>\n",
       "      <th>105022</th>\n",
       "      <td></td>\n",
       "      <td>How To Be Healthy In Under A Minute</td>\n",
       "      <td>2014-12-03</td>\n",
       "      <td>https://www.huffingtonpost.com/entry/quick-hea...</td>\n",
       "      <td>Mallory Moyer</td>\n",
       "      <td>HEALTHY LIVING</td>\n",
       "    </tr>\n",
       "    <tr>\n",
       "      <th>88237</th>\n",
       "      <td>Kurt Cobain's raspy vocals seemed to bellow fr...</td>\n",
       "      <td>'Soaked In Bleach': The Mysterious Death Of Ku...</td>\n",
       "      <td>2015-06-15</td>\n",
       "      <td>https://www.huffingtonpost.com/entry/the-myste...</td>\n",
       "      <td>Patrick Pitu, ContributorActor, Artist.</td>\n",
       "      <td>ENTERTAINMENT</td>\n",
       "    </tr>\n",
       "  </tbody>\n",
       "</table>\n",
       "</div>"
      ],
      "text/plain": [
       "                                        short_description  \\\n",
       "34779   Like what you read below? Sign up for HUFFPOST...   \n",
       "105022                                                      \n",
       "88237   Kurt Cobain's raspy vocals seemed to bellow fr...   \n",
       "\n",
       "                                                 headline       date  \\\n",
       "34779   HUFFPOST HILL - Have *You* Been Injured By A F... 2017-02-10   \n",
       "105022                How To Be Healthy In Under A Minute 2014-12-03   \n",
       "88237   'Soaked In Bleach': The Mysterious Death Of Ku... 2015-06-15   \n",
       "\n",
       "                                                     link  \\\n",
       "34779   https://www.huffingtonpost.com/entry/huffpost-...   \n",
       "105022  https://www.huffingtonpost.com/entry/quick-hea...   \n",
       "88237   https://www.huffingtonpost.com/entry/the-myste...   \n",
       "\n",
       "                                        authors        category  \n",
       "34779            Eliot Nelson and Jeffrey Young        POLITICS  \n",
       "105022                            Mallory Moyer  HEALTHY LIVING  \n",
       "88237   Patrick Pitu, ContributorActor, Artist.   ENTERTAINMENT  "
      ]
     },
     "execution_count": 12,
     "metadata": {},
     "output_type": "execute_result"
    }
   ],
   "source": [
    "# Take sample of 3 to view the data\n",
    "df.sample(3)"
   ]
  },
  {
   "cell_type": "markdown",
   "metadata": {},
   "source": [
    "Articles are between July 2014 and July 2018"
   ]
  },
  {
   "cell_type": "code",
   "execution_count": 13,
   "metadata": {},
   "outputs": [
    {
     "data": {
      "text/plain": [
       "<AxesSubplot:>"
      ]
     },
     "execution_count": 13,
     "metadata": {},
     "output_type": "execute_result"
    },
    {
     "data": {
      "image/png": "[encoded data removed]",
      "text/plain": [
       "<Figure size 1200x600 with 1 Axes>"
      ]
     },
     "metadata": {},
     "output_type": "display_data"
    }
   ],
   "source": [
    "df.date.hist(figsize=(12,6),color='#86bf91',)\n"
   ]
  },
  {
   "cell_type": "markdown",
   "metadata": {},
   "source": [
    "\n",
    "In our data, there are a total of 31 categories."
   ]
  },
  {
   "cell_type": "code",
   "execution_count": 14,
   "metadata": {},
   "outputs": [
    {
     "data": {
      "text/plain": [
       "31"
      ]
     },
     "execution_count": 14,
     "metadata": {},
     "output_type": "execute_result"
    }
   ],
   "source": [
    "len(set(df['category'].values))"
   ]
  },
  {
   "cell_type": "markdown",
   "metadata": {},
   "source": [
    "\n",
    "Most of the articles are related to politics. Education related articles have the lowest volume."
   ]
  },
  {
   "cell_type": "code",
   "execution_count": 15,
   "metadata": {},
   "outputs": [
    {
     "data": {
      "text/plain": [
       "<AxesSubplot:>"
      ]
     },
     "execution_count": 15,
     "metadata": {},
     "output_type": "execute_result"
    },
    {
     "data": {
      "image/png": "[encoded data removed]",
      "text/plain": [
       "<Figure size 640x480 with 1 Axes>"
      ]
     },
     "metadata": {},
     "output_type": "display_data"
    }
   ],
   "source": [
    "import matplotlib\n",
    "import numpy as np\n",
    "cmap = matplotlib.cm.get_cmap('Spectral')\n",
    "rgba = [cmap(i) for i in np.linspace(0,1,len(set(df['category'].values)))]\n",
    "df['category'].value_counts().plot(kind='bar',color =rgba)"
   ]
  },
  {
   "cell_type": "markdown",
   "metadata": {},
   "source": [
    "\n",
    "In our example, we will only use the headline to predict category. Also, we will only be using 2 categories sports and crime for simplicity. Notice that we are using `CRIME` and `COMDEDY` categories from our dataset."
   ]
  },
  {
   "cell_type": "code",
   "execution_count": 16,
   "metadata": {
    "tags": []
   },
   "outputs": [
    {
     "name": "stdout",
     "output_type": "stream",
     "text": [
      "(6864, 6)\n"
     ]
    },
    {
     "data": {
      "text/plain": [
       "<AxesSubplot:>"
      ]
     },
     "execution_count": 16,
     "metadata": {},
     "output_type": "execute_result"
    },
    {
     "data": {
      "image/png": "[encoded data removed]",
      "text/plain": [
       "<Figure size 640x480 with 1 Axes>"
      ]
     },
     "metadata": {},
     "output_type": "display_data"
    }
   ],
   "source": [
    "df_orig=df.copy()\n",
    "df = df_orig[df_orig['category'].isin(['CRIME','COMEDY'])]\n",
    "print(df.shape)\n",
    "df.head()\n",
    "df = df.loc[:, ['headline','category']]\n",
    "df['category'].value_counts().plot(kind='bar',color =['r','b'])"
   ]
  },
  {
   "cell_type": "markdown",
   "metadata": {},
   "source": [
    "### 8.5.2 Vectorization methods\n",
    "\n",
    "Text Vectorization is the process of converting text into numerical representation.\n",
    "\n",
    "- Binary Term Frequency\n",
    "- Bag of Words (BoW) Term Frequency\n",
    "- (L1) Normalized Term Frequency\n",
    "- (L2) Normalized TF-IDF\n",
    "- Word2Vec\n",
    "\n",
    "**Binary Term Frequency**\n",
    "\n",
    "Binary Term Frequency captures presence (1) or absence (0) of term in document. For this part, under TfidfVectorizer, we set binary parameter equal to true so that it can show just presence  or absence.\n",
    "\n",
    "**Bag of Words (BoW) Term Frequency**\n",
    "\n",
    "Bag of Words (BoW) Term Frequency captures frequency of term in document. Under TfidfVectorizer, we set binary parameter equal to false so that it can show the actual frequency of the term and norm parameter equal to none.\n",
    "\n",
    "The following code is an example of Bag of Words Term Frequency:"
   ]
  },
  {
   "cell_type": "code",
   "execution_count": 17,
   "metadata": {},
   "outputs": [
    {
     "data": {
      "text/html": [
       "<div>\n",
       "<style scoped>\n",
       "    .dataframe tbody tr th:only-of-type {\n",
       "        vertical-align: middle;\n",
       "    }\n",
       "\n",
       "    .dataframe tbody tr th {\n",
       "        vertical-align: top;\n",
       "    }\n",
       "\n",
       "    .dataframe thead th {\n",
       "        text-align: right;\n",
       "    }\n",
       "</style>\n",
       "<table border=\"1\" class=\"dataframe\">\n",
       "  <thead>\n",
       "    <tr style=\"text-align: right;\">\n",
       "      <th></th>\n",
       "      <th>am</th>\n",
       "      <th>boy</th>\n",
       "      <th>hello</th>\n",
       "      <th>is</th>\n",
       "      <th>jill</th>\n",
       "      <th>my</th>\n",
       "      <th>name</th>\n",
       "      <th>student</th>\n",
       "    </tr>\n",
       "  </thead>\n",
       "  <tbody>\n",
       "    <tr>\n",
       "      <th>0</th>\n",
       "      <td>1</td>\n",
       "      <td>1</td>\n",
       "      <td>1</td>\n",
       "      <td>0</td>\n",
       "      <td>0</td>\n",
       "      <td>0</td>\n",
       "      <td>0</td>\n",
       "      <td>0</td>\n",
       "    </tr>\n",
       "    <tr>\n",
       "      <th>1</th>\n",
       "      <td>1</td>\n",
       "      <td>0</td>\n",
       "      <td>1</td>\n",
       "      <td>0</td>\n",
       "      <td>0</td>\n",
       "      <td>0</td>\n",
       "      <td>0</td>\n",
       "      <td>1</td>\n",
       "    </tr>\n",
       "    <tr>\n",
       "      <th>2</th>\n",
       "      <td>0</td>\n",
       "      <td>0</td>\n",
       "      <td>0</td>\n",
       "      <td>1</td>\n",
       "      <td>1</td>\n",
       "      <td>1</td>\n",
       "      <td>1</td>\n",
       "      <td>0</td>\n",
       "    </tr>\n",
       "  </tbody>\n",
       "</table>\n",
       "</div>"
      ],
      "text/plain": [
       "   am  boy  hello  is  jill  my  name  student\n",
       "0   1    1      1   0     0   0     0        0\n",
       "1   1    0      1   0     0   0     0        1\n",
       "2   0    0      0   1     1   1     1        0"
      ]
     },
     "execution_count": 17,
     "metadata": {},
     "output_type": "execute_result"
    }
   ],
   "source": [
    "from sklearn.feature_extraction.text import CountVectorizer\n",
    "\n",
    "sample_doc = [\"Hello I am a boy\", \"Hello I am a student\", \"My name is Jill\"]\n",
    "cv=CountVectorizer(max_df=0.85)\n",
    "word_count_vector=cv.fit_transform(sample_doc)\n",
    "word_count_vector_arr = word_count_vector.toarray()\n",
    "pd.DataFrame(word_count_vector_arr,columns=sorted(cv.vocabulary_, key=cv.vocabulary_.get))"
   ]
  },
  {
   "cell_type": "markdown",
   "metadata": {},
   "source": [
    "An important note is the vocabulary is placed in a dictionary and `python` dictionaries are unsorted. Notice that the header in the following code is different from the first example.\n",
    "\n",
    "\n"
   ]
  },
  {
   "cell_type": "code",
   "execution_count": 18,
   "metadata": {},
   "outputs": [
    {
     "data": {
      "text/html": [
       "<div>\n",
       "<style scoped>\n",
       "    .dataframe tbody tr th:only-of-type {\n",
       "        vertical-align: middle;\n",
       "    }\n",
       "\n",
       "    .dataframe tbody tr th {\n",
       "        vertical-align: top;\n",
       "    }\n",
       "\n",
       "    .dataframe thead th {\n",
       "        text-align: right;\n",
       "    }\n",
       "</style>\n",
       "<table border=\"1\" class=\"dataframe\">\n",
       "  <thead>\n",
       "    <tr style=\"text-align: right;\">\n",
       "      <th></th>\n",
       "      <th>hello</th>\n",
       "      <th>am</th>\n",
       "      <th>boy</th>\n",
       "      <th>student</th>\n",
       "      <th>my</th>\n",
       "      <th>name</th>\n",
       "      <th>is</th>\n",
       "      <th>jill</th>\n",
       "    </tr>\n",
       "  </thead>\n",
       "  <tbody>\n",
       "    <tr>\n",
       "      <th>0</th>\n",
       "      <td>1</td>\n",
       "      <td>1</td>\n",
       "      <td>1</td>\n",
       "      <td>0</td>\n",
       "      <td>0</td>\n",
       "      <td>0</td>\n",
       "      <td>0</td>\n",
       "      <td>0</td>\n",
       "    </tr>\n",
       "    <tr>\n",
       "      <th>1</th>\n",
       "      <td>1</td>\n",
       "      <td>0</td>\n",
       "      <td>1</td>\n",
       "      <td>0</td>\n",
       "      <td>0</td>\n",
       "      <td>0</td>\n",
       "      <td>0</td>\n",
       "      <td>1</td>\n",
       "    </tr>\n",
       "    <tr>\n",
       "      <th>2</th>\n",
       "      <td>0</td>\n",
       "      <td>0</td>\n",
       "      <td>0</td>\n",
       "      <td>1</td>\n",
       "      <td>1</td>\n",
       "      <td>1</td>\n",
       "      <td>1</td>\n",
       "      <td>0</td>\n",
       "    </tr>\n",
       "  </tbody>\n",
       "</table>\n",
       "</div>"
      ],
      "text/plain": [
       "   hello  am  boy  student  my  name  is  jill\n",
       "0      1   1    1        0   0     0   0     0\n",
       "1      1   0    1        0   0     0   0     1\n",
       "2      0   0    0        1   1     1   1     0"
      ]
     },
     "execution_count": 18,
     "metadata": {},
     "output_type": "execute_result"
    }
   ],
   "source": [
    "## Wrong example\n",
    "pd.DataFrame(word_count_vector_arr,columns=cv.vocabulary_)"
   ]
  },
  {
   "cell_type": "markdown",
   "metadata": {},
   "source": [
    "This is because of dictionary in python. See below: "
   ]
  },
  {
   "cell_type": "code",
   "execution_count": 19,
   "metadata": {},
   "outputs": [
    {
     "data": {
      "text/plain": [
       "{'hello': 2,\n",
       " 'am': 0,\n",
       " 'boy': 1,\n",
       " 'student': 7,\n",
       " 'my': 5,\n",
       " 'name': 6,\n",
       " 'is': 3,\n",
       " 'jill': 4}"
      ]
     },
     "execution_count": 19,
     "metadata": {},
     "output_type": "execute_result"
    }
   ],
   "source": [
    "cv.vocabulary_"
   ]
  },
  {
   "cell_type": "markdown",
   "metadata": {},
   "source": [
    "Let's move on to our code example. Now, let's look at 10 words from our vocabulary. We have also removed words that appear in 95% of documents. In text analytics, such words (stop words) are not meaningful. A intuitive approach to understanding removal of stop words is that in a sentence, many words are present because of grammatical rules and do not add extra content or meaning. Ignoring such words would allow us to distill the key essence of a document and sentence. Sweet, after removing stop words by having `maxdf=0.95`, our key words are mostly crime and comedy related."
   ]
  },
  {
   "cell_type": "code",
   "execution_count": 20,
   "metadata": {},
   "outputs": [
    {
     "data": {
      "text/plain": [
       "['there',\n",
       " 'were',\n",
       " 'mass',\n",
       " 'shootings',\n",
       " 'in',\n",
       " 'texas',\n",
       " 'last',\n",
       " 'week',\n",
       " 'but',\n",
       " 'only']"
      ]
     },
     "execution_count": 20,
     "metadata": {},
     "output_type": "execute_result"
    }
   ],
   "source": [
    "from sklearn.feature_extraction.text import CountVectorizer\n",
    "docs=df['headline'].tolist()\n",
    "# create a vocabulary of words, \n",
    "# ignore words that appear in 85% of documents, \n",
    "# eliminate stop words\n",
    "cv=CountVectorizer(max_df=0.95)\n",
    "word_count_vector=cv.fit_transform(docs)\n",
    "list(cv.vocabulary_.keys())[:10]"
   ]
  },
  {
   "cell_type": "markdown",
   "metadata": {},
   "source": [
    "We can also use machine learning models learnt previously to classify our headlines! See code below:"
   ]
  },
  {
   "cell_type": "code",
   "execution_count": 21,
   "metadata": {},
   "outputs": [],
   "source": [
    "from sklearn.feature_extraction.text import TfidfTransformer\n",
    "from sklearn.model_selection import train_test_split\n",
    "from sklearn.linear_model import LogisticRegression\n",
    "from sklearn.metrics import confusion_matrix\n",
    "\n",
    "df['category_is_crime'] = df['category']=='CRIME'\n",
    "X_train, X_test, y_train, y_test = train_test_split(word_count_vector, df['category_is_crime'], test_size=0.2, random_state=42)"
   ]
  },
  {
   "cell_type": "markdown",
   "metadata": {},
   "source": [
    "Wow, we achieve 95.19% in classifying headlines. This is an remarkable feat for our machine!"
   ]
  },
  {
   "cell_type": "code",
   "execution_count": 22,
   "metadata": {
    "tags": []
   },
   "outputs": [
    {
     "name": "stdout",
     "output_type": "stream",
     "text": [
      "[[766  26]\n",
      " [ 40 541]]\n",
      "Accuracy of a simple linear model with TFIDF is .... 95.19%\n"
     ]
    }
   ],
   "source": [
    "model1 = LogisticRegression()\n",
    "model1.fit(X_train, y_train)\n",
    "\n",
    "y_pred = model1.predict(X_test)\n",
    "cm=confusion_matrix(y_test, y_pred)\n",
    "print(cm)\n",
    "acc=(cm[0,0]+cm[1,1])/sum(sum(cm))\n",
    "print('Accuracy of a simple linear model with TFIDF is .... {:.2f}%'.format(acc*100))"
   ]
  },
  {
   "cell_type": "code",
   "execution_count": 23,
   "metadata": {
    "tags": []
   },
   "outputs": [
    {
     "name": "stdout",
     "output_type": "stream",
     "text": [
      "[[777  15]\n",
      " [ 57 524]]\n",
      "Accuracy of a simple linear model with TFIDF is .... 94.76%\n"
     ]
    }
   ],
   "source": [
    "tfidf_transformer=TfidfTransformer(smooth_idf=True,use_idf=True)\n",
    "tfidf_x_train = tfidf_transformer.fit_transform(X_train)\n",
    "model1 = LogisticRegression()\n",
    "model1.fit(tfidf_x_train, y_train)\n",
    "tfidf_x_test = tfidf_transformer.transform(X_test)\n",
    "y_pred = model1.predict(tfidf_x_test)\n",
    "cm=confusion_matrix(y_test, y_pred)\n",
    "print(cm)\n",
    "acc=(cm[0,0]+cm[1,1])/sum(sum(cm))\n",
    "print('Accuracy of a simple linear model with TFIDF is .... {:.2f}%'.format(acc*100))"
   ]
  },
  {
   "cell_type": "markdown",
   "metadata": {},
   "source": [
    "### 8.5.3 Feature extraction with TF-IDF\n",
    "\n",
    "Apart from text classification, we can use TF-IDF to discover \"important\" keywords. Here is a few example that shows the importance of each individual word. Such technique is simple and easy to use. But on a cautionary note, using TF-IDF is heavily dependent on the input data and the importance of the text is closely related to the frequency in the document and across the entire data."
   ]
  },
  {
   "cell_type": "code",
   "execution_count": 24,
   "metadata": {
    "tags": []
   },
   "outputs": [
    {
     "name": "stdout",
     "output_type": "stream",
     "text": [
      "Rachel Dolezal Faces Felony Charges For Welfare Fraud\n"
     ]
    },
    {
     "name": "stderr",
     "output_type": "stream",
     "text": [
      "C:\\Users\\Zheng_\\anaconda3\\lib\\site-packages\\sklearn\\utils\\deprecation.py:87: FutureWarning: Function get_feature_names is deprecated; get_feature_names is deprecated in 1.0 and will be removed in 1.2. Please use get_feature_names_out instead.\n",
      "  warnings.warn(msg, category=FutureWarning)\n"
     ]
    },
    {
     "data": {
      "text/plain": [
       "[('welfare', 0.413332601468908),\n",
       " ('felony', 0.413332601468908),\n",
       " ('dolezal', 0.413332601468908),\n",
       " ('rachel', 0.3885287853920158),\n",
       " ('fraud', 0.3599880238280249),\n",
       " ('faces', 0.3103803916742406),\n",
       " ('charges', 0.2954500640160872),\n",
       " ('for', 0.15262948420298186)]"
      ]
     },
     "execution_count": 24,
     "metadata": {},
     "output_type": "execute_result"
    }
   ],
   "source": [
    "## Important keywords extraction using tfidf\n",
    "print(df.iloc[1].headline)\n",
    "vector = cv.transform([df.iloc[1].headline])\n",
    "tfidf_vector = tfidf_transformer.transform(vector)\n",
    "coo_matrix = tfidf_vector.tocoo()\n",
    "tuples = zip(coo_matrix.col, coo_matrix.data)\n",
    "sorted_tuple = sorted(tuples, key=lambda x: (x[1], x[0]), reverse=True)\n",
    "[(cv.get_feature_names()[i[0]],i[1]) for i in sorted_tuple]"
   ]
  },
  {
   "cell_type": "code",
   "execution_count": 25,
   "metadata": {
    "tags": []
   },
   "outputs": [
    {
     "name": "stdout",
     "output_type": "stream",
     "text": [
      "Man Faces Charges After Pulling Knife, Stun Gun On Muslim Students At McDonald's\n"
     ]
    },
    {
     "data": {
      "text/plain": [
       "[('stun', 0.37604716794652987),\n",
       " ('pulling', 0.3658447343442784),\n",
       " ('knife', 0.32581708572483403),\n",
       " ('mcdonald', 0.32215742177499496),\n",
       " ('students', 0.30480662832662847),\n",
       " ('faces', 0.2922589939460096),\n",
       " ('muslim', 0.28707744879148683),\n",
       " ('charges', 0.27820036570239326),\n",
       " ('gun', 0.24718607863715278),\n",
       " ('at', 0.17925932409191916),\n",
       " ('after', 0.17428789091260877),\n",
       " ('man', 0.17199120825269787),\n",
       " ('on', 0.15323370190782204)]"
      ]
     },
     "execution_count": 25,
     "metadata": {},
     "output_type": "execute_result"
    }
   ],
   "source": [
    "## Important keywords extraction using tfidf\n",
    "print(df.iloc[5].headline)\n",
    "vector = cv.transform([df.iloc[5].headline])\n",
    "tfidf_vector = tfidf_transformer.transform(vector)\n",
    "coo_matrix = tfidf_vector.tocoo()\n",
    "tuples = zip(coo_matrix.col, coo_matrix.data)\n",
    "sorted_tuple = sorted(tuples, key=lambda x: (x[1], x[0]), reverse=True)\n",
    "[(cv.get_feature_names()[i[0]],i[1]) for i in sorted_tuple]"
   ]
  },
  {
   "cell_type": "code",
   "execution_count": 26,
   "metadata": {
    "tags": []
   },
   "outputs": [
    {
     "name": "stdout",
     "output_type": "stream",
     "text": [
      "Trump's New 'MAGA'-Themed Swimwear Sinks On Twitter\n"
     ]
    }
   ],
   "source": [
    "comedy_1 = df[~df['category_is_crime']].iloc[0].headline\n",
    "print(comedy_1)"
   ]
  },
  {
   "cell_type": "code",
   "execution_count": 27,
   "metadata": {},
   "outputs": [],
   "source": [
    "## Important keywords extraction using tfidf\n",
    "vector = cv.transform([comedy_1])\n",
    "tfidf_vector = tfidf_transformer.transform(vector)\n",
    "coo_matrix = tfidf_vector.tocoo()\n",
    "tuples = zip(coo_matrix.col, coo_matrix.data)\n",
    "sorted_tuple = sorted(tuples, key=lambda x: (x[1], x[0]), reverse=True)\n",
    "data = [(cv.get_feature_names()[i[0]],i[1]) for i in sorted_tuple]"
   ]
  },
  {
   "cell_type": "markdown",
   "metadata": {},
   "source": [
    "Here's a step-by-step explanation of the code:\n",
    "\n",
    "```vector = cv.transform([comedy_1]):``` This line transforms the input text document (comedy_1) into a bag-of-words representation using the CountVectorizer object (cv). The transform() method creates a sparse matrix where each row represents the input document and each column corresponds to a unique word in the vocabulary. The matrix's elements are the term frequencies (i.e., the number of times each word appears in the document).\n",
    "\n",
    "```tfidf_vector = tfidf_transformer.transform(vector):``` This line takes the term frequency matrix (vector) and transforms it into a TF-IDF representation using the TfidfTransformer object (tfidf_transformer). The resulting tfidf_vector is a sparse matrix containing the TF-IDF values for each word in the input document.\n",
    "\n",
    "```coo_matrix = tfidf_vector.tocoo():``` This line converts the TF-IDF sparse matrix into a Coordinate List (COO) format, which is a more efficient representation for sparse matrices that allows easy iteration over non-zero elements.\n",
    "\n",
    "```tuples = zip(coo_matrix.col, coo_matrix.data): ```This line creates tuples (pairs) of column indices and corresponding non-zero TF-IDF values from the COO matrix.\n",
    "\n",
    "```sorted_tuple = sorted(tuples, key=lambda x: (x[1], x[0]), reverse=True):``` This line sorts the tuples in descending order of TF-IDF values (and ascending order of column indices in case of ties). The sorted tuples represent the most important keywords in the document.\n",
    "\n",
    "```[(cv.get_feature_names()[i[0]],i[1]) for i in sorted_tuple]:``` This line generates a list of keyword-TF-IDF value pairs, where the keywords are obtained by mapping the column indices back to their corresponding words using the get_feature_names() method of the CountVectorizer object (cv). The output list contains the important keywords and their respective TF-IDF values, sorted in descending order of importance.\n",
    "\n"
   ]
  },
  {
   "cell_type": "code",
   "execution_count": 29,
   "metadata": {},
   "outputs": [
    {
     "data": {
      "image/png": "[encoded data removed]",
      "text/plain": [
       "<Figure size 640x480 with 1 Axes>"
      ]
     },
     "metadata": {},
     "output_type": "display_data"
    }
   ],
   "source": [
    "from matplotlib import pyplot as plt\n",
    "keywords, tfidf_values = zip(*data)\n",
    "\n",
    "# Generate the horizontal bar chart\n",
    "plt.barh(keywords, tfidf_values)\n",
    "plt.xlabel('TF-IDF Value')\n",
    "plt.title('Important Keywords and Their TF-IDF Values')\n",
    "plt.gca().invert_yaxis()  # Invert the y-axis to show keywords in descending order of importance\n",
    "plt.show()"
   ]
  },
  {
   "cell_type": "code",
   "execution_count": null,
   "metadata": {},
   "outputs": [],
   "source": []
  }
 ],
 "metadata": {
  "kernelspec": {
   "display_name": "Python 3 (ipykernel)",
   "language": "python",
   "name": "python3"
  },
  "language_info": {
   "codemirror_mode": {
    "name": "ipython",
    "version": 3
   },
   "file_extension": ".py",
   "mimetype": "text/x-python",
   "name": "python",
   "nbconvert_exporter": "python",
   "pygments_lexer": "ipython3",
   "version": "3.9.13"
  }
 },
 "nbformat": 4,
 "nbformat_minor": 2
}
